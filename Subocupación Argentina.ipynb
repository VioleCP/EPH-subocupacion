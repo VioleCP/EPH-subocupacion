{
 "cells": [
  {
   "cell_type": "markdown",
   "id": "46f1a275",
   "metadata": {},
   "source": [
    "# Análisis de la subocupación en Argentina 1er trimestre 2021\n",
    "**Por Violeta Carrera Pereyra** \n",
    "\n",
    "\n",
    "## Objetivo\n",
    "Ponerse tres preguntas\n",
    "- ZONAS GEOGRAFICAS\n",
    "- SEXO/NIVEL EDUCATIVO\n",
    "- TEMPORAL? (´COMO CAMBIO CON PANDEMIA) -- NEC JUNTAR DATASETS PRE PANDEMIA (2017-2021) son 15 datasets en total DUDAS \n",
    "\n",
    "## Tabla de contenidos\n",
    "1. Carga de datos\n",
    "2. Exploración de datos\n",
    "3. Limpieza de datos\n",
    "4. Presentación de datos\n",
    "5. Conclusiones\n",
    "6. Referencias\n",
    "\n",
    "\n",
    "\n"
   ]
  },
  {
   "cell_type": "markdown",
   "id": "4350ed24",
   "metadata": {},
   "source": [
    "# 1. Carga de datos\n",
    "PONER QUÉ VAMOS A HACER\n"
   ]
  },
  {
   "cell_type": "code",
   "execution_count": null,
   "id": "11ac6d89",
   "metadata": {},
   "outputs": [],
   "source": [
    "#IMPORAR LIBRERIAS"
   ]
  },
  {
   "cell_type": "code",
   "execution_count": null,
   "id": "c6d401b4",
   "metadata": {},
   "outputs": [],
   "source": [
    "#importar datos"
   ]
  },
  {
   "cell_type": "markdown",
   "id": "e9374376",
   "metadata": {},
   "source": [
    "# 2. Exploración de datos\n",
    "Vamos a revisar los datos que hemos cargado (arrancar con sample, info, unique. min, max etc). Podemos tmb hacer gráficos"
   ]
  },
  {
   "cell_type": "markdown",
   "id": "ae9d9b81",
   "metadata": {},
   "source": [
    "*nombre de primer set de datos* (hago todo con código) "
   ]
  },
  {
   "cell_type": "markdown",
   "id": "82021d18",
   "metadata": {},
   "source": [
    "Conclusión de análisis de ese data set"
   ]
  },
  {
   "cell_type": "markdown",
   "id": "4f5968d2",
   "metadata": {},
   "source": [
    "*nombre de segundo dataset* etc"
   ]
  },
  {
   "cell_type": "markdown",
   "id": "e9604e22",
   "metadata": {},
   "source": [
    "# 3. Limpieza de datos \n",
    "Limpieza de datos (llenar valores nulos -cómo- / poner nombre a valores/recategorizar)\n",
    " CODIGO\n",
    " CONCLUSIÓN --> NOS QUEDO ASI Y ASA EL DATA SET LIMPIO\n",
    " GUARDAR DATASETLIMPIO\n",
    " pd.save_csv(\"data/nombre_nuevo\"). Así proxima vez ya puedo trabajar sobre este y no tengo que run all"
   ]
  },
  {
   "cell_type": "markdown",
   "id": "88db9be0",
   "metadata": {},
   "source": [
    "# 4. Presentación de datos\n",
    "Vamos a presetar nuestros datos para responder las preguntas definidas en el objetivo del análisis. Poner gráficos y poner qué nos van diciendo "
   ]
  },
  {
   "cell_type": "markdown",
   "id": "c99b1cdb",
   "metadata": {},
   "source": [
    "# 5 Conclusiones, qué estaba buscando, qué encontres "
   ]
  },
  {
   "cell_type": "markdown",
   "id": "3b50f00f",
   "metadata": {},
   "source": [
    "# 6 Referencias\n",
    "links a recursos que utilizamos y que nos sirvieron para análisis"
   ]
  }
 ],
 "metadata": {
  "kernelspec": {
   "display_name": "Python 3",
   "language": "python",
   "name": "python3"
  },
  "language_info": {
   "codemirror_mode": {
    "name": "ipython",
    "version": 3
   },
   "file_extension": ".py",
   "mimetype": "text/x-python",
   "name": "python",
   "nbconvert_exporter": "python",
   "pygments_lexer": "ipython3",
   "version": "3.8.8"
  }
 },
 "nbformat": 4,
 "nbformat_minor": 5
}
