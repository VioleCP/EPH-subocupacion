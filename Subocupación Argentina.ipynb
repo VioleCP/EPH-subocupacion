{
 "cells": [
  {
   "cell_type": "markdown",
   "id": "46f1a275",
   "metadata": {},
   "source": [
    "# Análisis de la subocupación en Argentina 1er trimestre 2021\n",
    "**Por Violeta Carrera Pereyra** \n",
    "\n",
    "\n",
    "## Objetivo\n",
    "Ponerse tres preguntas\n",
    "- ZONAS GEOGRAFICAS\n",
    "- SEXO/NIVEL EDUCATIVO\n",
    "- TEMPORAL? (´COMO CAMBIO CON PANDEMIA) -- NEC JUNTAR DATASETS PRE PANDEMIA (2017-2021) son 15 datasets en total DUDAS \n",
    "\n",
    "## Tabla de contenidos\n",
    "1. Carga de datos\n",
    "2. Exploración de datos\n",
    "3. Limpieza de datos\n",
    "4. Presentación de datos\n",
    "5. Conclusiones\n",
    "6. Referencias\n",
    "\n",
    "\n",
    "\n"
   ]
  },
  {
   "cell_type": "markdown",
   "id": "4350ed24",
   "metadata": {},
   "source": [
    "# 1. Carga de datos\n",
    "Carga de la base (Encuesta Permanente de Hogares del INDEC primer trimestre del 2021) y recorte de las columnas con las que se trabajará.\n",
    "\n"
   ]
  },
  {
   "cell_type": "code",
   "execution_count": 1,
   "id": "11ac6d89",
   "metadata": {},
   "outputs": [],
   "source": [
    "#Importar librerias\n",
    "import pandas as pd\n",
    "import numpy as np\n",
    "import seaborn as sns\n",
    "import matplotlib.pyplot as plt \n",
    "%matplotlib inline\n",
    "from matplotlib import style\n",
    "import seaborn as sns\n"
   ]
  },
  {
   "cell_type": "code",
   "execution_count": 2,
   "id": "a7101239",
   "metadata": {},
   "outputs": [],
   "source": [
    "style.use('seaborn-whitegrid')"
   ]
  },
  {
   "cell_type": "code",
   "execution_count": null,
   "id": "c6d401b4",
   "metadata": {},
   "outputs": [],
   "source": [
    "#Importar datos\n",
    "import os \n",
    "print(os.getcwd())"
   ]
  },
  {
   "cell_type": "code",
   "execution_count": 3,
   "id": "1cb73de1",
   "metadata": {
    "scrolled": false
   },
   "outputs": [
    {
     "name": "stdout",
     "output_type": "stream",
     "text": [
      "<class 'pandas.core.frame.DataFrame'>\n",
      "RangeIndex: 46693 entries, 0 to 46692\n",
      "Columns: 177 entries, CODUSU to PONDIH\n",
      "dtypes: float64(115), int64(59), object(3)\n",
      "memory usage: 63.1+ MB\n"
     ]
    }
   ],
   "source": [
    "eph_completa = pd.read_excel(\"data/usu_individual_T121.xlsx\")\n",
    "eph_completa.info()"
   ]
  },
  {
   "cell_type": "code",
   "execution_count": null,
   "id": "f5f958bf",
   "metadata": {
    "scrolled": true
   },
   "outputs": [],
   "source": [
    "print(list(eph_completa.columns))\n"
   ]
  },
  {
   "cell_type": "code",
   "execution_count": 4,
   "id": "e5b003bb",
   "metadata": {},
   "outputs": [],
   "source": [
    "#Recorte de la base\n",
    "eph = eph_completa[[\"CODUSU\", \"REGION\", \"AGLOMERADO\", \"CH04\", \"CH06\", \"NIVEL_ED\", \"CAT_OCUP\", \"PP03C\", \"INTENSI\", \"PP07A\", \"P47T\", \"DECINDR\", \"ITF\", \"DECIFR\", \"PP07H\", \"ESTADO\"]]"
   ]
  },
  {
   "cell_type": "markdown",
   "id": "e9374376",
   "metadata": {},
   "source": [
    "# 2. Exploración de datos\n"
   ]
  },
  {
   "cell_type": "code",
   "execution_count": 5,
   "id": "93fe9225",
   "metadata": {
    "scrolled": false
   },
   "outputs": [
    {
     "name": "stdout",
     "output_type": "stream",
     "text": [
      "<class 'pandas.core.frame.DataFrame'>\n",
      "RangeIndex: 46693 entries, 0 to 46692\n",
      "Data columns (total 16 columns):\n",
      " #   Column      Non-Null Count  Dtype  \n",
      "---  ------      --------------  -----  \n",
      " 0   CODUSU      46693 non-null  object \n",
      " 1   REGION      46693 non-null  int64  \n",
      " 2   AGLOMERADO  46693 non-null  int64  \n",
      " 3   CH04        46693 non-null  int64  \n",
      " 4   CH06        46693 non-null  int64  \n",
      " 5   NIVEL_ED    46693 non-null  int64  \n",
      " 6   CAT_OCUP    46693 non-null  int64  \n",
      " 7   PP03C       19014 non-null  float64\n",
      " 8   INTENSI     19014 non-null  float64\n",
      " 9   PP07A       19014 non-null  float64\n",
      " 10  P47T        46619 non-null  float64\n",
      " 11  DECINDR     46693 non-null  int64  \n",
      " 12  ITF         46691 non-null  float64\n",
      " 13  DECIFR      46691 non-null  float64\n",
      " 14  PP07H       19014 non-null  float64\n",
      " 15  ESTADO      46693 non-null  int64  \n",
      "dtypes: float64(7), int64(8), object(1)\n",
      "memory usage: 5.7+ MB\n"
     ]
    }
   ],
   "source": [
    "eph.info()"
   ]
  },
  {
   "cell_type": "code",
   "execution_count": 6,
   "id": "93e3a8d9",
   "metadata": {
    "scrolled": false
   },
   "outputs": [
    {
     "data": {
      "text/html": [
       "<div>\n",
       "<style scoped>\n",
       "    .dataframe tbody tr th:only-of-type {\n",
       "        vertical-align: middle;\n",
       "    }\n",
       "\n",
       "    .dataframe tbody tr th {\n",
       "        vertical-align: top;\n",
       "    }\n",
       "\n",
       "    .dataframe thead th {\n",
       "        text-align: right;\n",
       "    }\n",
       "</style>\n",
       "<table border=\"1\" class=\"dataframe\">\n",
       "  <thead>\n",
       "    <tr style=\"text-align: right;\">\n",
       "      <th></th>\n",
       "      <th>CODUSU</th>\n",
       "      <th>REGION</th>\n",
       "      <th>AGLOMERADO</th>\n",
       "      <th>CH04</th>\n",
       "      <th>CH06</th>\n",
       "      <th>NIVEL_ED</th>\n",
       "      <th>CAT_OCUP</th>\n",
       "      <th>PP03C</th>\n",
       "      <th>INTENSI</th>\n",
       "      <th>PP07A</th>\n",
       "      <th>P47T</th>\n",
       "      <th>DECINDR</th>\n",
       "      <th>ITF</th>\n",
       "      <th>DECIFR</th>\n",
       "      <th>PP07H</th>\n",
       "      <th>ESTADO</th>\n",
       "    </tr>\n",
       "  </thead>\n",
       "  <tbody>\n",
       "    <tr>\n",
       "      <th>39146</th>\n",
       "      <td>TQRMNOQVWHKMLTCDEIJAH00659210</td>\n",
       "      <td>1</td>\n",
       "      <td>33</td>\n",
       "      <td>2</td>\n",
       "      <td>61</td>\n",
       "      <td>6</td>\n",
       "      <td>0</td>\n",
       "      <td>NaN</td>\n",
       "      <td>NaN</td>\n",
       "      <td>NaN</td>\n",
       "      <td>0.0</td>\n",
       "      <td>0</td>\n",
       "      <td>0.0</td>\n",
       "      <td>12.0</td>\n",
       "      <td>NaN</td>\n",
       "      <td>3</td>\n",
       "    </tr>\n",
       "    <tr>\n",
       "      <th>25866</th>\n",
       "      <td>TQRMNOSWUHKMKRCDEHIBB00654629</td>\n",
       "      <td>40</td>\n",
       "      <td>22</td>\n",
       "      <td>1</td>\n",
       "      <td>53</td>\n",
       "      <td>4</td>\n",
       "      <td>3</td>\n",
       "      <td>0.0</td>\n",
       "      <td>4.0</td>\n",
       "      <td>6.0</td>\n",
       "      <td>50000.0</td>\n",
       "      <td>8</td>\n",
       "      <td>80000.0</td>\n",
       "      <td>7.0</td>\n",
       "      <td>1.0</td>\n",
       "      <td>1</td>\n",
       "    </tr>\n",
       "    <tr>\n",
       "      <th>37443</th>\n",
       "      <td>TQRMNORWWHLNLLCDEIIAD00650538</td>\n",
       "      <td>1</td>\n",
       "      <td>32</td>\n",
       "      <td>2</td>\n",
       "      <td>69</td>\n",
       "      <td>6</td>\n",
       "      <td>0</td>\n",
       "      <td>NaN</td>\n",
       "      <td>NaN</td>\n",
       "      <td>NaN</td>\n",
       "      <td>-9.0</td>\n",
       "      <td>12</td>\n",
       "      <td>0.0</td>\n",
       "      <td>12.0</td>\n",
       "      <td>NaN</td>\n",
       "      <td>3</td>\n",
       "    </tr>\n",
       "    <tr>\n",
       "      <th>3108</th>\n",
       "      <td>TQRMNOQWVHJOLOCDEFKID00700318</td>\n",
       "      <td>43</td>\n",
       "      <td>4</td>\n",
       "      <td>1</td>\n",
       "      <td>7</td>\n",
       "      <td>1</td>\n",
       "      <td>0</td>\n",
       "      <td>NaN</td>\n",
       "      <td>NaN</td>\n",
       "      <td>NaN</td>\n",
       "      <td>0.0</td>\n",
       "      <td>0</td>\n",
       "      <td>79000.0</td>\n",
       "      <td>7.0</td>\n",
       "      <td>NaN</td>\n",
       "      <td>4</td>\n",
       "    </tr>\n",
       "    <tr>\n",
       "      <th>17813</th>\n",
       "      <td>TQRMNOQPRHMLKNCDEGLDF00699202</td>\n",
       "      <td>41</td>\n",
       "      <td>15</td>\n",
       "      <td>1</td>\n",
       "      <td>49</td>\n",
       "      <td>6</td>\n",
       "      <td>3</td>\n",
       "      <td>1.0</td>\n",
       "      <td>2.0</td>\n",
       "      <td>6.0</td>\n",
       "      <td>65000.0</td>\n",
       "      <td>9</td>\n",
       "      <td>105000.0</td>\n",
       "      <td>8.0</td>\n",
       "      <td>1.0</td>\n",
       "      <td>1</td>\n",
       "    </tr>\n",
       "  </tbody>\n",
       "</table>\n",
       "</div>"
      ],
      "text/plain": [
       "                              CODUSU  REGION  AGLOMERADO  CH04  CH06  \\\n",
       "39146  TQRMNOQVWHKMLTCDEIJAH00659210       1          33     2    61   \n",
       "25866  TQRMNOSWUHKMKRCDEHIBB00654629      40          22     1    53   \n",
       "37443  TQRMNORWWHLNLLCDEIIAD00650538       1          32     2    69   \n",
       "3108   TQRMNOQWVHJOLOCDEFKID00700318      43           4     1     7   \n",
       "17813  TQRMNOQPRHMLKNCDEGLDF00699202      41          15     1    49   \n",
       "\n",
       "       NIVEL_ED  CAT_OCUP  PP03C  INTENSI  PP07A     P47T  DECINDR       ITF  \\\n",
       "39146         6         0    NaN      NaN    NaN      0.0        0       0.0   \n",
       "25866         4         3    0.0      4.0    6.0  50000.0        8   80000.0   \n",
       "37443         6         0    NaN      NaN    NaN     -9.0       12       0.0   \n",
       "3108          1         0    NaN      NaN    NaN      0.0        0   79000.0   \n",
       "17813         6         3    1.0      2.0    6.0  65000.0        9  105000.0   \n",
       "\n",
       "       DECIFR  PP07H  ESTADO  \n",
       "39146    12.0    NaN       3  \n",
       "25866     7.0    1.0       1  \n",
       "37443    12.0    NaN       3  \n",
       "3108      7.0    NaN       4  \n",
       "17813     8.0    1.0       1  "
      ]
     },
     "execution_count": 6,
     "metadata": {},
     "output_type": "execute_result"
    }
   ],
   "source": [
    "eph.sample(5)"
   ]
  },
  {
   "cell_type": "code",
   "execution_count": 7,
   "id": "e8a1bcf9",
   "metadata": {
    "scrolled": true
   },
   "outputs": [
    {
     "data": {
      "text/plain": [
       "(46693, 16)"
      ]
     },
     "execution_count": 7,
     "metadata": {},
     "output_type": "execute_result"
    }
   ],
   "source": [
    "eph.shape"
   ]
  },
  {
   "cell_type": "code",
   "execution_count": 8,
   "id": "cc8a2357",
   "metadata": {
    "scrolled": true
   },
   "outputs": [
    {
     "name": "stdout",
     "output_type": "stream",
     "text": [
      "[43 41 44 42 40  1]\n"
     ]
    },
    {
     "data": {
      "text/plain": [
       "43    0.307412\n",
       "40    0.240914\n",
       "44    0.139892\n",
       "42    0.117084\n",
       "41    0.107275\n",
       "1     0.087422\n",
       "Name: REGION, dtype: float64"
      ]
     },
     "execution_count": 8,
     "metadata": {},
     "output_type": "execute_result"
    }
   ],
   "source": [
    "#Valores únicos y frecuencia relativa de cada columna del dataset (aplicado solo a variables categóricas y edad)\n",
    "#Región geográfica\n",
    "print(eph.REGION.unique())\n",
    "eph.REGION.value_counts(dropna=False, normalize=True)"
   ]
  },
  {
   "cell_type": "code",
   "execution_count": 9,
   "id": "d0dd84af",
   "metadata": {
    "scrolled": true
   },
   "outputs": [
    {
     "name": "stdout",
     "output_type": "stream",
     "text": [
      "[ 2  3  4  5  6  7  8  9 10 12 13 14 15 17 18 19 20 22 23 25 26 27 29 30\n",
      " 31 32 33 34 36 38 91 93]\n"
     ]
    },
    {
     "data": {
      "text/plain": [
       "33    0.066070\n",
       "23    0.054890\n",
       "10    0.050179\n",
       "29    0.043583\n",
       "4     0.039321\n",
       "19    0.038807\n",
       "27    0.038357\n",
       "18    0.036858\n",
       "14    0.035980\n",
       "13    0.035701\n",
       "25    0.034288\n",
       "5     0.032553\n",
       "22    0.032489\n",
       "38    0.032146\n",
       "15    0.031739\n",
       "6     0.029276\n",
       "26    0.028548\n",
       "7     0.028141\n",
       "12    0.026813\n",
       "91    0.026685\n",
       "2     0.026385\n",
       "17    0.023986\n",
       "9     0.023580\n",
       "93    0.023451\n",
       "3     0.022916\n",
       "36    0.021952\n",
       "32    0.021352\n",
       "20    0.021245\n",
       "31    0.020945\n",
       "8     0.020581\n",
       "34    0.020239\n",
       "30    0.010944\n",
       "Name: AGLOMERADO, dtype: float64"
      ]
     },
     "execution_count": 9,
     "metadata": {},
     "output_type": "execute_result"
    }
   ],
   "source": [
    "#Aglomerado urbano\n",
    "print(eph.AGLOMERADO.unique())\n",
    "eph.AGLOMERADO.value_counts(dropna=False, normalize=True)"
   ]
  },
  {
   "cell_type": "code",
   "execution_count": 10,
   "id": "0e4ec0a3",
   "metadata": {
    "scrolled": true
   },
   "outputs": [
    {
     "name": "stdout",
     "output_type": "stream",
     "text": [
      "[2 1]\n"
     ]
    },
    {
     "data": {
      "text/plain": [
       "2    0.522005\n",
       "1    0.477995\n",
       "Name: CH04, dtype: float64"
      ]
     },
     "execution_count": 10,
     "metadata": {},
     "output_type": "execute_result"
    }
   ],
   "source": [
    "#Sexo\n",
    "print(eph.CH04.unique())\n",
    "eph.CH04.value_counts(dropna=False, normalize=True)"
   ]
  },
  {
   "cell_type": "code",
   "execution_count": 11,
   "id": "69e65884",
   "metadata": {
    "scrolled": true
   },
   "outputs": [
    {
     "name": "stdout",
     "output_type": "stream",
     "text": [
      "[ 27  26  38  33  15  17  10  25  21  49  37  62  34  28  60  69  70  74\n",
      "  44  54  50  19  68  67  58  61  75  56  59  42  40  16  14  64  30  32\n",
      "  55  24  22  18  11   7  43  47   9  35   6  63  45  57  46   4  53  20\n",
      "  36  41  51  52  91  72   8  29  31  77  66  23  80  81  48   5  12   3\n",
      "   2  13  84  82  71  65  76  73  78  79  -1   1  85  39  89  90  83  97\n",
      "  92  87  88  86  98  93  94  99  96  95 101]\n"
     ]
    },
    {
     "data": {
      "text/plain": [
       "20     0.017454\n",
       "16     0.016705\n",
       "21     0.016683\n",
       "17     0.016448\n",
       "23     0.016448\n",
       "         ...   \n",
       "95     0.000150\n",
       "97     0.000128\n",
       "98     0.000107\n",
       "99     0.000107\n",
       "101    0.000021\n",
       "Name: CH06, Length: 101, dtype: float64"
      ]
     },
     "execution_count": 11,
     "metadata": {},
     "output_type": "execute_result"
    }
   ],
   "source": [
    "#Edad\n",
    "print(eph.CH06.unique())\n",
    "eph.CH06.value_counts(dropna=False, normalize=True)"
   ]
  },
  {
   "cell_type": "code",
   "execution_count": 12,
   "id": "6689a22d",
   "metadata": {
    "scrolled": true
   },
   "outputs": [
    {
     "name": "stdout",
     "output_type": "stream",
     "text": [
      "[6 5 3 1 2 4 7]\n"
     ]
    },
    {
     "data": {
      "text/plain": [
       "3    0.209582\n",
       "4    0.198252\n",
       "1    0.142291\n",
       "6    0.129848\n",
       "2    0.123487\n",
       "5    0.120703\n",
       "7    0.075836\n",
       "Name: NIVEL_ED, dtype: float64"
      ]
     },
     "execution_count": 12,
     "metadata": {},
     "output_type": "execute_result"
    }
   ],
   "source": [
    "#Nivel educativo\n",
    "print(eph.NIVEL_ED.unique())\n",
    "eph.NIVEL_ED.value_counts(dropna=False, normalize=True)"
   ]
  },
  {
   "cell_type": "code",
   "execution_count": 13,
   "id": "00f2dd93",
   "metadata": {
    "scrolled": true
   },
   "outputs": [
    {
     "name": "stdout",
     "output_type": "stream",
     "text": [
      "[3 0 2 1 4 9]\n"
     ]
    },
    {
     "data": {
      "text/plain": [
       "0    0.563703\n",
       "3    0.314287\n",
       "2    0.103806\n",
       "1    0.015141\n",
       "4    0.003020\n",
       "9    0.000043\n",
       "Name: CAT_OCUP, dtype: float64"
      ]
     },
     "execution_count": 13,
     "metadata": {},
     "output_type": "execute_result"
    }
   ],
   "source": [
    "#Categoría ocupacional\n",
    "print(eph.CAT_OCUP.unique())\n",
    "eph.CAT_OCUP.value_counts(dropna=False, normalize=True)"
   ]
  },
  {
   "cell_type": "code",
   "execution_count": 14,
   "id": "6fb594ff",
   "metadata": {
    "scrolled": true
   },
   "outputs": [
    {
     "name": "stdout",
     "output_type": "stream",
     "text": [
      "[ 1. nan  2.  0.]\n"
     ]
    },
    {
     "data": {
      "text/plain": [
       "NaN    0.592787\n",
       "1.0    0.338680\n",
       "0.0    0.039985\n",
       "2.0    0.028548\n",
       "Name: PP03C, dtype: float64"
      ]
     },
     "execution_count": 14,
     "metadata": {},
     "output_type": "execute_result"
    }
   ],
   "source": [
    "#Cantidad de empleos\n",
    "print(eph.PP03C.unique())\n",
    "eph.PP03C.value_counts(dropna=False, normalize=True)"
   ]
  },
  {
   "cell_type": "code",
   "execution_count": 15,
   "id": "d8df5ba4",
   "metadata": {
    "scrolled": true
   },
   "outputs": [
    {
     "name": "stdout",
     "output_type": "stream",
     "text": [
      "[1 3 2 4 0]\n"
     ]
    },
    {
     "data": {
      "text/plain": [
       "3    19684\n",
       "1    19014\n",
       "4     6155\n",
       "2     1766\n",
       "0       74\n",
       "Name: ESTADO, dtype: int64"
      ]
     },
     "execution_count": 15,
     "metadata": {},
     "output_type": "execute_result"
    }
   ],
   "source": [
    "#Estado de ocupación\n",
    "print(eph.ESTADO.unique())\n",
    "eph.ESTADO.value_counts(dropna=False)"
   ]
  },
  {
   "cell_type": "code",
   "execution_count": 60,
   "id": "e60c2066",
   "metadata": {},
   "outputs": [
    {
     "name": "stderr",
     "output_type": "stream",
     "text": [
      "<ipython-input-60-45ef86e5c775>:7: SettingWithCopyWarning: \n",
      "A value is trying to be set on a copy of a slice from a DataFrame.\n",
      "Try using .loc[row_indexer,col_indexer] = value instead\n",
      "\n",
      "See the caveats in the documentation: https://pandas.pydata.org/pandas-docs/stable/user_guide/indexing.html#returning-a-view-versus-a-copy\n",
      "  eph['COLUMNA'] = eph.apply(lambda x: no_ocupados(x['ESTADO']),axis=1)\n"
     ]
    }
   ],
   "source": [
    "def no_ocupados(estado):\n",
    "    if estado == 1:\n",
    "        return \"Ocupado\"\n",
    "    else:\n",
    "        return \"No ocupado\"\n",
    "        \n",
    "eph['COLUMNA'] = eph.apply(lambda x: no_ocupados(x['ESTADO']),axis=1)"
   ]
  },
  {
   "cell_type": "code",
   "execution_count": null,
   "id": "a626243f",
   "metadata": {
    "scrolled": false
   },
   "outputs": [],
   "source": [
    "#Itensidad de la ocupación\n",
    "print(eph.INTENSI.unique())\n",
    "eph.INTENSI.value_counts(dropna=False, normalize=True)"
   ]
  },
  {
   "cell_type": "code",
   "execution_count": null,
   "id": "34ed5887",
   "metadata": {
    "scrolled": false
   },
   "outputs": [],
   "source": [
    "intensi = eph.INTENSI.value_counts(dropna=False)\n",
    "print(intensi)\n"
   ]
  },
  {
   "cell_type": "code",
   "execution_count": null,
   "id": "3d822e1b",
   "metadata": {},
   "outputs": [],
   "source": [
    "plot = intensi.plot.bar(x='label', y='values',figsize=(5,5), color = [\"olive\"])\n",
    "\n",
    "plt.show()"
   ]
  },
  {
   "cell_type": "code",
   "execution_count": null,
   "id": "8173f58e",
   "metadata": {},
   "outputs": [],
   "source": [
    "estad_plt = estado.plot.bar(x='label', y='values',figsize=(5,5), color= [\"lightblue\"]);\n",
    "estad_plt.set_xticks(1.2)"
   ]
  },
  {
   "cell_type": "code",
   "execution_count": null,
   "id": "299b8780",
   "metadata": {},
   "outputs": [],
   "source": [
    "estado = eph.ESTADO.value_counts(dropna=False)\n",
    "estado_plot = estado.plot.bar(x='label', y='values',figsize=(5,5), color= [\"olive\"])\n",
    "intensi_plot = intensi.plot.bar(x='label', y='values',figsize=(5,5), color = [\"olive\"])"
   ]
  },
  {
   "cell_type": "code",
   "execution_count": null,
   "id": "08647a3f",
   "metadata": {},
   "outputs": [],
   "source": [
    "fig, (ax1, ax2) = plt.subplots(1, 2)\n",
    "\n",
    "fig.suptitle('Coincidencia de cantidad de NaN con personas no ocupadas')\n",
    "ax1.bar(intensi_plot, color = \"olive\")\n",
    "ax2.bar(estado_plot, color = \"olive\");"
   ]
  },
  {
   "cell_type": "code",
   "execution_count": null,
   "id": "36b79a9f",
   "metadata": {
    "scrolled": true
   },
   "outputs": [],
   "source": [
    "#Hace cuánto trabajan en la ocupación principal\n",
    "print(eph.PP07A.unique())\n",
    "eph.PP07A.value_counts(dropna=False, normalize=True)"
   ]
  },
  {
   "cell_type": "code",
   "execution_count": null,
   "id": "05cdcfd8",
   "metadata": {
    "scrolled": true
   },
   "outputs": [],
   "source": [
    "#Deciles de ingreso total\n",
    "print(eph.DECINDR.unique())\n",
    "eph.DECINDR.value_counts(dropna=False, normalize=True)"
   ]
  },
  {
   "cell_type": "code",
   "execution_count": null,
   "id": "8202c95e",
   "metadata": {
    "scrolled": true
   },
   "outputs": [],
   "source": [
    "#Deciles de ingreso familiar\n",
    "print(eph.DECIFR.unique())\n",
    "eph.DECIFR.value_counts(dropna=False, normalize=True)"
   ]
  },
  {
   "cell_type": "code",
   "execution_count": null,
   "id": "cbb35902",
   "metadata": {},
   "outputs": [],
   "source": [
    "#Descuento por jubilación\n",
    "print(eph.PP07H.unique())\n",
    "eph.PP07H.value_counts(dropna=False, normalize=True)"
   ]
  },
  {
   "cell_type": "code",
   "execution_count": null,
   "id": "7ddfbf30",
   "metadata": {
    "scrolled": false
   },
   "outputs": [],
   "source": [
    "#Resúmenes estadísticos de variables de razón \n",
    "#CH06 = AÑOS\n",
    "eph.CH06.describe()"
   ]
  },
  {
   "cell_type": "code",
   "execution_count": null,
   "id": "f02fe108",
   "metadata": {
    "scrolled": true
   },
   "outputs": [],
   "source": [
    "#P47T = monto del ingreso total\n",
    "eph.P47T.describe()"
   ]
  },
  {
   "cell_type": "code",
   "execution_count": null,
   "id": "4582fb13",
   "metadata": {
    "scrolled": true
   },
   "outputs": [],
   "source": [
    "#ITF= monto del ingreso familiar\n",
    "eph.ITF.describe()"
   ]
  },
  {
   "cell_type": "markdown",
   "id": "82021d18",
   "metadata": {},
   "source": [
    "De la lectura de los outputs correspondientes a esta sección se desprende una constatación central: la presencia de la misma cantidad de datos nulos (27679) en 5 columnas (PP03C, INTENSI, PP04D, PP07A y PP07H). Luego de realizar el value_counts de la columna del dataset ESTADO esta particularidad de la base cobra sentido: los datos no nulos de las 5 columnas corresponden a los ocupados (o valor 1 de la columna ESTADO). Es decir, son todas preguntas que solamente se le hicieron a las personas ocupadas. Como en la proxima sección se filtraran solamente los casos de los ocupados estos valores nulos no resultan un problema.\n",
    "Sí parece haber habido un error en la carga de datos en la variable edad. Al ver el mínimo de la columna y sus valores únicos aparece el -1 como un valor dispuesto. Habrá que solucionar este problema en la limpieza de datos. \n",
    "Cabe mencionar, también, el valor mínimo de P47T (monto total de ingresos indivudales). El -9 y el 9, 99 y 999 en el resto de las variables se corresponde con el \"No sabe/no contesta\". Algo similar sucede con el 12 y 13 que aparecen como valores únicos en DECIFR y DECINDR (variables que versan sobre los deciles de ingresos), implican que no se respondio a la pregunta o que no se hizo la entrevista individual, respectivamente.\n",
    "Después no encuentro anomalías: todos los valores que adquieren las variables estan contemplados en el manual de la EPH y en la próxima sección  se procederá a etiquetarlos para que los datos puedan cobrar cierto sentido. "
   ]
  },
  {
   "cell_type": "markdown",
   "id": "e9604e22",
   "metadata": {},
   "source": [
    "# 3. Limpieza de datos \n",
    "Se realizará primero un recorte de la base y se etiquetaran los valores y las variables. Una vez recortada no deberían quedar valores nulos (por la correspondencia de estos con las personas no ocupadas). A su vez, se procederá a eliminar el caso con edad = -1 y a guardar la base limpia.\n"
   ]
  },
  {
   "cell_type": "code",
   "execution_count": 21,
   "id": "c657724c",
   "metadata": {
    "scrolled": true
   },
   "outputs": [],
   "source": [
    "#Renombre de columnas\n",
    "renombrada = eph.rename(columns = {'CH04': 'SEXO', 'CH06': 'AÑOS', \"NIVEL_ED\": \"NIVEL_EDUCATIVO\", \"CAT_OCUP\": \"CATEGORÍA_OCUPACIONAL\", \"PP03C\": \"CANTIDAD_DE_TRABAJOS\", \"PP07A\": \"ANTIGUEDAD_EN_OCUPACIÓN\", \"P47T\": \"MONTO_DE_INGRESO_TOTAL\", \"DECINDR\": \"DECIL_DE_INGRESOS\", \"ITF\": \"INGRESO_TOTAL_FAMILIAR\", \"DECIFR\": \"DECILES_SEGÚN_INGRESO_FAMILIAR\", \"PP07H\": \"DESCUENTO_POR_JUBILACIÓN\", \"INTENSI\": \"INTENSIDAD_DE_LA_OCUPACIÓN\", \"ESTADO\": \"ESTADO_DE_OCUPACIÓN\"}, inplace = False)\n"
   ]
  },
  {
   "cell_type": "code",
   "execution_count": 22,
   "id": "89fb79ec",
   "metadata": {
    "scrolled": false
   },
   "outputs": [
    {
     "name": "stdout",
     "output_type": "stream",
     "text": [
      "<class 'pandas.core.frame.DataFrame'>\n",
      "RangeIndex: 46693 entries, 0 to 46692\n",
      "Data columns (total 17 columns):\n",
      " #   Column                          Non-Null Count  Dtype  \n",
      "---  ------                          --------------  -----  \n",
      " 0   CODUSU                          46693 non-null  object \n",
      " 1   REGION                          46693 non-null  int64  \n",
      " 2   AGLOMERADO                      46693 non-null  int64  \n",
      " 3   SEXO                            46693 non-null  int64  \n",
      " 4   AÑOS                            46693 non-null  int64  \n",
      " 5   NIVEL_EDUCATIVO                 46693 non-null  int64  \n",
      " 6   CATEGORÍA_OCUPACIONAL           46693 non-null  int64  \n",
      " 7   CANTIDAD_DE_TRABAJOS            19014 non-null  float64\n",
      " 8   INTENSIDAD_DE_LA_OCUPACIÓN      19014 non-null  float64\n",
      " 9   ANTIGUEDAD_EN_OCUPACIÓN         19014 non-null  float64\n",
      " 10  MONTO_DE_INGRESO_TOTAL          46619 non-null  float64\n",
      " 11  DECIL_DE_INGRESOS               46693 non-null  int64  \n",
      " 12  INGRESO_TOTAL_FAMILIAR          46691 non-null  float64\n",
      " 13  DECILES_SEGÚN_INGRESO_FAMILIAR  46691 non-null  float64\n",
      " 14  DESCUENTO_POR_JUBILACIÓN        19014 non-null  float64\n",
      " 15  ESTADO_DE_OCUPACIÓN             46693 non-null  int64  \n",
      " 16  COLUMNA                         46693 non-null  object \n",
      "dtypes: float64(7), int64(8), object(2)\n",
      "memory usage: 6.1+ MB\n"
     ]
    }
   ],
   "source": [
    "renombrada.info()"
   ]
  },
  {
   "cell_type": "code",
   "execution_count": 23,
   "id": "a9b38e27",
   "metadata": {},
   "outputs": [],
   "source": [
    "#Renombre de valores \n",
    "renombrada.loc[renombrada.REGION == 1, \"REGION\"] = \"Gran Buenos Aires\"\n",
    "renombrada.loc[renombrada.REGION == 40, \"REGION\"] = \"NOA\"\n",
    "renombrada.loc[renombrada.REGION == 41, \"REGION\"] = \"NEA\"\n",
    "renombrada.loc[renombrada.REGION == 42, \"REGION\"] = \"Cuyo\"\n",
    "renombrada.loc[renombrada.REGION == 43, \"REGION\"] = \"Pampeana\"\n",
    "renombrada.loc[renombrada.REGION == 44, \"REGION\"] = \"Patagonia\"\n",
    "renombrada.loc[renombrada.SEXO == 1, \"SEXO\"] = \"Varón\"\n",
    "renombrada.loc[renombrada.SEXO == 2, \"SEXO\"] = \"Mujer\"\n",
    "renombrada.loc[renombrada.NIVEL_EDUCATIVO == 1, \"NIVEL_EDUCATIVO\"] = \"Primario incompleto\"\n",
    "renombrada.loc[renombrada.NIVEL_EDUCATIVO == 2, \"NIVEL_EDUCATIVO\"] = \"Primario completo\"\n",
    "renombrada.loc[renombrada.NIVEL_EDUCATIVO == 3, \"NIVEL_EDUCATIVO\"] = \"Secundario incompleto\"\n",
    "renombrada.loc[renombrada.NIVEL_EDUCATIVO == 4, \"NIVEL_EDUCATIVO\"] = \"Secundario completo\"\n",
    "renombrada.loc[renombrada.NIVEL_EDUCATIVO == 5, \"NIVEL_EDUCATIVO\"] = \"Superior universitario incompleto\"\n",
    "renombrada.loc[renombrada.NIVEL_EDUCATIVO == 6, \"NIVEL_EDUCATIVO\"] = \"Superior universitario completo\"\n",
    "renombrada.loc[renombrada.NIVEL_EDUCATIVO == 7, \"NIVEL_EDUCATIVO\"] = \"Sin instrucción\"\n",
    "renombrada.loc[renombrada.NIVEL_EDUCATIVO == 9, \"NIVEL_EDUCATIVO\"] = \"Ns/Nc\"\n",
    "renombrada.loc[renombrada.CATEGORÍA_OCUPACIONAL == 0, \"CATEGORÍA_OCUPACIONAL\"] = \"No le corresponde la secuencia analizada\"\n",
    "renombrada.loc[renombrada.CATEGORÍA_OCUPACIONAL == 1, \"CATEGORÍA_OCUPACIONAL\"] = \"Patrón\"\n",
    "renombrada.loc[renombrada.CATEGORÍA_OCUPACIONAL == 2, \"CATEGORÍA_OCUPACIONAL\"] = \"Cuenta propia\"\n",
    "renombrada.loc[renombrada.CATEGORÍA_OCUPACIONAL == 3, \"CATEGORÍA_OCUPACIONAL\"] = \"Obrero o empleado\"\n",
    "renombrada.loc[renombrada.CATEGORÍA_OCUPACIONAL == 4, \"CATEGORÍA_OCUPACIONAL\"] = \"Trabajador familiar sin remuneración\"\n",
    "renombrada.loc[renombrada.CATEGORÍA_OCUPACIONAL == 9, \"CATEGORÍA_OCUPACIONAL\"] = \"Ns/Nc\"\n",
    "renombrada.loc[renombrada.CANTIDAD_DE_TRABAJOS == 1, \"CANTIDAD_DE_TRABAJOS\"] = \"Un solo empleo o actividad\"\n",
    "renombrada.loc[renombrada.CANTIDAD_DE_TRABAJOS == 2, \"CANTIDAD_DE_TRABAJOS\"] = \"Más de un empleo o actividad\"\n",
    "renombrada.loc[renombrada.CANTIDAD_DE_TRABAJOS == 0, \"CANTIDAD_DE_TRABAJOS\"] = \"No le corresponde la secuencia analizada\"\n",
    "renombrada.loc[renombrada.INTENSIDAD_DE_LA_OCUPACIÓN == 1, \"INTENSIDAD_DE_LA_OCUPACIÓN\"] = \"Subocupado\"\n",
    "renombrada.loc[renombrada.INTENSIDAD_DE_LA_OCUPACIÓN == 2, \"INTENSIDAD_DE_LA_OCUPACIÓN\"] = \"Ocupado pleno\"\n",
    "renombrada.loc[renombrada.INTENSIDAD_DE_LA_OCUPACIÓN == 3, \"INTENSIDAD_DE_LA_OCUPACIÓN\"] = \"Sobreocupado\"\n",
    "renombrada.loc[renombrada.INTENSIDAD_DE_LA_OCUPACIÓN == 4, \"INTENSIDAD_DE_LA_OCUPACIÓN\"] = \"Ocupado que no trabajó en la semana\"\n",
    "renombrada.loc[renombrada.INTENSIDAD_DE_LA_OCUPACIÓN == 9, \"INTENSIDAD_DE_LA_OCUPACIÓN\"] = \"Ns/Nc\"\n",
    "renombrada.loc[renombrada.ANTIGUEDAD_EN_OCUPACIÓN == 1, \"ANTIGUEDAD_EN_OCUPACIÓN\"] = \"No le corresponde la secuencia analizada\"\n",
    "renombrada.loc[renombrada.ANTIGUEDAD_EN_OCUPACIÓN == 1, \"ANTIGUEDAD_EN_OCUPACIÓN\"] = \"Menos de un mes\"\n",
    "renombrada.loc[renombrada.ANTIGUEDAD_EN_OCUPACIÓN == 2, \"ANTIGUEDAD_EN_OCUPACIÓN\"] = \"1 a 3 meses\"\n",
    "renombrada.loc[renombrada.ANTIGUEDAD_EN_OCUPACIÓN == 3, \"ANTIGUEDAD_EN_OCUPACIÓN\"] = \"más de 3 meses a 6 meses\"\n",
    "renombrada.loc[renombrada.ANTIGUEDAD_EN_OCUPACIÓN == 4, \"ANTIGUEDAD_EN_OCUPACIÓN\"] = \"más de 6 a 12 meses\"\n",
    "renombrada.loc[renombrada.ANTIGUEDAD_EN_OCUPACIÓN == 5, \"ANTIGUEDAD_EN_OCUPACIÓN\"] = \"más de 1 a 5 años\"\n",
    "renombrada.loc[renombrada.ANTIGUEDAD_EN_OCUPACIÓN == 6, \"ANTIGUEDAD_EN_OCUPACIÓN\"] = \"más de 5 años\"\n",
    "renombrada.loc[renombrada.ANTIGUEDAD_EN_OCUPACIÓN == 9, \"ANTIGUEDAD_EN_OCUPACIÓN\"] = \"Ns/Nc\"\n",
    "renombrada.loc[renombrada.DECIL_DE_INGRESOS == 12, \"DECIL_DE_INGRESOS\"] = \"No hay respuesta de ingresos\"\n",
    "renombrada.loc[renombrada.DECIL_DE_INGRESOS == 13, \"DECIL_DE_INGRESOS\"] = \"Entrevista individual no analizada\"\n",
    "renombrada.loc[renombrada.DECILES_SEGÚN_INGRESO_FAMILIAR == 12, \"DECILES_SEGÚN_INGRESO_FAMILIAR\"] = \"No hay respuesta de ingresos\"\n",
    "renombrada.loc[renombrada.DECILES_SEGÚN_INGRESO_FAMILIAR == 13, \"DECILES_SEGÚN_INGRESO_FAMILIAR\"] = \"Entrevista individual no realizada\"\n",
    "renombrada.loc[renombrada.DESCUENTO_POR_JUBILACIÓN == 1,\"DESCUENTO_POR_JUBILACIÓN\"] = \"Sí\"\n",
    "renombrada.loc[renombrada.DESCUENTO_POR_JUBILACIÓN == 2,\"DESCUENTO_POR_JUBILACIÓN\"] = \"No\"\n",
    "renombrada.loc[renombrada.DESCUENTO_POR_JUBILACIÓN == 0,\"DESCUENTO_POR_JUBILACIÓN\"] = \"No le corresponde la secuencia analizada\"\n"
   ]
  },
  {
   "cell_type": "code",
   "execution_count": 24,
   "id": "e580e865",
   "metadata": {
    "scrolled": true
   },
   "outputs": [
    {
     "data": {
      "text/html": [
       "<div>\n",
       "<style scoped>\n",
       "    .dataframe tbody tr th:only-of-type {\n",
       "        vertical-align: middle;\n",
       "    }\n",
       "\n",
       "    .dataframe tbody tr th {\n",
       "        vertical-align: top;\n",
       "    }\n",
       "\n",
       "    .dataframe thead th {\n",
       "        text-align: right;\n",
       "    }\n",
       "</style>\n",
       "<table border=\"1\" class=\"dataframe\">\n",
       "  <thead>\n",
       "    <tr style=\"text-align: right;\">\n",
       "      <th></th>\n",
       "      <th>CODUSU</th>\n",
       "      <th>REGION</th>\n",
       "      <th>AGLOMERADO</th>\n",
       "      <th>SEXO</th>\n",
       "      <th>AÑOS</th>\n",
       "      <th>NIVEL_EDUCATIVO</th>\n",
       "      <th>CATEGORÍA_OCUPACIONAL</th>\n",
       "      <th>CANTIDAD_DE_TRABAJOS</th>\n",
       "      <th>INTENSIDAD_DE_LA_OCUPACIÓN</th>\n",
       "      <th>ANTIGUEDAD_EN_OCUPACIÓN</th>\n",
       "      <th>MONTO_DE_INGRESO_TOTAL</th>\n",
       "      <th>DECIL_DE_INGRESOS</th>\n",
       "      <th>INGRESO_TOTAL_FAMILIAR</th>\n",
       "      <th>DECILES_SEGÚN_INGRESO_FAMILIAR</th>\n",
       "      <th>DESCUENTO_POR_JUBILACIÓN</th>\n",
       "      <th>ESTADO_DE_OCUPACIÓN</th>\n",
       "      <th>COLUMNA</th>\n",
       "    </tr>\n",
       "  </thead>\n",
       "  <tbody>\n",
       "    <tr>\n",
       "      <th>9292</th>\n",
       "      <td>TQSMNOTRSHMOKSCDEFOCD00699891</td>\n",
       "      <td>NEA</td>\n",
       "      <td>8</td>\n",
       "      <td>Varón</td>\n",
       "      <td>71</td>\n",
       "      <td>Secundario completo</td>\n",
       "      <td>No le corresponde la secuencia analizada</td>\n",
       "      <td>NaN</td>\n",
       "      <td>NaN</td>\n",
       "      <td>NaN</td>\n",
       "      <td>25500.0</td>\n",
       "      <td>5</td>\n",
       "      <td>51000.0</td>\n",
       "      <td>5.0</td>\n",
       "      <td>NaN</td>\n",
       "      <td>3</td>\n",
       "      <td>No ocupado</td>\n",
       "    </tr>\n",
       "    <tr>\n",
       "      <th>18823</th>\n",
       "      <td>TQVMNOQSTHKMLLCDEGLDF00702526</td>\n",
       "      <td>NEA</td>\n",
       "      <td>15</td>\n",
       "      <td>Mujer</td>\n",
       "      <td>45</td>\n",
       "      <td>Secundario completo</td>\n",
       "      <td>Obrero o empleado</td>\n",
       "      <td>Un solo empleo o actividad</td>\n",
       "      <td>Sobreocupado</td>\n",
       "      <td>más de 5 años</td>\n",
       "      <td>40000.0</td>\n",
       "      <td>7</td>\n",
       "      <td>40000.0</td>\n",
       "      <td>3.0</td>\n",
       "      <td>Sí</td>\n",
       "      <td>1</td>\n",
       "      <td>Ocupado</td>\n",
       "    </tr>\n",
       "    <tr>\n",
       "      <th>37822</th>\n",
       "      <td>TQRMNOPPTHJMSLCDEIJAH00693067</td>\n",
       "      <td>Gran Buenos Aires</td>\n",
       "      <td>33</td>\n",
       "      <td>Mujer</td>\n",
       "      <td>4</td>\n",
       "      <td>Sin instrucción</td>\n",
       "      <td>No le corresponde la secuencia analizada</td>\n",
       "      <td>NaN</td>\n",
       "      <td>NaN</td>\n",
       "      <td>NaN</td>\n",
       "      <td>0.0</td>\n",
       "      <td>0</td>\n",
       "      <td>15000.0</td>\n",
       "      <td>1.0</td>\n",
       "      <td>NaN</td>\n",
       "      <td>4</td>\n",
       "      <td>No ocupado</td>\n",
       "    </tr>\n",
       "    <tr>\n",
       "      <th>17987</th>\n",
       "      <td>TQRMNOQTVHLLKOCDEGLDF00654057</td>\n",
       "      <td>NEA</td>\n",
       "      <td>15</td>\n",
       "      <td>Mujer</td>\n",
       "      <td>77</td>\n",
       "      <td>Secundario incompleto</td>\n",
       "      <td>No le corresponde la secuencia analizada</td>\n",
       "      <td>NaN</td>\n",
       "      <td>NaN</td>\n",
       "      <td>NaN</td>\n",
       "      <td>42000.0</td>\n",
       "      <td>7</td>\n",
       "      <td>102000.0</td>\n",
       "      <td>8.0</td>\n",
       "      <td>NaN</td>\n",
       "      <td>3</td>\n",
       "      <td>No ocupado</td>\n",
       "    </tr>\n",
       "    <tr>\n",
       "      <th>3129</th>\n",
       "      <td>TQRMNOQXSHKOLQCDEFKID00657200</td>\n",
       "      <td>Pampeana</td>\n",
       "      <td>4</td>\n",
       "      <td>Varón</td>\n",
       "      <td>2</td>\n",
       "      <td>Sin instrucción</td>\n",
       "      <td>No le corresponde la secuencia analizada</td>\n",
       "      <td>NaN</td>\n",
       "      <td>NaN</td>\n",
       "      <td>NaN</td>\n",
       "      <td>0.0</td>\n",
       "      <td>0</td>\n",
       "      <td>70000.0</td>\n",
       "      <td>6.0</td>\n",
       "      <td>NaN</td>\n",
       "      <td>4</td>\n",
       "      <td>No ocupado</td>\n",
       "    </tr>\n",
       "  </tbody>\n",
       "</table>\n",
       "</div>"
      ],
      "text/plain": [
       "                              CODUSU             REGION  AGLOMERADO   SEXO  \\\n",
       "9292   TQSMNOTRSHMOKSCDEFOCD00699891                NEA           8  Varón   \n",
       "18823  TQVMNOQSTHKMLLCDEGLDF00702526                NEA          15  Mujer   \n",
       "37822  TQRMNOPPTHJMSLCDEIJAH00693067  Gran Buenos Aires          33  Mujer   \n",
       "17987  TQRMNOQTVHLLKOCDEGLDF00654057                NEA          15  Mujer   \n",
       "3129   TQRMNOQXSHKOLQCDEFKID00657200           Pampeana           4  Varón   \n",
       "\n",
       "       AÑOS        NIVEL_EDUCATIVO                     CATEGORÍA_OCUPACIONAL  \\\n",
       "9292     71    Secundario completo  No le corresponde la secuencia analizada   \n",
       "18823    45    Secundario completo                         Obrero o empleado   \n",
       "37822     4        Sin instrucción  No le corresponde la secuencia analizada   \n",
       "17987    77  Secundario incompleto  No le corresponde la secuencia analizada   \n",
       "3129      2        Sin instrucción  No le corresponde la secuencia analizada   \n",
       "\n",
       "             CANTIDAD_DE_TRABAJOS INTENSIDAD_DE_LA_OCUPACIÓN  \\\n",
       "9292                          NaN                        NaN   \n",
       "18823  Un solo empleo o actividad               Sobreocupado   \n",
       "37822                         NaN                        NaN   \n",
       "17987                         NaN                        NaN   \n",
       "3129                          NaN                        NaN   \n",
       "\n",
       "      ANTIGUEDAD_EN_OCUPACIÓN  MONTO_DE_INGRESO_TOTAL DECIL_DE_INGRESOS  \\\n",
       "9292                      NaN                 25500.0                 5   \n",
       "18823           más de 5 años                 40000.0                 7   \n",
       "37822                     NaN                     0.0                 0   \n",
       "17987                     NaN                 42000.0                 7   \n",
       "3129                      NaN                     0.0                 0   \n",
       "\n",
       "       INGRESO_TOTAL_FAMILIAR DECILES_SEGÚN_INGRESO_FAMILIAR  \\\n",
       "9292                  51000.0                            5.0   \n",
       "18823                 40000.0                            3.0   \n",
       "37822                 15000.0                            1.0   \n",
       "17987                102000.0                            8.0   \n",
       "3129                  70000.0                            6.0   \n",
       "\n",
       "      DESCUENTO_POR_JUBILACIÓN  ESTADO_DE_OCUPACIÓN     COLUMNA  \n",
       "9292                       NaN                    3  No ocupado  \n",
       "18823                       Sí                    1     Ocupado  \n",
       "37822                      NaN                    4  No ocupado  \n",
       "17987                      NaN                    3  No ocupado  \n",
       "3129                       NaN                    4  No ocupado  "
      ]
     },
     "execution_count": 24,
     "metadata": {},
     "output_type": "execute_result"
    }
   ],
   "source": [
    "renombrada.sample(5)"
   ]
  },
  {
   "cell_type": "code",
   "execution_count": 25,
   "id": "cde6c05f",
   "metadata": {
    "scrolled": false
   },
   "outputs": [
    {
     "data": {
      "text/plain": [
       "count     42811.000000\n",
       "mean      21577.718040\n",
       "std       32505.605078\n",
       "min           0.000000\n",
       "25%           0.000000\n",
       "50%       11000.000000\n",
       "75%       30600.000000\n",
       "max      819000.000000\n",
       "Name: MONTO_DE_INGRESO_TOTAL, dtype: float64"
      ]
     },
     "execution_count": 25,
     "metadata": {},
     "output_type": "execute_result"
    }
   ],
   "source": [
    "#Elimino el -9 (correspondiente a no sabe/no responde)\n",
    "limpia = renombrada[renombrada.MONTO_DE_INGRESO_TOTAL != -9.000000]\n",
    "limpia.MONTO_DE_INGRESO_TOTAL.describe()"
   ]
  },
  {
   "cell_type": "code",
   "execution_count": 26,
   "id": "c44c516f",
   "metadata": {},
   "outputs": [
    {
     "name": "stdout",
     "output_type": "stream",
     "text": [
      "<class 'pandas.core.frame.DataFrame'>\n",
      "Int64Index: 16174 entries, 0 to 46687\n",
      "Data columns (total 17 columns):\n",
      " #   Column                          Non-Null Count  Dtype  \n",
      "---  ------                          --------------  -----  \n",
      " 0   CODUSU                          16174 non-null  object \n",
      " 1   REGION                          16174 non-null  object \n",
      " 2   AGLOMERADO                      16174 non-null  int64  \n",
      " 3   SEXO                            16174 non-null  object \n",
      " 4   AÑOS                            16174 non-null  int64  \n",
      " 5   NIVEL_EDUCATIVO                 16174 non-null  object \n",
      " 6   CATEGORÍA_OCUPACIONAL           16174 non-null  object \n",
      " 7   CANTIDAD_DE_TRABAJOS            16174 non-null  object \n",
      " 8   INTENSIDAD_DE_LA_OCUPACIÓN      16174 non-null  object \n",
      " 9   ANTIGUEDAD_EN_OCUPACIÓN         16174 non-null  object \n",
      " 10  MONTO_DE_INGRESO_TOTAL          16174 non-null  float64\n",
      " 11  DECIL_DE_INGRESOS               16174 non-null  object \n",
      " 12  INGRESO_TOTAL_FAMILIAR          16174 non-null  float64\n",
      " 13  DECILES_SEGÚN_INGRESO_FAMILIAR  16174 non-null  object \n",
      " 14  DESCUENTO_POR_JUBILACIÓN        16174 non-null  object \n",
      " 15  ESTADO_DE_OCUPACIÓN             16174 non-null  int64  \n",
      " 16  COLUMNA                         16174 non-null  object \n",
      "dtypes: float64(2), int64(3), object(12)\n",
      "memory usage: 2.2+ MB\n",
      "None\n"
     ]
    }
   ],
   "source": [
    "#Recorte de la base (solamente ocupados)\n",
    "estado = limpia[limpia.ESTADO_DE_OCUPACIÓN == 1]\n",
    "print(estado.info())\n"
   ]
  },
  {
   "cell_type": "code",
   "execution_count": 27,
   "id": "07d575ce",
   "metadata": {},
   "outputs": [
    {
     "name": "stdout",
     "output_type": "stream",
     "text": [
      "CODUSU                            0\n",
      "REGION                            0\n",
      "AGLOMERADO                        0\n",
      "SEXO                              0\n",
      "AÑOS                              0\n",
      "NIVEL_EDUCATIVO                   0\n",
      "CATEGORÍA_OCUPACIONAL             0\n",
      "CANTIDAD_DE_TRABAJOS              0\n",
      "INTENSIDAD_DE_LA_OCUPACIÓN        0\n",
      "ANTIGUEDAD_EN_OCUPACIÓN           0\n",
      "MONTO_DE_INGRESO_TOTAL            0\n",
      "DECIL_DE_INGRESOS                 0\n",
      "INGRESO_TOTAL_FAMILIAR            0\n",
      "DECILES_SEGÚN_INGRESO_FAMILIAR    0\n",
      "DESCUENTO_POR_JUBILACIÓN          0\n",
      "ESTADO_DE_OCUPACIÓN               0\n",
      "COLUMNA                           0\n",
      "dtype: int64\n"
     ]
    }
   ],
   "source": [
    "print(estado.isnull().sum())"
   ]
  },
  {
   "cell_type": "markdown",
   "id": "8bd4c24c",
   "metadata": {},
   "source": [
    "Como se estimó en las conclusiones de la exploración de los datos, no hay valores nulos en ninguna de las columnas. "
   ]
  },
  {
   "cell_type": "code",
   "execution_count": 28,
   "id": "2a1bacd1",
   "metadata": {
    "scrolled": false
   },
   "outputs": [
    {
     "data": {
      "text/plain": [
       "count    16174.000000\n",
       "mean        40.799246\n",
       "std         12.867486\n",
       "min         13.000000\n",
       "25%         30.000000\n",
       "50%         40.000000\n",
       "75%         50.000000\n",
       "max         99.000000\n",
       "Name: AÑOS, dtype: float64"
      ]
     },
     "execution_count": 28,
     "metadata": {},
     "output_type": "execute_result"
    }
   ],
   "source": [
    "#Comprobación de la columna edad\n",
    "estado.AÑOS.describe()"
   ]
  },
  {
   "cell_type": "code",
   "execution_count": 29,
   "id": "0ad54125",
   "metadata": {},
   "outputs": [
    {
     "data": {
      "text/plain": [
       "array(['Sobreocupado', 'Subocupado', 'Ocupado pleno',\n",
       "       'Ocupado que no trabajó en la semana'], dtype=object)"
      ]
     },
     "execution_count": 29,
     "metadata": {},
     "output_type": "execute_result"
    }
   ],
   "source": [
    "estado.INTENSIDAD_DE_LA_OCUPACIÓN.unique()"
   ]
  },
  {
   "cell_type": "code",
   "execution_count": 30,
   "id": "512af1a0",
   "metadata": {},
   "outputs": [],
   "source": [
    "#Recorte de ocupados plenos y subocupados \n",
    "ocupados1 = estado.loc[estado['INTENSIDAD_DE_LA_OCUPACIÓN'].isin(['Subocupado', 'Ocupado pleno'])]  \n"
   ]
  },
  {
   "cell_type": "code",
   "execution_count": 31,
   "id": "0009d0c2",
   "metadata": {
    "scrolled": true
   },
   "outputs": [
    {
     "name": "stdout",
     "output_type": "stream",
     "text": [
      "<class 'pandas.core.frame.DataFrame'>\n",
      "Int64Index: 10240 entries, 9 to 46680\n",
      "Data columns (total 17 columns):\n",
      " #   Column                          Non-Null Count  Dtype  \n",
      "---  ------                          --------------  -----  \n",
      " 0   CODUSU                          10240 non-null  object \n",
      " 1   REGION                          10240 non-null  object \n",
      " 2   AGLOMERADO                      10240 non-null  int64  \n",
      " 3   SEXO                            10240 non-null  object \n",
      " 4   AÑOS                            10240 non-null  int64  \n",
      " 5   NIVEL_EDUCATIVO                 10240 non-null  object \n",
      " 6   CATEGORÍA_OCUPACIONAL           10240 non-null  object \n",
      " 7   CANTIDAD_DE_TRABAJOS            10240 non-null  object \n",
      " 8   INTENSIDAD_DE_LA_OCUPACIÓN      10240 non-null  object \n",
      " 9   ANTIGUEDAD_EN_OCUPACIÓN         10240 non-null  object \n",
      " 10  MONTO_DE_INGRESO_TOTAL          10240 non-null  float64\n",
      " 11  DECIL_DE_INGRESOS               10240 non-null  object \n",
      " 12  INGRESO_TOTAL_FAMILIAR          10240 non-null  float64\n",
      " 13  DECILES_SEGÚN_INGRESO_FAMILIAR  10240 non-null  object \n",
      " 14  DESCUENTO_POR_JUBILACIÓN        10240 non-null  object \n",
      " 15  ESTADO_DE_OCUPACIÓN             10240 non-null  int64  \n",
      " 16  COLUMNA                         10240 non-null  object \n",
      "dtypes: float64(2), int64(3), object(12)\n",
      "memory usage: 1.4+ MB\n"
     ]
    }
   ],
   "source": [
    "ocupados1.info()"
   ]
  },
  {
   "cell_type": "code",
   "execution_count": 32,
   "id": "da463696",
   "metadata": {},
   "outputs": [
    {
     "data": {
      "text/plain": [
       "Ocupado pleno    8253\n",
       "Subocupado       1987\n",
       "Name: INTENSIDAD_DE_LA_OCUPACIÓN, dtype: int64"
      ]
     },
     "execution_count": 32,
     "metadata": {},
     "output_type": "execute_result"
    }
   ],
   "source": [
    "ocupados1.INTENSIDAD_DE_LA_OCUPACIÓN.value_counts()"
   ]
  },
  {
   "cell_type": "code",
   "execution_count": null,
   "id": "504cefb4",
   "metadata": {},
   "outputs": [],
   "source": [
    "ocupados1.to_excel(\"DATA/ocupados.xlsx\")"
   ]
  },
  {
   "cell_type": "markdown",
   "id": "fae56f92",
   "metadata": {},
   "source": [
    "La base queda con todas sus columnas y sus valores etiquetados. Cabe aclarar que, por supuesto, no fueron los valores de todas las columnas etiquetadas, solamente aquellas que correspondían a variables categóricas. Además, a los valores de ESTADO_DE_OCUPACIÓN no los etiqueté porque fue la variable elegida para recortar la base (junto con INTENSIDAD_DE_LA_OCUPACIÓN), y no será usada en la próxima sección. \n",
    "No hizo falta eliminar el caso que tenía de edad -1 porque al hacer el recorte de la base por ocupados quedó fuera. Sí fue eliminado los valores -9 correspondientes a MONTO_DE_INGRESO_TOTAL para poder analizar la distribución sin tener ese valor  (que significa \"No sabe/No responde\") distrorcionando la distribución.\n",
    "Queda una base de 16 columnas, sin valores nulos y con 10240 casos, correspondientes a las personas encuestadas ocupadas plenas y subocupadas (los grupos que serán usados para el análisis)."
   ]
  },
  {
   "cell_type": "markdown",
   "id": "88db9be0",
   "metadata": {},
   "source": [
    "# 4. Presentación de datos\n",
    "Vamos a presetar nuestros datos para responder las preguntas definidas en el objetivo del análisis. Poner gráficos y poner qué nos van diciendo "
   ]
  },
  {
   "cell_type": "code",
   "execution_count": 33,
   "id": "a7580daf",
   "metadata": {},
   "outputs": [],
   "source": [
    "ocupados = pd.read_excel(\"DATA/ocupados.xlsx\")\n",
    "\n"
   ]
  },
  {
   "cell_type": "code",
   "execution_count": 34,
   "id": "874513b9",
   "metadata": {
    "scrolled": true
   },
   "outputs": [
    {
     "name": "stdout",
     "output_type": "stream",
     "text": [
      "<class 'pandas.core.frame.DataFrame'>\n",
      "RangeIndex: 10240 entries, 0 to 10239\n",
      "Data columns (total 17 columns):\n",
      " #   Column                          Non-Null Count  Dtype \n",
      "---  ------                          --------------  ----- \n",
      " 0   Unnamed: 0                      10240 non-null  int64 \n",
      " 1   CODUSU                          10240 non-null  object\n",
      " 2   REGION                          10240 non-null  object\n",
      " 3   AGLOMERADO                      10240 non-null  int64 \n",
      " 4   SEXO                            10240 non-null  object\n",
      " 5   AÑOS                            10240 non-null  int64 \n",
      " 6   NIVEL_EDUCATIVO                 10240 non-null  object\n",
      " 7   CATEGORÍA_OCUPACIONAL           10240 non-null  object\n",
      " 8   CANTIDAD_DE_TRABAJOS            10240 non-null  object\n",
      " 9   INTENSIDAD_DE_LA_OCUPACIÓN      10240 non-null  object\n",
      " 10  ANTIGUEDAD_EN_OCUPACIÓN         10240 non-null  object\n",
      " 11  MONTO_DE_INGRESO_TOTAL          10240 non-null  int64 \n",
      " 12  DECIL_DE_INGRESOS               10240 non-null  int64 \n",
      " 13  INGRESO_TOTAL_FAMILIAR          10240 non-null  int64 \n",
      " 14  DECILES_SEGÚN_INGRESO_FAMILIAR  10240 non-null  object\n",
      " 15  DESCUENTO_POR_JUBILACIÓN        10240 non-null  object\n",
      " 16  ESTADO_DE_OCUPACIÓN             10240 non-null  int64 \n",
      "dtypes: int64(7), object(10)\n",
      "memory usage: 1.3+ MB\n"
     ]
    }
   ],
   "source": [
    "ocupados.info()"
   ]
  },
  {
   "cell_type": "code",
   "execution_count": 35,
   "id": "a2730f51",
   "metadata": {
    "scrolled": false
   },
   "outputs": [
    {
     "data": {
      "image/png": "[encoded data removed]",
      "text/plain": [
       "<Figure size 432x288 with 1 Axes>"
      ]
     },
     "metadata": {},
     "output_type": "display_data"
    }
   ],
   "source": [
    "#Intensidad de la ocupación según sexo\n",
    "sexoo = ocupados[ocupados.INTENSIDAD_DE_LA_OCUPACIÓN == \"Ocupado pleno\"].SEXO.value_counts()\n",
    "sexooplt = sexoo.plot.pie(colors= [\"olive\",\"lightblue\"], autopct='%1.1f%%')"
   ]
  },
  {
   "cell_type": "code",
   "execution_count": 36,
   "id": "3fbcb9df",
   "metadata": {
    "scrolled": false
   },
   "outputs": [
    {
     "data": {
      "image/png": "[encoded data removed]",
      "text/plain": [
       "<Figure size 432x288 with 1 Axes>"
      ]
     },
     "metadata": {},
     "output_type": "display_data"
    }
   ],
   "source": [
    "sexos = ocupados[ocupados.INTENSIDAD_DE_LA_OCUPACIÓN == \"Subocupado\"].SEXO.value_counts()\n",
    "sexosplt = sexos.plot.pie(colors= [\"lightblue\", \"olive\"], autopct='%1.1f%%')"
   ]
  },
  {
   "cell_type": "code",
   "execution_count": 37,
   "id": "d84b15bf",
   "metadata": {
    "scrolled": true
   },
   "outputs": [
    {
     "data": {
      "image/png": "[encoded data removed]",
      "text/plain": [
       "<Figure size 432x288 with 2 Axes>"
      ]
     },
     "metadata": {},
     "output_type": "display_data"
    }
   ],
   "source": [
    "fig, (ax1, ax2) = plt.subplots(1, 2)\n",
    "\n",
    "fig.suptitle('Intensidad de ocupación según sexo')\n",
    "ax1.pie(sexos,colors= [\"lightblue\", \"olive\",], autopct='%1.1f%%')\n",
    "ax2.pie(sexoo, colors= [\"olive\",\"lightblue\"], autopct='%1.1f%%');\n",
    "\n",
    "#FALTA Q SE VEA LABELS"
   ]
  },
  {
   "cell_type": "code",
   "execution_count": 38,
   "id": "94b76abf",
   "metadata": {
    "scrolled": false
   },
   "outputs": [
    {
     "data": {
      "image/png": "[encoded data removed]",
      "text/plain": [
       "<Figure size 432x288 with 1 Axes>"
      ]
     },
     "metadata": {},
     "output_type": "display_data"
    }
   ],
   "source": [
    "#Intensidad de la ocupación según nivel educativo\n",
    "niveledo = ocupados[ocupados.INTENSIDAD_DE_LA_OCUPACIÓN == \"Ocupado pleno\"].NIVEL_EDUCATIVO.value_counts()\n",
    "niveledoplt = niveledo.plot.barh(color= [\"lightblue\"])"
   ]
  },
  {
   "cell_type": "code",
   "execution_count": 39,
   "id": "f44b07f8",
   "metadata": {},
   "outputs": [
    {
     "data": {
      "text/plain": [
       "2449    1\n",
       "1220    1\n",
       "234     1\n",
       "1361    1\n",
       "1949    1\n",
       "1009    1\n",
       "31      1\n",
       "Name: NIVEL_EDUCATIVO, dtype: int64"
      ]
     },
     "execution_count": 39,
     "metadata": {},
     "output_type": "execute_result"
    }
   ],
   "source": [
    "niveledo.value_counts()"
   ]
  },
  {
   "cell_type": "code",
   "execution_count": 40,
   "id": "2ce89582",
   "metadata": {
    "scrolled": false
   },
   "outputs": [
    {
     "data": {
      "image/png": "[encoded data removed]",
      "text/plain": [
       "<Figure size 432x288 with 1 Axes>"
      ]
     },
     "metadata": {},
     "output_type": "display_data"
    }
   ],
   "source": [
    "niveleds = ocupados[ocupados.INTENSIDAD_DE_LA_OCUPACIÓN == \"Subocupado\"].NIVEL_EDUCATIVO.value_counts()\n",
    "niveledsplt = niveleds.plot.barh(color= [\"lightblue\"])"
   ]
  },
  {
   "cell_type": "code",
   "execution_count": 41,
   "id": "d6f50a93",
   "metadata": {},
   "outputs": [
    {
     "data": {
      "text/plain": [
       "323    1\n",
       "533    1\n",
       "87     1\n",
       "264    1\n",
       "475    1\n",
       "12     1\n",
       "293    1\n",
       "Name: NIVEL_EDUCATIVO, dtype: int64"
      ]
     },
     "execution_count": 41,
     "metadata": {},
     "output_type": "execute_result"
    }
   ],
   "source": [
    "niveleds.value_counts()"
   ]
  },
  {
   "cell_type": "markdown",
   "id": "daabc3eb",
   "metadata": {},
   "source": [
    "Contemplando los valores (y sus ordenes) de nivel educativo para subocupados y ocuados plenos, saqué los porcentajes para realizar un cuadro que pudiera comparar de acuerdo a frecuencias relativas porque los n de ambos grupos eran muy disímiles y una comparación en absolutos tenía poco sentido. "
   ]
  },
  {
   "cell_type": "code",
   "execution_count": null,
   "id": "080d7e8e",
   "metadata": {
    "scrolled": true
   },
   "outputs": [],
   "source": [
    "#Cuadro comparando nivel educativo entre subocupados y ocupados plenos en porcentajes.\n",
    "labels = ['Universitario completo', 'Universitario incompleto', 'Secundario completo', 'Secundario incompleto', 'Primario completo', \"Primario incompleto\", \"Sin instrucción\"]\n",
    "ocupadop = [23.6, 14.8, 29.7, 16.5, 12.2, 2.8, 0.4]\n",
    "subo= [13.3, 14.7, 26.8, 14.7, 23.9, 4.4, 0.6]\n",
    "\n",
    "x = np.arange(len(labels))  \n",
    "width = 0.35  \n",
    "\n",
    "\n",
    "fig, ax = plt.subplots()\n",
    "rects1 = ax.bar(x - width/2, ocupadop, width, label='Ocupados plenos', color=\"lightblue\")\n",
    "rects2 = ax.bar(x + width/2, subo, width, label='Subocupados', color=\"tab:olive\")\n",
    "\n",
    "ax.set_ylabel('Porcentaje')\n",
    "ax.set_title('Intensidad de la ocupación según nivel educativo')\n",
    "ax.set_xticks(x)\n",
    "ax.set_xticklabels(labels)\n",
    "ax.legend()\n",
    "\n",
    "plt.xticks(rotation=75)\n",
    "fig.tight_layout()\n",
    "\n",
    "plt.show()"
   ]
  },
  {
   "cell_type": "code",
   "execution_count": null,
   "id": "09c12ef5",
   "metadata": {},
   "outputs": [],
   "source": [
    "#Intensidad de la educación según edad"
   ]
  },
  {
   "cell_type": "code",
   "execution_count": null,
   "id": "1231a6e6",
   "metadata": {
    "scrolled": true
   },
   "outputs": [],
   "source": [
    "my_pal = {\"Subocupado\": \"olive\", \"Ocupado pleno\": \"lightblue\"}\n",
    "plt = sns.catplot(x=\"INTENSIDAD_DE_LA_OCUPACIÓN\", y=\"AÑOS\", kind=\"box\", palette=my_pal, data=ocupados)\n",
    "plt.set(xlabel = \"Intensidad de ocupación\", ylabel = \"Edad\");\n",
    "#quiero que se vean mas valores eje y"
   ]
  },
  {
   "cell_type": "code",
   "execution_count": null,
   "id": "ee9f18b1",
   "metadata": {},
   "outputs": [],
   "source": [
    "#Intensidad según ingreso\n",
    "ocupados[ocupados.INTENSIDAD_DE_LA_OCUPACIÓN == \"Subocupado\"].MONTO_DE_INGRESO_TOTAL.describe()"
   ]
  },
  {
   "cell_type": "code",
   "execution_count": null,
   "id": "07f8ac1c",
   "metadata": {
    "scrolled": true
   },
   "outputs": [],
   "source": [
    "ocupados[ocupados.INTENSIDAD_DE_LA_OCUPACIÓN == \"Ocupado pleno\"].MONTO_DE_INGRESO_TOTAL.describe()"
   ]
  },
  {
   "cell_type": "code",
   "execution_count": null,
   "id": "3b00e54e",
   "metadata": {},
   "outputs": [],
   "source": [
    "#Creación de una t\n",
    "def calcula_indice(ingresos):\n",
    "    if ingresos < 8312:\n",
    "        return \"Personas por debajo de la línea de indigencia\"\n",
    "    elif ingresos < 19700: \n",
    "        return \"Personas por debajo de la línea de pobreza\"\n",
    "    else:\n",
    "        return \"Personas por sobre la línea de pobreza\"\n",
    "        \n",
    "ocupados['SITUACION'] = ocupados.apply(lambda x: calcula_indice(x['MONTO_DE_INGRESO_TOTAL']),axis=1)"
   ]
  },
  {
   "cell_type": "code",
   "execution_count": null,
   "id": "41050d5a",
   "metadata": {},
   "outputs": [],
   "source": [
    "sub = ocupados[ocupados.INTENSIDAD_DE_LA_OCUPACIÓN == \"Subocupado\"]\n",
    "subin = sub.groupby([\"MONTO_DE_INGRESO_TOTAL\", \"SITUACION\"])[\"CODUSU\"].count()\n",
    "subing = subin.reset_index()\n",
    "print(subing)"
   ]
  },
  {
   "cell_type": "code",
   "execution_count": null,
   "id": "95229e18",
   "metadata": {},
   "outputs": [],
   "source": [
    "sns.scatterplot(x=\"MONTO_DE_INGRESO_TOTAL\", y=\"CODUSU\", hue=\"SITUACION\", data= subing, palette = [\"lightcoral\", \"orange\", \"olive\" ]);\n"
   ]
  },
  {
   "cell_type": "code",
   "execution_count": null,
   "id": "eb74cbbb",
   "metadata": {},
   "outputs": [],
   "source": [
    "ocupadosplenos = ocupados[ocupados.INTENSIDAD_DE_LA_OCUPACIÓN == \"Ocupado pleno\"]\n",
    "ocin = ocupadosplenos.groupby([\"MONTO_DE_INGRESO_TOTAL\", \"SITUACION\"])[\"CODUSU\"].count()\n",
    "ocing = ocin.reset_index()\n"
   ]
  },
  {
   "cell_type": "code",
   "execution_count": null,
   "id": "262dfb00",
   "metadata": {
    "scrolled": false
   },
   "outputs": [],
   "source": [
    "sns.scatterplot(x=\"MONTO_DE_INGRESO_TOTAL\", y=\"CODUSU\", hue=\"SITUACION\", data= ocing, palette = [\"lightcoral\", \"orange\", \"olive\" ]);\n",
    "\n"
   ]
  },
  {
   "cell_type": "code",
   "execution_count": null,
   "id": "050422f7",
   "metadata": {
    "scrolled": false
   },
   "outputs": [],
   "source": [
    "#Eliminé outliers para poder comparar mejor\n",
    "ocout = ocing.drop(ocing[ocing.MONTO_DE_INGRESO_TOTAL > 600000 ].index)\n",
    "ocout.MONTO_DE_INGRESO_TOTAL.describe()"
   ]
  },
  {
   "cell_type": "code",
   "execution_count": null,
   "id": "7116885d",
   "metadata": {
    "scrolled": true
   },
   "outputs": [],
   "source": [
    "sns.scatterplot(x=\"MONTO_DE_INGRESO_TOTAL\", y=\"CODUSU\", hue=\"SITUACION\", data= ocout, palette = [\"lightcoral\", \"orange\", \"olive\" ]);"
   ]
  },
  {
   "cell_type": "code",
   "execution_count": null,
   "id": "d09551c9",
   "metadata": {},
   "outputs": [],
   "source": [
    "#Según ingreso familiar total\n",
    "def calcula_pobreza(ingresos):\n",
    "    if ingresos < 25685:\n",
    "        return \"Hogares por debajo de la línea de indigencia\"\n",
    "    elif ingresos < 60874: \n",
    "        return \"Hogares por debajo de la línea de pobreza\"\n",
    "    else:\n",
    "        return \"Hogares por sobre la línea de pobreza\"\n",
    "        \n",
    "ocupados['FAMILIA'] = ocupados.apply(lambda x: calcula_pobreza(x['INGRESO_TOTAL_FAMILIAR']),axis=1)\n"
   ]
  },
  {
   "cell_type": "code",
   "execution_count": null,
   "id": "dede8e1f",
   "metadata": {},
   "outputs": [],
   "source": [
    "ocpleno = ocupados[ocupados.INTENSIDAD_DE_LA_OCUPACIÓN == \"Ocupado pleno\"]\n",
    "familiapleno = ocpleno.groupby([\"INGRESO_TOTAL_FAMILIAR\", \"FAMILIA\"])[\"CODUSU\"].count()\n",
    "familiaplenoin = familiapleno.reset_index()"
   ]
  },
  {
   "cell_type": "code",
   "execution_count": null,
   "id": "7a8dac55",
   "metadata": {},
   "outputs": [],
   "source": [
    "sns.scatterplot(x=\"INGRESO_TOTAL_FAMILIAR\", y=\"CODUSU\", hue=\"FAMILIA\", data= familiaplenoin, palette = [\"lightcoral\", \"orange\", \"olive\" ]);"
   ]
  },
  {
   "cell_type": "code",
   "execution_count": null,
   "id": "2b303fc9",
   "metadata": {},
   "outputs": [],
   "source": [
    "subem = ocupados[ocupados.INTENSIDAD_DE_LA_OCUPACIÓN == \"Subocupado\"]\n",
    "familiasubo = subem.groupby([\"INGRESO_TOTAL_FAMILIAR\", \"FAMILIA\"])[\"CODUSU\"].count()\n",
    "familiasub = familiasubo.reset_index()"
   ]
  },
  {
   "cell_type": "code",
   "execution_count": null,
   "id": "6ccfaee0",
   "metadata": {
    "scrolled": true
   },
   "outputs": [],
   "source": [
    "sns.scatterplot(x=\"INGRESO_TOTAL_FAMILIAR\", y=\"CODUSU\", hue=\"FAMILIA\", data= familiasub, palette = [\"lightcoral\", \"orange\", \"olive\" ]);"
   ]
  },
  {
   "cell_type": "code",
   "execution_count": null,
   "id": "837705c4",
   "metadata": {},
   "outputs": [],
   "source": [
    "ocupados.info()"
   ]
  },
  {
   "cell_type": "code",
   "execution_count": 42,
   "id": "d32140e8",
   "metadata": {
    "scrolled": true
   },
   "outputs": [
    {
     "name": "stdout",
     "output_type": "stream",
     "text": [
      "Sí                                          4102\n",
      "No                                          2204\n",
      "No le corresponde la secuencia analizada    1947\n",
      "Name: DESCUENTO_POR_JUBILACIÓN, dtype: int64\n",
      "No                                          873\n",
      "No le corresponde la secuencia analizada    840\n",
      "Sí                                          274\n",
      "Name: DESCUENTO_POR_JUBILACIÓN, dtype: int64\n"
     ]
    }
   ],
   "source": [
    "#Intensidad de la ocupación según si recibe o no aportes jubilatorios \n",
    "aportesoc = ocupados[ocupados.INTENSIDAD_DE_LA_OCUPACIÓN == \"Ocupado pleno\"].DESCUENTO_POR_JUBILACIÓN.value_counts()\n",
    "aportessub = ocupados[ocupados.INTENSIDAD_DE_LA_OCUPACIÓN == \"Subocupado\"].DESCUENTO_POR_JUBILACIÓN.value_counts()\n",
    "print(aportesoc)\n",
    "print(aportessub)"
   ]
  },
  {
   "cell_type": "code",
   "execution_count": 43,
   "id": "2f49e8d7",
   "metadata": {
    "scrolled": true
   },
   "outputs": [
    {
     "data": {
      "image/png": "[encoded data removed]",
      "text/plain": [
       "<Figure size 432x288 with 2 Axes>"
      ]
     },
     "metadata": {},
     "output_type": "display_data"
    }
   ],
   "source": [
    "fig, (ax1, ax2) = plt.subplots(1, 2)\n",
    "\n",
    "fig.suptitle('Intensidad de ocupación según descuento de aportes jubilatorios')\n",
    "ax1.pie(aportesoc,colors= [\"lightblue\", \"olive\", \"silver\"], autopct='%1.1f%%')\n",
    "ax2.pie(aportessub, colors= [\"olive\",\"silver\", \"lightblue\"], autopct='%1.1f%%');"
   ]
  },
  {
   "cell_type": "code",
   "execution_count": 44,
   "id": "4665c787",
   "metadata": {
    "scrolled": true
   },
   "outputs": [
    {
     "name": "stdout",
     "output_type": "stream",
     "text": [
      "Obrero o empleado                       0.764086\n",
      "Cuenta propia                           0.197625\n",
      "Patrón                                  0.027869\n",
      "Trabajador familiar sin remuneración    0.010420\n",
      "Name: CATEGORÍA_OCUPACIONAL, dtype: float64\n",
      "Obrero o empleado                       0.577252\n",
      "Cuenta propia                           0.406140\n",
      "Patrón                                  0.008556\n",
      "Trabajador familiar sin remuneración    0.008052\n",
      "Name: CATEGORÍA_OCUPACIONAL, dtype: float64\n"
     ]
    }
   ],
   "source": [
    "#CATEGORÍA OCUPACIONAL\n",
    "sub_por = ocupados[ocupados.INTENSIDAD_DE_LA_OCUPACIÓN == \"Subocupado\"].CATEGORÍA_OCUPACIONAL.value_counts(normalize= True)\n",
    "ocu_por = ocupados[ocupados.INTENSIDAD_DE_LA_OCUPACIÓN == \"Ocupado pleno\"].CATEGORÍA_OCUPACIONAL.value_counts(normalize= True)\n",
    "print(ocu_por)\n",
    "print(sub_por)"
   ]
  },
  {
   "cell_type": "code",
   "execution_count": 48,
   "id": "70b50201",
   "metadata": {
    "scrolled": false
   },
   "outputs": [
    {
     "ename": "SyntaxError",
     "evalue": "invalid syntax (<ipython-input-48-11b82b7bed28>, line 5)",
     "output_type": "error",
     "traceback": [
      "\u001b[1;36m  File \u001b[1;32m\"<ipython-input-48-11b82b7bed28>\"\u001b[1;36m, line \u001b[1;32m5\u001b[0m\n\u001b[1;33m    ax = sns.catplot(x=sub_por, ocu_por, y=CATEGORÍA_OCUPACIONAL kind= 'count', height=5, aspect=2, color='olive', data= sub_por, ocu_por);\u001b[0m\n\u001b[1;37m                                                                 ^\u001b[0m\n\u001b[1;31mSyntaxError\u001b[0m\u001b[1;31m:\u001b[0m invalid syntax\n"
     ]
    }
   ],
   "source": [
    "#Intensidad de ocupación según categoría de ocupación\n",
    "labels = [ 'Subocupados', 'Ocupados plenos']\n",
    "\n",
    "\n",
    "ax = sns.catplot(x=sub_por, ocu_por, y=CATEGORÍA_OCUPACIONAL kind= 'count', height=5, aspect=2, color='olive', data= sub_por, ocu_por);\n",
    "\n",
    "ax.set(xticks=range(2), xticklabels=labels)\n",
    "\n",
    "plt.xlabel(\"Estado del paciente\")\n",
    "plt.ylabel(\"Cantidad de pacientes\")\n",
    "plt.title(\"Distribución de la edad por estado del paciente\");"
   ]
  },
  {
   "cell_type": "code",
   "execution_count": 57,
   "id": "fefca68a",
   "metadata": {},
   "outputs": [
    {
     "name": "stdout",
     "output_type": "stream",
     "text": [
      "INTENSIDAD_DE_LA_OCUPACIÓN  CATEGORÍA_OCUPACIONAL               \n",
      "Ocupado pleno               Cuenta propia                           1631\n",
      "                            Obrero o empleado                       6306\n",
      "                            Patrón                                   230\n",
      "                            Trabajador familiar sin remuneración      86\n",
      "Subocupado                  Cuenta propia                            807\n",
      "                            Obrero o empleado                       1147\n",
      "                            Patrón                                    17\n",
      "                            Trabajador familiar sin remuneración      16\n",
      "Name: CODUSU, dtype: int64\n"
     ]
    }
   ],
   "source": [
    "ocupación_cat = ocupados.groupby([\"INTENSIDAD_DE_LA_OCUPACIÓN\", \"CATEGORÍA_OCUPACIONAL\"])[\"CODUSU\"].count()\n",
    "print(ocupación_cat)"
   ]
  },
  {
   "cell_type": "markdown",
   "id": "c99b1cdb",
   "metadata": {},
   "source": [
    "# 5 Conclusiones, qué estaba buscando, qué encontré"
   ]
  },
  {
   "cell_type": "markdown",
   "id": "3b50f00f",
   "metadata": {},
   "source": [
    "# 6 Referencias\n",
    "links a recursos que utilizamos y que nos sirvieron para análisis\n",
    "https://www.indec.gob.ar/uploads/informesdeprensa/canasta_04_21EDC756AEAE.pdf\n",
    "https://twitter.com/INDECArgentina/status/1385308275881746433/photo/1"
   ]
  },
  {
   "cell_type": "code",
   "execution_count": null,
   "id": "6a132786",
   "metadata": {},
   "outputs": [],
   "source": []
  }
 ],
 "metadata": {
  "kernelspec": {
   "display_name": "Python 3",
   "language": "python",
   "name": "python3"
  },
  "language_info": {
   "codemirror_mode": {
    "name": "ipython",
    "version": 3
   },
   "file_extension": ".py",
   "mimetype": "text/x-python",
   "name": "python",
   "nbconvert_exporter": "python",
   "pygments_lexer": "ipython3",
   "version": "3.8.8"
  }
 },
 "nbformat": 4,
 "nbformat_minor": 5
}
