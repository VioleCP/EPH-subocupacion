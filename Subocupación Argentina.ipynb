{
 "cells": [
  {
   "cell_type": "markdown",
   "id": "46f1a275",
   "metadata": {
    "slideshow": {
     "slide_type": "slide"
    }
   },
   "source": [
    "# Análisis de la subocupación en Argentina 1er trimestre 2021.\n",
    "**Por Violeta Carrera Pereyra** \n",
    "\n",
    "\n",
    "## Objetivo\n",
    "Este trabajo tiene como objetivo hacer una caracterización de la subocupacion en Argentina y comparar sus principales rasgos con los ocupados plenos (categoría considerada ideal). Para ello se utilizó la EPH (Encuesta Permanente de Hogares) realizada por el INDEC del primer trimestre del 2021. Las siguientes preguntas recorren el análisis de los datos:\n",
    "- ¿Varía la composición de los subocupados según el sexo?\n",
    "- ¿El nivel educativo condiciona la intensidad de ocupación?\n",
    "- ¿Cómo afecta la edad a la intensidad de ocupación?\n",
    "- ¿Perciben menores ingresos las personas subocupadas? ¿Viven en hogares más pobres que las personas ocupadas plenas?\n",
    "- ¿En qué medida las personas subocupadas están en una relación de dependencia formal y registrada?\n",
    "\n",
    "\n",
    "\n",
    "## Tabla de contenidos\n",
    "1. Carga de datos\n",
    "2. Exploración de datos\n",
    "3. Limpieza de datos\n",
    "4. Presentación de datos\n",
    "5. Conclusiones\n",
    "6. Referencias\n",
    "\n",
    "\n",
    "\n"
   ]
  },
  {
   "cell_type": "markdown",
   "id": "4350ed24",
   "metadata": {},
   "source": [
    "# 1. Carga de datos\n",
    "Carga de la base (Encuesta Permanente de Hogares del INDEC primer trimestre del 2021) y recorte de las columnas con las que se trabajará.\n",
    "\n"
   ]
  },
  {
   "cell_type": "code",
   "execution_count": 13,
   "id": "11ac6d89",
   "metadata": {},
   "outputs": [],
   "source": [
    "#Importar librerias\n",
    "import pandas as pd\n",
    "import numpy as np\n",
    "import seaborn as sns\n",
    "import matplotlib.pyplot as plt \n",
    "%matplotlib inline\n",
    "from matplotlib import style\n",
    "import seaborn as sns\n"
   ]
  },
  {
   "cell_type": "code",
   "execution_count": 14,
   "id": "a7101239",
   "metadata": {},
   "outputs": [],
   "source": [
    "style.use('seaborn-whitegrid')"
   ]
  },
  {
   "cell_type": "code",
   "execution_count": 95,
   "id": "c6d401b4",
   "metadata": {},
   "outputs": [
    {
     "name": "stdout",
     "output_type": "stream",
     "text": [
      "C:\\Users\\User\\Documents\\GitHub\\EPH-subocupaci-n\n"
     ]
    }
   ],
   "source": [
    "#Importar datos\n",
    "import os \n",
    "print(os.getcwd())"
   ]
  },
  {
   "cell_type": "code",
   "execution_count": 96,
   "id": "1cb73de1",
   "metadata": {
    "scrolled": false
   },
   "outputs": [
    {
     "name": "stdout",
     "output_type": "stream",
     "text": [
      "<class 'pandas.core.frame.DataFrame'>\n",
      "RangeIndex: 46693 entries, 0 to 46692\n",
      "Columns: 177 entries, CODUSU to PONDIH\n",
      "dtypes: float64(115), int64(59), object(3)\n",
      "memory usage: 63.1+ MB\n"
     ]
    }
   ],
   "source": [
    "eph_completa = pd.read_excel(\"data/usu_individual_T121.xlsx\")\n",
    "eph_completa.info()"
   ]
  },
  {
   "cell_type": "code",
   "execution_count": 97,
   "id": "f5f958bf",
   "metadata": {
    "scrolled": true,
    "slideshow": {
     "slide_type": "slide"
    }
   },
   "outputs": [
    {
     "name": "stdout",
     "output_type": "stream",
     "text": [
      "['CODUSU', 'ANO4', 'TRIMESTRE', 'NRO_HOGAR', 'COMPONENTE', 'H15', 'REGION', 'MAS_500', 'AGLOMERADO', 'PONDERA', 'CH03', 'CH04', 'CH05', 'CH06', 'CH07', 'CH08', 'CH09', 'CH10', 'CH11', 'CH12', 'CH13', 'CH14', 'CH15', 'CH15_COD', 'CH16', 'CH16_COD', 'NIVEL_ED', 'ESTADO', 'CAT_OCUP', 'CAT_INAC', 'IMPUTA', 'PP02C1', 'PP02C2', 'PP02C3', 'PP02C4', 'PP02C5', 'PP02C6', 'PP02C7', 'PP02C8', 'PP02E', 'PP02H', 'PP02I', 'PP03C', 'PP03D', 'PP3E_TOT', 'PP3F_TOT', 'PP03G', 'PP03H', 'PP03I', 'PP03J', 'INTENSI', 'PP04A', 'PP04B_COD', 'PP04B1', 'PP04B2', 'PP04B3_MES', 'PP04B3_ANO', 'PP04B3_DIA', 'PP04C', 'PP04C99', 'PP04D_COD', 'PP04G', 'PP05B2_MES', 'PP05B2_ANO', 'PP05B2_DIA', 'PP05C_1', 'PP05C_2', 'PP05C_3', 'PP05E', 'PP05F', 'PP05H', 'PP06A', 'PP06C', 'PP06D', 'PP06E', 'PP06H', 'PP07A', 'PP07C', 'PP07D', 'PP07E', 'PP07F1', 'PP07F2', 'PP07F3', 'PP07F4', 'PP07F5', 'PP07G1', 'PP07G2', 'PP07G3', 'PP07G4', 'PP07G_59', 'PP07H', 'PP07I', 'PP07J', 'PP07K', 'PP08D1', 'PP08D4', 'PP08F1', 'PP08F2', 'PP08J1', 'PP08J2', 'PP08J3', 'PP09A', 'PP09A_ESP', 'PP09B', 'PP09C', 'PP09C_ESP', 'PP10A', 'PP10C', 'PP10D', 'PP10E', 'PP11A', 'PP11B_COD', 'PP11B1', 'PP11B2_MES', 'PP11B2_ANO', 'PP11B2_DIA', 'PP11C', 'PP11C99', 'PP11D_COD', 'PP11G_ANO', 'PP11G_MES', 'PP11G_DIA', 'PP11L', 'PP11L1', 'PP11M', 'PP11N', 'PP11O', 'PP11P', 'PP11Q', 'PP11R', 'PP11S', 'PP11T', 'P21', 'DECOCUR', 'IDECOCUR', 'RDECOCUR', 'GDECOCUR', 'PDECOCUR', 'ADECOCUR', 'PONDIIO', 'TOT_P12', 'P47T', 'DECINDR', 'IDECINDR', 'RDECINDR', 'GDECINDR', 'PDECINDR', 'ADECINDR', 'PONDII', 'V2_M', 'V3_M', 'V4_M', 'V5_M', 'V8_M', 'V9_M', 'V10_M', 'V11_M', 'V12_M', 'V18_M', 'V19_AM', 'V21_M', 'T_VI', 'ITF', 'DECIFR', 'IDECIFR', 'RDECIFR', 'GDECIFR', 'PDECIFR', 'ADECIFR', 'IPCF', 'DECCFR', 'IDECCFR', 'RDECCFR', 'GDECCFR', 'PDECCFR', 'ADECCFR', 'PONDIH']\n"
     ]
    }
   ],
   "source": [
    "print(list(eph_completa.columns))\n"
   ]
  },
  {
   "cell_type": "code",
   "execution_count": 98,
   "id": "e5b003bb",
   "metadata": {},
   "outputs": [],
   "source": [
    "#Recorte de la base\n",
    "eph = eph_completa[[\"CODUSU\", \"REGION\", \"AGLOMERADO\", \"CH04\", \"CH06\", \"NIVEL_ED\", \"CAT_OCUP\", \"PP03C\", \"INTENSI\", \"PP07A\", \"P47T\", \"DECINDR\", \"ITF\", \"DECIFR\", \"PP07H\", \"ESTADO\"]]"
   ]
  },
  {
   "cell_type": "markdown",
   "id": "e9374376",
   "metadata": {},
   "source": [
    "# 2. Exploración de datos\n"
   ]
  },
  {
   "cell_type": "code",
   "execution_count": 99,
   "id": "93fe9225",
   "metadata": {
    "scrolled": false
   },
   "outputs": [
    {
     "name": "stdout",
     "output_type": "stream",
     "text": [
      "<class 'pandas.core.frame.DataFrame'>\n",
      "RangeIndex: 46693 entries, 0 to 46692\n",
      "Data columns (total 16 columns):\n",
      " #   Column      Non-Null Count  Dtype  \n",
      "---  ------      --------------  -----  \n",
      " 0   CODUSU      46693 non-null  object \n",
      " 1   REGION      46693 non-null  int64  \n",
      " 2   AGLOMERADO  46693 non-null  int64  \n",
      " 3   CH04        46693 non-null  int64  \n",
      " 4   CH06        46693 non-null  int64  \n",
      " 5   NIVEL_ED    46693 non-null  int64  \n",
      " 6   CAT_OCUP    46693 non-null  int64  \n",
      " 7   PP03C       19014 non-null  float64\n",
      " 8   INTENSI     19014 non-null  float64\n",
      " 9   PP07A       19014 non-null  float64\n",
      " 10  P47T        46619 non-null  float64\n",
      " 11  DECINDR     46693 non-null  int64  \n",
      " 12  ITF         46691 non-null  float64\n",
      " 13  DECIFR      46691 non-null  float64\n",
      " 14  PP07H       19014 non-null  float64\n",
      " 15  ESTADO      46693 non-null  int64  \n",
      "dtypes: float64(7), int64(8), object(1)\n",
      "memory usage: 5.7+ MB\n"
     ]
    }
   ],
   "source": [
    "eph.info()"
   ]
  },
  {
   "cell_type": "code",
   "execution_count": 100,
   "id": "93e3a8d9",
   "metadata": {
    "scrolled": false
   },
   "outputs": [
    {
     "data": {
      "text/html": [
       "<div>\n",
       "<style scoped>\n",
       "    .dataframe tbody tr th:only-of-type {\n",
       "        vertical-align: middle;\n",
       "    }\n",
       "\n",
       "    .dataframe tbody tr th {\n",
       "        vertical-align: top;\n",
       "    }\n",
       "\n",
       "    .dataframe thead th {\n",
       "        text-align: right;\n",
       "    }\n",
       "</style>\n",
       "<table border=\"1\" class=\"dataframe\">\n",
       "  <thead>\n",
       "    <tr style=\"text-align: right;\">\n",
       "      <th></th>\n",
       "      <th>CODUSU</th>\n",
       "      <th>REGION</th>\n",
       "      <th>AGLOMERADO</th>\n",
       "      <th>CH04</th>\n",
       "      <th>CH06</th>\n",
       "      <th>NIVEL_ED</th>\n",
       "      <th>CAT_OCUP</th>\n",
       "      <th>PP03C</th>\n",
       "      <th>INTENSI</th>\n",
       "      <th>PP07A</th>\n",
       "      <th>P47T</th>\n",
       "      <th>DECINDR</th>\n",
       "      <th>ITF</th>\n",
       "      <th>DECIFR</th>\n",
       "      <th>PP07H</th>\n",
       "      <th>ESTADO</th>\n",
       "    </tr>\n",
       "  </thead>\n",
       "  <tbody>\n",
       "    <tr>\n",
       "      <th>2580</th>\n",
       "      <td>TQRMNOPWXHKOKMCDEFKID00652486</td>\n",
       "      <td>43</td>\n",
       "      <td>4</td>\n",
       "      <td>2</td>\n",
       "      <td>73</td>\n",
       "      <td>6</td>\n",
       "      <td>0</td>\n",
       "      <td>NaN</td>\n",
       "      <td>NaN</td>\n",
       "      <td>NaN</td>\n",
       "      <td>-9.0</td>\n",
       "      <td>12</td>\n",
       "      <td>0.0</td>\n",
       "      <td>12.0</td>\n",
       "      <td>NaN</td>\n",
       "      <td>3</td>\n",
       "    </tr>\n",
       "    <tr>\n",
       "      <th>34953</th>\n",
       "      <td>TQRMNOSVRHLMLNCDEHPJB00649984</td>\n",
       "      <td>40</td>\n",
       "      <td>29</td>\n",
       "      <td>2</td>\n",
       "      <td>16</td>\n",
       "      <td>3</td>\n",
       "      <td>0</td>\n",
       "      <td>NaN</td>\n",
       "      <td>NaN</td>\n",
       "      <td>NaN</td>\n",
       "      <td>0.0</td>\n",
       "      <td>0</td>\n",
       "      <td>49100.0</td>\n",
       "      <td>4.0</td>\n",
       "      <td>NaN</td>\n",
       "      <td>3</td>\n",
       "    </tr>\n",
       "    <tr>\n",
       "      <th>40673</th>\n",
       "      <td>TQRMNOTTWHLOMPCDEIJAH00650744</td>\n",
       "      <td>1</td>\n",
       "      <td>33</td>\n",
       "      <td>2</td>\n",
       "      <td>3</td>\n",
       "      <td>7</td>\n",
       "      <td>0</td>\n",
       "      <td>NaN</td>\n",
       "      <td>NaN</td>\n",
       "      <td>NaN</td>\n",
       "      <td>0.0</td>\n",
       "      <td>0</td>\n",
       "      <td>62000.0</td>\n",
       "      <td>6.0</td>\n",
       "      <td>NaN</td>\n",
       "      <td>4</td>\n",
       "    </tr>\n",
       "    <tr>\n",
       "      <th>43993</th>\n",
       "      <td>TQRMNORXRHMMKMCDEIOAH00699311</td>\n",
       "      <td>43</td>\n",
       "      <td>38</td>\n",
       "      <td>2</td>\n",
       "      <td>47</td>\n",
       "      <td>3</td>\n",
       "      <td>0</td>\n",
       "      <td>NaN</td>\n",
       "      <td>NaN</td>\n",
       "      <td>NaN</td>\n",
       "      <td>12000.0</td>\n",
       "      <td>2</td>\n",
       "      <td>162000.0</td>\n",
       "      <td>10.0</td>\n",
       "      <td>NaN</td>\n",
       "      <td>3</td>\n",
       "    </tr>\n",
       "    <tr>\n",
       "      <th>44714</th>\n",
       "      <td>TQRMNOQQWHKNKQCDEOHCH00656893</td>\n",
       "      <td>44</td>\n",
       "      <td>91</td>\n",
       "      <td>1</td>\n",
       "      <td>19</td>\n",
       "      <td>3</td>\n",
       "      <td>2</td>\n",
       "      <td>1.0</td>\n",
       "      <td>2.0</td>\n",
       "      <td>0.0</td>\n",
       "      <td>18000.0</td>\n",
       "      <td>3</td>\n",
       "      <td>50000.0</td>\n",
       "      <td>5.0</td>\n",
       "      <td>0.0</td>\n",
       "      <td>1</td>\n",
       "    </tr>\n",
       "  </tbody>\n",
       "</table>\n",
       "</div>"
      ],
      "text/plain": [
       "                              CODUSU  REGION  AGLOMERADO  CH04  CH06  \\\n",
       "2580   TQRMNOPWXHKOKMCDEFKID00652486      43           4     2    73   \n",
       "34953  TQRMNOSVRHLMLNCDEHPJB00649984      40          29     2    16   \n",
       "40673  TQRMNOTTWHLOMPCDEIJAH00650744       1          33     2     3   \n",
       "43993  TQRMNORXRHMMKMCDEIOAH00699311      43          38     2    47   \n",
       "44714  TQRMNOQQWHKNKQCDEOHCH00656893      44          91     1    19   \n",
       "\n",
       "       NIVEL_ED  CAT_OCUP  PP03C  INTENSI  PP07A     P47T  DECINDR       ITF  \\\n",
       "2580          6         0    NaN      NaN    NaN     -9.0       12       0.0   \n",
       "34953         3         0    NaN      NaN    NaN      0.0        0   49100.0   \n",
       "40673         7         0    NaN      NaN    NaN      0.0        0   62000.0   \n",
       "43993         3         0    NaN      NaN    NaN  12000.0        2  162000.0   \n",
       "44714         3         2    1.0      2.0    0.0  18000.0        3   50000.0   \n",
       "\n",
       "       DECIFR  PP07H  ESTADO  \n",
       "2580     12.0    NaN       3  \n",
       "34953     4.0    NaN       3  \n",
       "40673     6.0    NaN       4  \n",
       "43993    10.0    NaN       3  \n",
       "44714     5.0    0.0       1  "
      ]
     },
     "execution_count": 100,
     "metadata": {},
     "output_type": "execute_result"
    }
   ],
   "source": [
    "eph.sample(5)"
   ]
  },
  {
   "cell_type": "code",
   "execution_count": 101,
   "id": "e8a1bcf9",
   "metadata": {
    "scrolled": true
   },
   "outputs": [
    {
     "data": {
      "text/plain": [
       "(46693, 16)"
      ]
     },
     "execution_count": 101,
     "metadata": {},
     "output_type": "execute_result"
    }
   ],
   "source": [
    "eph.shape"
   ]
  },
  {
   "cell_type": "code",
   "execution_count": 102,
   "id": "cc8a2357",
   "metadata": {
    "scrolled": true
   },
   "outputs": [
    {
     "name": "stdout",
     "output_type": "stream",
     "text": [
      "[43 41 44 42 40  1]\n"
     ]
    },
    {
     "data": {
      "text/plain": [
       "43    0.307412\n",
       "40    0.240914\n",
       "44    0.139892\n",
       "42    0.117084\n",
       "41    0.107275\n",
       "1     0.087422\n",
       "Name: REGION, dtype: float64"
      ]
     },
     "execution_count": 102,
     "metadata": {},
     "output_type": "execute_result"
    }
   ],
   "source": [
    "#Valores únicos y frecuencia relativa de cada columna del dataset (aplicado solo a variables categóricas y edad)\n",
    "#Región geográfica\n",
    "print(eph.REGION.unique())\n",
    "eph.REGION.value_counts(dropna=False, normalize=True)"
   ]
  },
  {
   "cell_type": "code",
   "execution_count": 103,
   "id": "d0dd84af",
   "metadata": {
    "scrolled": true
   },
   "outputs": [
    {
     "name": "stdout",
     "output_type": "stream",
     "text": [
      "[ 2  3  4  5  6  7  8  9 10 12 13 14 15 17 18 19 20 22 23 25 26 27 29 30\n",
      " 31 32 33 34 36 38 91 93]\n"
     ]
    },
    {
     "data": {
      "text/plain": [
       "33    0.066070\n",
       "23    0.054890\n",
       "10    0.050179\n",
       "29    0.043583\n",
       "4     0.039321\n",
       "19    0.038807\n",
       "27    0.038357\n",
       "18    0.036858\n",
       "14    0.035980\n",
       "13    0.035701\n",
       "25    0.034288\n",
       "5     0.032553\n",
       "22    0.032489\n",
       "38    0.032146\n",
       "15    0.031739\n",
       "6     0.029276\n",
       "26    0.028548\n",
       "7     0.028141\n",
       "12    0.026813\n",
       "91    0.026685\n",
       "2     0.026385\n",
       "17    0.023986\n",
       "9     0.023580\n",
       "93    0.023451\n",
       "3     0.022916\n",
       "36    0.021952\n",
       "32    0.021352\n",
       "20    0.021245\n",
       "31    0.020945\n",
       "8     0.020581\n",
       "34    0.020239\n",
       "30    0.010944\n",
       "Name: AGLOMERADO, dtype: float64"
      ]
     },
     "execution_count": 103,
     "metadata": {},
     "output_type": "execute_result"
    }
   ],
   "source": [
    "#Aglomerado urbano\n",
    "print(eph.AGLOMERADO.unique())\n",
    "eph.AGLOMERADO.value_counts(dropna=False, normalize=True)"
   ]
  },
  {
   "cell_type": "code",
   "execution_count": 104,
   "id": "0e4ec0a3",
   "metadata": {
    "scrolled": true
   },
   "outputs": [
    {
     "name": "stdout",
     "output_type": "stream",
     "text": [
      "[2 1]\n"
     ]
    },
    {
     "data": {
      "text/plain": [
       "2    0.522005\n",
       "1    0.477995\n",
       "Name: CH04, dtype: float64"
      ]
     },
     "execution_count": 104,
     "metadata": {},
     "output_type": "execute_result"
    }
   ],
   "source": [
    "#Sexo\n",
    "print(eph.CH04.unique())\n",
    "eph.CH04.value_counts(dropna=False, normalize=True)"
   ]
  },
  {
   "cell_type": "code",
   "execution_count": 105,
   "id": "69e65884",
   "metadata": {
    "scrolled": true
   },
   "outputs": [
    {
     "name": "stdout",
     "output_type": "stream",
     "text": [
      "[ 27  26  38  33  15  17  10  25  21  49  37  62  34  28  60  69  70  74\n",
      "  44  54  50  19  68  67  58  61  75  56  59  42  40  16  14  64  30  32\n",
      "  55  24  22  18  11   7  43  47   9  35   6  63  45  57  46   4  53  20\n",
      "  36  41  51  52  91  72   8  29  31  77  66  23  80  81  48   5  12   3\n",
      "   2  13  84  82  71  65  76  73  78  79  -1   1  85  39  89  90  83  97\n",
      "  92  87  88  86  98  93  94  99  96  95 101]\n"
     ]
    },
    {
     "data": {
      "text/plain": [
       "20     0.017454\n",
       "16     0.016705\n",
       "21     0.016683\n",
       "17     0.016448\n",
       "23     0.016448\n",
       "         ...   \n",
       "95     0.000150\n",
       "97     0.000128\n",
       "98     0.000107\n",
       "99     0.000107\n",
       "101    0.000021\n",
       "Name: CH06, Length: 101, dtype: float64"
      ]
     },
     "execution_count": 105,
     "metadata": {},
     "output_type": "execute_result"
    }
   ],
   "source": [
    "#Edad\n",
    "print(eph.CH06.unique())\n",
    "eph.CH06.value_counts(dropna=False, normalize=True)"
   ]
  },
  {
   "cell_type": "code",
   "execution_count": 106,
   "id": "6689a22d",
   "metadata": {
    "scrolled": true
   },
   "outputs": [
    {
     "name": "stdout",
     "output_type": "stream",
     "text": [
      "[6 5 3 1 2 4 7]\n"
     ]
    },
    {
     "data": {
      "text/plain": [
       "3    0.209582\n",
       "4    0.198252\n",
       "1    0.142291\n",
       "6    0.129848\n",
       "2    0.123487\n",
       "5    0.120703\n",
       "7    0.075836\n",
       "Name: NIVEL_ED, dtype: float64"
      ]
     },
     "execution_count": 106,
     "metadata": {},
     "output_type": "execute_result"
    }
   ],
   "source": [
    "#Nivel educativo\n",
    "print(eph.NIVEL_ED.unique())\n",
    "eph.NIVEL_ED.value_counts(dropna=False, normalize=True)"
   ]
  },
  {
   "cell_type": "code",
   "execution_count": 107,
   "id": "00f2dd93",
   "metadata": {
    "scrolled": true
   },
   "outputs": [
    {
     "name": "stdout",
     "output_type": "stream",
     "text": [
      "[3 0 2 1 4 9]\n"
     ]
    },
    {
     "data": {
      "text/plain": [
       "0    0.563703\n",
       "3    0.314287\n",
       "2    0.103806\n",
       "1    0.015141\n",
       "4    0.003020\n",
       "9    0.000043\n",
       "Name: CAT_OCUP, dtype: float64"
      ]
     },
     "execution_count": 107,
     "metadata": {},
     "output_type": "execute_result"
    }
   ],
   "source": [
    "#Categoría ocupacional\n",
    "print(eph.CAT_OCUP.unique())\n",
    "eph.CAT_OCUP.value_counts(dropna=False, normalize=True)"
   ]
  },
  {
   "cell_type": "code",
   "execution_count": 108,
   "id": "6fb594ff",
   "metadata": {
    "scrolled": true
   },
   "outputs": [
    {
     "name": "stdout",
     "output_type": "stream",
     "text": [
      "[ 1. nan  2.  0.]\n"
     ]
    },
    {
     "data": {
      "text/plain": [
       "NaN    0.592787\n",
       "1.0    0.338680\n",
       "0.0    0.039985\n",
       "2.0    0.028548\n",
       "Name: PP03C, dtype: float64"
      ]
     },
     "execution_count": 108,
     "metadata": {},
     "output_type": "execute_result"
    }
   ],
   "source": [
    "#Cantidad de empleos\n",
    "print(eph.PP03C.unique())\n",
    "eph.PP03C.value_counts(dropna=False, normalize=True)"
   ]
  },
  {
   "cell_type": "code",
   "execution_count": 109,
   "id": "d8df5ba4",
   "metadata": {
    "scrolled": true
   },
   "outputs": [
    {
     "name": "stdout",
     "output_type": "stream",
     "text": [
      "[1 3 2 4 0]\n"
     ]
    },
    {
     "data": {
      "text/plain": [
       "3    19684\n",
       "1    19014\n",
       "4     6155\n",
       "2     1766\n",
       "0       74\n",
       "Name: ESTADO, dtype: int64"
      ]
     },
     "execution_count": 109,
     "metadata": {},
     "output_type": "execute_result"
    }
   ],
   "source": [
    "#Estado de ocupación\n",
    "print(eph.ESTADO.unique())\n",
    "eph.ESTADO.value_counts(dropna=False)"
   ]
  },
  {
   "cell_type": "code",
   "execution_count": 110,
   "id": "a626243f",
   "metadata": {
    "scrolled": false
   },
   "outputs": [
    {
     "name": "stdout",
     "output_type": "stream",
     "text": [
      "[ 3. nan  1.  4.  2.]\n"
     ]
    },
    {
     "data": {
      "text/plain": [
       "NaN    0.592787\n",
       "2.0    0.208725\n",
       "3.0    0.109374\n",
       "1.0    0.049108\n",
       "4.0    0.040006\n",
       "Name: INTENSI, dtype: float64"
      ]
     },
     "execution_count": 110,
     "metadata": {},
     "output_type": "execute_result"
    }
   ],
   "source": [
    "#Intensidad de la ocupación\n",
    "print(eph.INTENSI.unique())\n",
    "eph.INTENSI.value_counts(dropna=False, normalize=True)"
   ]
  },
  {
   "cell_type": "code",
   "execution_count": 111,
   "id": "36b79a9f",
   "metadata": {
    "scrolled": true
   },
   "outputs": [
    {
     "name": "stdout",
     "output_type": "stream",
     "text": [
      "[ 5. nan  2.  0.  6.  4.  3.  9.  1.]\n"
     ]
    },
    {
     "data": {
      "text/plain": [
       "NaN    0.592787\n",
       "6.0    0.150365\n",
       "0.0    0.141563\n",
       "5.0    0.073930\n",
       "2.0    0.012529\n",
       "4.0    0.011522\n",
       "3.0    0.009637\n",
       "1.0    0.007003\n",
       "9.0    0.000664\n",
       "Name: PP07A, dtype: float64"
      ]
     },
     "execution_count": 111,
     "metadata": {},
     "output_type": "execute_result"
    }
   ],
   "source": [
    "#Hace cuánto trabajan en la ocupación principal\n",
    "print(eph.PP07A.unique())\n",
    "eph.PP07A.value_counts(dropna=False, normalize=True)"
   ]
  },
  {
   "cell_type": "code",
   "execution_count": 112,
   "id": "05cdcfd8",
   "metadata": {
    "scrolled": true
   },
   "outputs": [
    {
     "name": "stdout",
     "output_type": "stream",
     "text": [
      "[ 7  4 12  2  0  3  1  5  6  9 10  8 13]\n"
     ]
    },
    {
     "data": {
      "text/plain": [
       "0     0.388902\n",
       "12    0.081554\n",
       "3     0.065277\n",
       "2     0.063414\n",
       "5     0.056839\n",
       "6     0.056582\n",
       "4     0.056197\n",
       "7     0.051121\n",
       "1     0.050264\n",
       "8     0.045510\n",
       "9     0.044482\n",
       "10    0.038314\n",
       "13    0.001542\n",
       "Name: DECINDR, dtype: float64"
      ]
     },
     "execution_count": 112,
     "metadata": {},
     "output_type": "execute_result"
    }
   ],
   "source": [
    "#Deciles de ingreso total\n",
    "print(eph.DECINDR.unique())\n",
    "eph.DECINDR.value_counts(dropna=False, normalize=True)"
   ]
  },
  {
   "cell_type": "code",
   "execution_count": 113,
   "id": "8202c95e",
   "metadata": {
    "scrolled": true
   },
   "outputs": [
    {
     "name": "stdout",
     "output_type": "stream",
     "text": [
      "[ 4.  2. 12.  1.  9.  8.  5. 10.  6.  7.  3.  0. nan]\n"
     ]
    },
    {
     "data": {
      "text/plain": [
       "12.0    0.180734\n",
       "7.0     0.099308\n",
       "4.0     0.092326\n",
       "3.0     0.085944\n",
       "5.0     0.085216\n",
       "6.0     0.084167\n",
       "8.0     0.083524\n",
       "9.0     0.082346\n",
       "2.0     0.076521\n",
       "10.0    0.066670\n",
       "1.0     0.059923\n",
       "0.0     0.003277\n",
       "NaN     0.000043\n",
       "Name: DECIFR, dtype: float64"
      ]
     },
     "execution_count": 113,
     "metadata": {},
     "output_type": "execute_result"
    }
   ],
   "source": [
    "#Deciles de ingreso familiar\n",
    "print(eph.DECIFR.unique())\n",
    "eph.DECIFR.value_counts(dropna=False, normalize=True)"
   ]
  },
  {
   "cell_type": "code",
   "execution_count": 114,
   "id": "cbb35902",
   "metadata": {},
   "outputs": [
    {
     "name": "stdout",
     "output_type": "stream",
     "text": [
      "[ 1. nan  2.  0.]\n"
     ]
    },
    {
     "data": {
      "text/plain": [
       "NaN    0.592787\n",
       "1.0    0.192727\n",
       "0.0    0.114021\n",
       "2.0    0.100465\n",
       "Name: PP07H, dtype: float64"
      ]
     },
     "execution_count": 114,
     "metadata": {},
     "output_type": "execute_result"
    }
   ],
   "source": [
    "#Descuento por jubilación\n",
    "print(eph.PP07H.unique())\n",
    "eph.PP07H.value_counts(dropna=False, normalize=True)"
   ]
  },
  {
   "cell_type": "code",
   "execution_count": 115,
   "id": "7ddfbf30",
   "metadata": {
    "scrolled": false
   },
   "outputs": [
    {
     "data": {
      "text/plain": [
       "count    46693.000000\n",
       "mean        35.819952\n",
       "std         22.439663\n",
       "min         -1.000000\n",
       "25%         17.000000\n",
       "50%         33.000000\n",
       "75%         53.000000\n",
       "max        101.000000\n",
       "Name: CH06, dtype: float64"
      ]
     },
     "execution_count": 115,
     "metadata": {},
     "output_type": "execute_result"
    }
   ],
   "source": [
    "#Resúmenes estadísticos de variables de razón \n",
    "#CH06 = AÑOS\n",
    "eph.CH06.describe()"
   ]
  },
  {
   "cell_type": "code",
   "execution_count": 116,
   "id": "f02fe108",
   "metadata": {
    "scrolled": true
   },
   "outputs": [
    {
     "data": {
      "text/plain": [
       "count     46619.000000\n",
       "mean      19814.440786\n",
       "std       31705.829005\n",
       "min          -9.000000\n",
       "25%           0.000000\n",
       "50%        6000.000000\n",
       "75%       30000.000000\n",
       "max      819000.000000\n",
       "Name: P47T, dtype: float64"
      ]
     },
     "execution_count": 116,
     "metadata": {},
     "output_type": "execute_result"
    }
   ],
   "source": [
    "#P47T = monto del ingreso total\n",
    "eph.P47T.describe()"
   ]
  },
  {
   "cell_type": "code",
   "execution_count": 117,
   "id": "4582fb13",
   "metadata": {
    "scrolled": true
   },
   "outputs": [
    {
     "data": {
      "text/plain": [
       "count     46691.000000\n",
       "mean      61272.261742\n",
       "std       59675.746294\n",
       "min           0.000000\n",
       "25%       20800.000000\n",
       "50%       50000.000000\n",
       "75%       84000.000000\n",
       "max      819000.000000\n",
       "Name: ITF, dtype: float64"
      ]
     },
     "execution_count": 117,
     "metadata": {},
     "output_type": "execute_result"
    }
   ],
   "source": [
    "#ITF= monto del ingreso familiar\n",
    "eph.ITF.describe()"
   ]
  },
  {
   "cell_type": "markdown",
   "id": "82021d18",
   "metadata": {},
   "source": [
    "De la lectura de los outputs correspondientes a esta sección se desprende una constatación central: la presencia de la misma cantidad de datos nulos (27679) en 5 columnas (PP03C, INTENSI, PP04D, PP07A y PP07H). Luego de realizar el value_counts de la columna del dataset ESTADO esta particularidad de la base cobra sentido: los datos no nulos de las 5 columnas corresponden a los ocupados (o valor 1 de la columna ESTADO). Es decir, son todas preguntas que solamente se le hicieron a las personas ocupadas. Como en la proxima sección se filtraran solamente los casos de los ocupados estos valores nulos no resultan un problema.  \n",
    "Sí parece haber habido un error en la carga de datos en la variable edad. Al ver el mínimo de la columna y sus valores únicos aparece el -1 como un valor dispuesto. Habrá que solucionar este problema en la limpieza de datos. \n",
    "Cabe mencionar, también, el valor mínimo de P47T (monto total de ingresos indivudales). El -9 y el 9, 99 y 999 en el resto de las variables se corresponde con el \"No sabe/no contesta\". Algo similar sucede con el 12 y 13 que aparecen como valores únicos en DECIFR y DECINDR (variables que versan sobre los deciles de ingresos); indican que no se respondio a la pregunta o que no se hizo la entrevista individual, respectivamente. También será necesario, entonces, eliminar el -9 en las variables de ingresos para que no sesge los gráficos.  \n",
    "Más allá de lo ya mencionado no encuentro anomalías: todos los valores que adquieren las variables estan contemplados en el manual de la EPH y en la próxima sección se procederá a etiquetarlos para que los datos puedan cobrar cierto sentido. "
   ]
  },
  {
   "cell_type": "markdown",
   "id": "e9604e22",
   "metadata": {},
   "source": [
    "# 3. Limpieza de datos \n",
    "Se realizará primero un recorte de la base y se etiquetaran los valores y las variables. Una vez recortada no deberían quedar valores nulos (por la correspondencia de estos con las personas no ocupadas). A su vez, se procederá a eliminar los casos mencionados en las conclusiones de la exploración (edad -1 e ingresos -9) y a guardar la base limpia.\n"
   ]
  },
  {
   "cell_type": "code",
   "execution_count": 118,
   "id": "c657724c",
   "metadata": {
    "scrolled": true
   },
   "outputs": [],
   "source": [
    "#Renombre de columnas\n",
    "renombrada = eph.rename(columns = {'CH04': 'SEXO', 'CH06': 'AÑOS', \"NIVEL_ED\": \"NIVEL_EDUCATIVO\", \"CAT_OCUP\": \"CATEGORÍA_OCUPACIONAL\", \"PP03C\": \"CANTIDAD_DE_TRABAJOS\", \"PP07A\": \"ANTIGUEDAD_EN_OCUPACIÓN\", \"P47T\": \"MONTO_DE_INGRESO_TOTAL\", \"DECINDR\": \"DECIL_DE_INGRESOS\", \"ITF\": \"INGRESO_TOTAL_FAMILIAR\", \"DECIFR\": \"DECILES_SEGÚN_INGRESO_FAMILIAR\", \"PP07H\": \"DESCUENTO_POR_JUBILACIÓN\", \"INTENSI\": \"INTENSIDAD_DE_LA_OCUPACIÓN\", \"ESTADO\": \"ESTADO_DE_OCUPACIÓN\"}, inplace = False)\n"
   ]
  },
  {
   "cell_type": "code",
   "execution_count": 119,
   "id": "89fb79ec",
   "metadata": {
    "scrolled": false
   },
   "outputs": [
    {
     "name": "stdout",
     "output_type": "stream",
     "text": [
      "<class 'pandas.core.frame.DataFrame'>\n",
      "RangeIndex: 46693 entries, 0 to 46692\n",
      "Data columns (total 16 columns):\n",
      " #   Column                          Non-Null Count  Dtype  \n",
      "---  ------                          --------------  -----  \n",
      " 0   CODUSU                          46693 non-null  object \n",
      " 1   REGION                          46693 non-null  int64  \n",
      " 2   AGLOMERADO                      46693 non-null  int64  \n",
      " 3   SEXO                            46693 non-null  int64  \n",
      " 4   AÑOS                            46693 non-null  int64  \n",
      " 5   NIVEL_EDUCATIVO                 46693 non-null  int64  \n",
      " 6   CATEGORÍA_OCUPACIONAL           46693 non-null  int64  \n",
      " 7   CANTIDAD_DE_TRABAJOS            19014 non-null  float64\n",
      " 8   INTENSIDAD_DE_LA_OCUPACIÓN      19014 non-null  float64\n",
      " 9   ANTIGUEDAD_EN_OCUPACIÓN         19014 non-null  float64\n",
      " 10  MONTO_DE_INGRESO_TOTAL          46619 non-null  float64\n",
      " 11  DECIL_DE_INGRESOS               46693 non-null  int64  \n",
      " 12  INGRESO_TOTAL_FAMILIAR          46691 non-null  float64\n",
      " 13  DECILES_SEGÚN_INGRESO_FAMILIAR  46691 non-null  float64\n",
      " 14  DESCUENTO_POR_JUBILACIÓN        19014 non-null  float64\n",
      " 15  ESTADO_DE_OCUPACIÓN             46693 non-null  int64  \n",
      "dtypes: float64(7), int64(8), object(1)\n",
      "memory usage: 5.7+ MB\n"
     ]
    }
   ],
   "source": [
    "renombrada.info()"
   ]
  },
  {
   "cell_type": "code",
   "execution_count": 120,
   "id": "a9b38e27",
   "metadata": {},
   "outputs": [],
   "source": [
    "#Renombre de valores \n",
    "renombrada.loc[renombrada.REGION == 1, \"REGION\"] = \"Gran Buenos Aires\"\n",
    "renombrada.loc[renombrada.REGION == 40, \"REGION\"] = \"NOA\"\n",
    "renombrada.loc[renombrada.REGION == 41, \"REGION\"] = \"NEA\"\n",
    "renombrada.loc[renombrada.REGION == 42, \"REGION\"] = \"Cuyo\"\n",
    "renombrada.loc[renombrada.REGION == 43, \"REGION\"] = \"Pampeana\"\n",
    "renombrada.loc[renombrada.REGION == 44, \"REGION\"] = \"Patagonia\"\n",
    "renombrada.loc[renombrada.SEXO == 1, \"SEXO\"] = \"Varón\"\n",
    "renombrada.loc[renombrada.SEXO == 2, \"SEXO\"] = \"Mujer\"\n",
    "renombrada.loc[renombrada.NIVEL_EDUCATIVO == 1, \"NIVEL_EDUCATIVO\"] = \"Primario incompleto\"\n",
    "renombrada.loc[renombrada.NIVEL_EDUCATIVO == 2, \"NIVEL_EDUCATIVO\"] = \"Primario completo\"\n",
    "renombrada.loc[renombrada.NIVEL_EDUCATIVO == 3, \"NIVEL_EDUCATIVO\"] = \"Secundario incompleto\"\n",
    "renombrada.loc[renombrada.NIVEL_EDUCATIVO == 4, \"NIVEL_EDUCATIVO\"] = \"Secundario completo\"\n",
    "renombrada.loc[renombrada.NIVEL_EDUCATIVO == 5, \"NIVEL_EDUCATIVO\"] = \"Superior universitario incompleto\"\n",
    "renombrada.loc[renombrada.NIVEL_EDUCATIVO == 6, \"NIVEL_EDUCATIVO\"] = \"Superior universitario completo\"\n",
    "renombrada.loc[renombrada.NIVEL_EDUCATIVO == 7, \"NIVEL_EDUCATIVO\"] = \"Sin instrucción\"\n",
    "renombrada.loc[renombrada.NIVEL_EDUCATIVO == 9, \"NIVEL_EDUCATIVO\"] = \"Ns/Nc\"\n",
    "renombrada.loc[renombrada.CATEGORÍA_OCUPACIONAL == 0, \"CATEGORÍA_OCUPACIONAL\"] = \"No le corresponde la secuencia analizada\"\n",
    "renombrada.loc[renombrada.CATEGORÍA_OCUPACIONAL == 1, \"CATEGORÍA_OCUPACIONAL\"] = \"Patrón\"\n",
    "renombrada.loc[renombrada.CATEGORÍA_OCUPACIONAL == 2, \"CATEGORÍA_OCUPACIONAL\"] = \"Cuenta propia\"\n",
    "renombrada.loc[renombrada.CATEGORÍA_OCUPACIONAL == 3, \"CATEGORÍA_OCUPACIONAL\"] = \"Obrero o empleado\"\n",
    "renombrada.loc[renombrada.CATEGORÍA_OCUPACIONAL == 4, \"CATEGORÍA_OCUPACIONAL\"] = \"Trabajador familiar sin remuneración\"\n",
    "renombrada.loc[renombrada.CATEGORÍA_OCUPACIONAL == 9, \"CATEGORÍA_OCUPACIONAL\"] = \"Ns/Nc\"\n",
    "renombrada.loc[renombrada.CANTIDAD_DE_TRABAJOS == 1, \"CANTIDAD_DE_TRABAJOS\"] = \"Un solo empleo o actividad\"\n",
    "renombrada.loc[renombrada.CANTIDAD_DE_TRABAJOS == 2, \"CANTIDAD_DE_TRABAJOS\"] = \"Más de un empleo o actividad\"\n",
    "renombrada.loc[renombrada.CANTIDAD_DE_TRABAJOS == 0, \"CANTIDAD_DE_TRABAJOS\"] = \"No le corresponde la secuencia analizada\"\n",
    "renombrada.loc[renombrada.INTENSIDAD_DE_LA_OCUPACIÓN == 1, \"INTENSIDAD_DE_LA_OCUPACIÓN\"] = \"Subocupado\"\n",
    "renombrada.loc[renombrada.INTENSIDAD_DE_LA_OCUPACIÓN == 2, \"INTENSIDAD_DE_LA_OCUPACIÓN\"] = \"Ocupado pleno\"\n",
    "renombrada.loc[renombrada.INTENSIDAD_DE_LA_OCUPACIÓN == 3, \"INTENSIDAD_DE_LA_OCUPACIÓN\"] = \"Sobreocupado\"\n",
    "renombrada.loc[renombrada.INTENSIDAD_DE_LA_OCUPACIÓN == 4, \"INTENSIDAD_DE_LA_OCUPACIÓN\"] = \"Ocupado que no trabajó en la semana\"\n",
    "renombrada.loc[renombrada.INTENSIDAD_DE_LA_OCUPACIÓN == 9, \"INTENSIDAD_DE_LA_OCUPACIÓN\"] = \"Ns/Nc\"\n",
    "renombrada.loc[renombrada.ANTIGUEDAD_EN_OCUPACIÓN == 1, \"ANTIGUEDAD_EN_OCUPACIÓN\"] = \"No le corresponde la secuencia analizada\"\n",
    "renombrada.loc[renombrada.ANTIGUEDAD_EN_OCUPACIÓN == 1, \"ANTIGUEDAD_EN_OCUPACIÓN\"] = \"Menos de un mes\"\n",
    "renombrada.loc[renombrada.ANTIGUEDAD_EN_OCUPACIÓN == 2, \"ANTIGUEDAD_EN_OCUPACIÓN\"] = \"1 a 3 meses\"\n",
    "renombrada.loc[renombrada.ANTIGUEDAD_EN_OCUPACIÓN == 3, \"ANTIGUEDAD_EN_OCUPACIÓN\"] = \"más de 3 meses a 6 meses\"\n",
    "renombrada.loc[renombrada.ANTIGUEDAD_EN_OCUPACIÓN == 4, \"ANTIGUEDAD_EN_OCUPACIÓN\"] = \"más de 6 a 12 meses\"\n",
    "renombrada.loc[renombrada.ANTIGUEDAD_EN_OCUPACIÓN == 5, \"ANTIGUEDAD_EN_OCUPACIÓN\"] = \"más de 1 a 5 años\"\n",
    "renombrada.loc[renombrada.ANTIGUEDAD_EN_OCUPACIÓN == 6, \"ANTIGUEDAD_EN_OCUPACIÓN\"] = \"más de 5 años\"\n",
    "renombrada.loc[renombrada.ANTIGUEDAD_EN_OCUPACIÓN == 9, \"ANTIGUEDAD_EN_OCUPACIÓN\"] = \"Ns/Nc\"\n",
    "renombrada.loc[renombrada.DECIL_DE_INGRESOS == 12, \"DECIL_DE_INGRESOS\"] = \"No hay respuesta de ingresos\"\n",
    "renombrada.loc[renombrada.DECIL_DE_INGRESOS == 13, \"DECIL_DE_INGRESOS\"] = \"Entrevista individual no analizada\"\n",
    "renombrada.loc[renombrada.DECILES_SEGÚN_INGRESO_FAMILIAR == 12, \"DECILES_SEGÚN_INGRESO_FAMILIAR\"] = \"No hay respuesta de ingresos\"\n",
    "renombrada.loc[renombrada.DECILES_SEGÚN_INGRESO_FAMILIAR == 13, \"DECILES_SEGÚN_INGRESO_FAMILIAR\"] = \"Entrevista individual no realizada\"\n",
    "renombrada.loc[renombrada.DESCUENTO_POR_JUBILACIÓN == 1,\"DESCUENTO_POR_JUBILACIÓN\"] = \"Sí\"\n",
    "renombrada.loc[renombrada.DESCUENTO_POR_JUBILACIÓN == 2,\"DESCUENTO_POR_JUBILACIÓN\"] = \"No\"\n",
    "renombrada.loc[renombrada.DESCUENTO_POR_JUBILACIÓN == 0,\"DESCUENTO_POR_JUBILACIÓN\"] = \"No le corresponde la secuencia analizada\"\n"
   ]
  },
  {
   "cell_type": "code",
   "execution_count": 121,
   "id": "e580e865",
   "metadata": {
    "scrolled": true
   },
   "outputs": [
    {
     "data": {
      "text/html": [
       "<div>\n",
       "<style scoped>\n",
       "    .dataframe tbody tr th:only-of-type {\n",
       "        vertical-align: middle;\n",
       "    }\n",
       "\n",
       "    .dataframe tbody tr th {\n",
       "        vertical-align: top;\n",
       "    }\n",
       "\n",
       "    .dataframe thead th {\n",
       "        text-align: right;\n",
       "    }\n",
       "</style>\n",
       "<table border=\"1\" class=\"dataframe\">\n",
       "  <thead>\n",
       "    <tr style=\"text-align: right;\">\n",
       "      <th></th>\n",
       "      <th>CODUSU</th>\n",
       "      <th>REGION</th>\n",
       "      <th>AGLOMERADO</th>\n",
       "      <th>SEXO</th>\n",
       "      <th>AÑOS</th>\n",
       "      <th>NIVEL_EDUCATIVO</th>\n",
       "      <th>CATEGORÍA_OCUPACIONAL</th>\n",
       "      <th>CANTIDAD_DE_TRABAJOS</th>\n",
       "      <th>INTENSIDAD_DE_LA_OCUPACIÓN</th>\n",
       "      <th>ANTIGUEDAD_EN_OCUPACIÓN</th>\n",
       "      <th>MONTO_DE_INGRESO_TOTAL</th>\n",
       "      <th>DECIL_DE_INGRESOS</th>\n",
       "      <th>INGRESO_TOTAL_FAMILIAR</th>\n",
       "      <th>DECILES_SEGÚN_INGRESO_FAMILIAR</th>\n",
       "      <th>DESCUENTO_POR_JUBILACIÓN</th>\n",
       "      <th>ESTADO_DE_OCUPACIÓN</th>\n",
       "    </tr>\n",
       "  </thead>\n",
       "  <tbody>\n",
       "    <tr>\n",
       "      <th>28301</th>\n",
       "      <td>TQRMNOSVTHKMKNCDEHJGH00654825</td>\n",
       "      <td>NOA</td>\n",
       "      <td>23</td>\n",
       "      <td>Varón</td>\n",
       "      <td>-1</td>\n",
       "      <td>Sin instrucción</td>\n",
       "      <td>No le corresponde la secuencia analizada</td>\n",
       "      <td>NaN</td>\n",
       "      <td>NaN</td>\n",
       "      <td>NaN</td>\n",
       "      <td>0.0</td>\n",
       "      <td>0</td>\n",
       "      <td>33500.0</td>\n",
       "      <td>3.0</td>\n",
       "      <td>NaN</td>\n",
       "      <td>4</td>\n",
       "    </tr>\n",
       "    <tr>\n",
       "      <th>25221</th>\n",
       "      <td>TQRMNOQVXHLNLMCDEHIBB00649278</td>\n",
       "      <td>NOA</td>\n",
       "      <td>22</td>\n",
       "      <td>Mujer</td>\n",
       "      <td>32</td>\n",
       "      <td>Secundario completo</td>\n",
       "      <td>No le corresponde la secuencia analizada</td>\n",
       "      <td>NaN</td>\n",
       "      <td>NaN</td>\n",
       "      <td>NaN</td>\n",
       "      <td>9000.0</td>\n",
       "      <td>1</td>\n",
       "      <td>79000.0</td>\n",
       "      <td>7.0</td>\n",
       "      <td>NaN</td>\n",
       "      <td>3</td>\n",
       "    </tr>\n",
       "    <tr>\n",
       "      <th>6268</th>\n",
       "      <td>TQRMNOQTWHKNLQCDEFMDB00652869</td>\n",
       "      <td>Pampeana</td>\n",
       "      <td>6</td>\n",
       "      <td>Mujer</td>\n",
       "      <td>52</td>\n",
       "      <td>Superior universitario incompleto</td>\n",
       "      <td>Obrero o empleado</td>\n",
       "      <td>Un solo empleo o actividad</td>\n",
       "      <td>Ocupado pleno</td>\n",
       "      <td>0.0</td>\n",
       "      <td>30000.0</td>\n",
       "      <td>5</td>\n",
       "      <td>32500.0</td>\n",
       "      <td>3.0</td>\n",
       "      <td>Sí</td>\n",
       "      <td>1</td>\n",
       "    </tr>\n",
       "    <tr>\n",
       "      <th>44475</th>\n",
       "      <td>TQRMNOPUWHLMLLCDEOHCH00651944</td>\n",
       "      <td>Patagonia</td>\n",
       "      <td>91</td>\n",
       "      <td>Varón</td>\n",
       "      <td>45</td>\n",
       "      <td>Secundario completo</td>\n",
       "      <td>Obrero o empleado</td>\n",
       "      <td>Un solo empleo o actividad</td>\n",
       "      <td>Ocupado pleno</td>\n",
       "      <td>más de 5 años</td>\n",
       "      <td>85000.0</td>\n",
       "      <td>10</td>\n",
       "      <td>85000.0</td>\n",
       "      <td>7.0</td>\n",
       "      <td>Sí</td>\n",
       "      <td>1</td>\n",
       "    </tr>\n",
       "    <tr>\n",
       "      <th>39006</th>\n",
       "      <td>TQRMNOQTYHJMQNCDEIJAH00693058</td>\n",
       "      <td>Gran Buenos Aires</td>\n",
       "      <td>33</td>\n",
       "      <td>Varón</td>\n",
       "      <td>9</td>\n",
       "      <td>Primario incompleto</td>\n",
       "      <td>No le corresponde la secuencia analizada</td>\n",
       "      <td>NaN</td>\n",
       "      <td>NaN</td>\n",
       "      <td>NaN</td>\n",
       "      <td>0.0</td>\n",
       "      <td>0</td>\n",
       "      <td>130000.0</td>\n",
       "      <td>9.0</td>\n",
       "      <td>NaN</td>\n",
       "      <td>4</td>\n",
       "    </tr>\n",
       "  </tbody>\n",
       "</table>\n",
       "</div>"
      ],
      "text/plain": [
       "                              CODUSU             REGION  AGLOMERADO   SEXO  \\\n",
       "28301  TQRMNOSVTHKMKNCDEHJGH00654825                NOA          23  Varón   \n",
       "25221  TQRMNOQVXHLNLMCDEHIBB00649278                NOA          22  Mujer   \n",
       "6268   TQRMNOQTWHKNLQCDEFMDB00652869           Pampeana           6  Mujer   \n",
       "44475  TQRMNOPUWHLMLLCDEOHCH00651944          Patagonia          91  Varón   \n",
       "39006  TQRMNOQTYHJMQNCDEIJAH00693058  Gran Buenos Aires          33  Varón   \n",
       "\n",
       "       AÑOS                    NIVEL_EDUCATIVO  \\\n",
       "28301    -1                    Sin instrucción   \n",
       "25221    32                Secundario completo   \n",
       "6268     52  Superior universitario incompleto   \n",
       "44475    45                Secundario completo   \n",
       "39006     9                Primario incompleto   \n",
       "\n",
       "                          CATEGORÍA_OCUPACIONAL        CANTIDAD_DE_TRABAJOS  \\\n",
       "28301  No le corresponde la secuencia analizada                         NaN   \n",
       "25221  No le corresponde la secuencia analizada                         NaN   \n",
       "6268                          Obrero o empleado  Un solo empleo o actividad   \n",
       "44475                         Obrero o empleado  Un solo empleo o actividad   \n",
       "39006  No le corresponde la secuencia analizada                         NaN   \n",
       "\n",
       "      INTENSIDAD_DE_LA_OCUPACIÓN ANTIGUEDAD_EN_OCUPACIÓN  \\\n",
       "28301                        NaN                     NaN   \n",
       "25221                        NaN                     NaN   \n",
       "6268               Ocupado pleno                     0.0   \n",
       "44475              Ocupado pleno           más de 5 años   \n",
       "39006                        NaN                     NaN   \n",
       "\n",
       "       MONTO_DE_INGRESO_TOTAL DECIL_DE_INGRESOS  INGRESO_TOTAL_FAMILIAR  \\\n",
       "28301                     0.0                 0                 33500.0   \n",
       "25221                  9000.0                 1                 79000.0   \n",
       "6268                  30000.0                 5                 32500.0   \n",
       "44475                 85000.0                10                 85000.0   \n",
       "39006                     0.0                 0                130000.0   \n",
       "\n",
       "      DECILES_SEGÚN_INGRESO_FAMILIAR DESCUENTO_POR_JUBILACIÓN  \\\n",
       "28301                            3.0                      NaN   \n",
       "25221                            7.0                      NaN   \n",
       "6268                             3.0                       Sí   \n",
       "44475                            7.0                       Sí   \n",
       "39006                            9.0                      NaN   \n",
       "\n",
       "       ESTADO_DE_OCUPACIÓN  \n",
       "28301                    4  \n",
       "25221                    3  \n",
       "6268                     1  \n",
       "44475                    1  \n",
       "39006                    4  "
      ]
     },
     "execution_count": 121,
     "metadata": {},
     "output_type": "execute_result"
    }
   ],
   "source": [
    "renombrada.sample(5)"
   ]
  },
  {
   "cell_type": "code",
   "execution_count": 122,
   "id": "cde6c05f",
   "metadata": {
    "scrolled": false
   },
   "outputs": [
    {
     "data": {
      "text/plain": [
       "count     42811.000000\n",
       "mean      21577.718040\n",
       "std       32505.605078\n",
       "min           0.000000\n",
       "25%           0.000000\n",
       "50%       11000.000000\n",
       "75%       30600.000000\n",
       "max      819000.000000\n",
       "Name: MONTO_DE_INGRESO_TOTAL, dtype: float64"
      ]
     },
     "execution_count": 122,
     "metadata": {},
     "output_type": "execute_result"
    }
   ],
   "source": [
    "#Elimino el -9 (correspondiente a no sabe/no responde)\n",
    "limpia = renombrada[renombrada.MONTO_DE_INGRESO_TOTAL != -9.000000]\n",
    "limpia.MONTO_DE_INGRESO_TOTAL.describe()"
   ]
  },
  {
   "cell_type": "code",
   "execution_count": 123,
   "id": "c44c516f",
   "metadata": {},
   "outputs": [
    {
     "name": "stdout",
     "output_type": "stream",
     "text": [
      "<class 'pandas.core.frame.DataFrame'>\n",
      "Int64Index: 16174 entries, 0 to 46687\n",
      "Data columns (total 16 columns):\n",
      " #   Column                          Non-Null Count  Dtype  \n",
      "---  ------                          --------------  -----  \n",
      " 0   CODUSU                          16174 non-null  object \n",
      " 1   REGION                          16174 non-null  object \n",
      " 2   AGLOMERADO                      16174 non-null  int64  \n",
      " 3   SEXO                            16174 non-null  object \n",
      " 4   AÑOS                            16174 non-null  int64  \n",
      " 5   NIVEL_EDUCATIVO                 16174 non-null  object \n",
      " 6   CATEGORÍA_OCUPACIONAL           16174 non-null  object \n",
      " 7   CANTIDAD_DE_TRABAJOS            16174 non-null  object \n",
      " 8   INTENSIDAD_DE_LA_OCUPACIÓN      16174 non-null  object \n",
      " 9   ANTIGUEDAD_EN_OCUPACIÓN         16174 non-null  object \n",
      " 10  MONTO_DE_INGRESO_TOTAL          16174 non-null  float64\n",
      " 11  DECIL_DE_INGRESOS               16174 non-null  object \n",
      " 12  INGRESO_TOTAL_FAMILIAR          16174 non-null  float64\n",
      " 13  DECILES_SEGÚN_INGRESO_FAMILIAR  16174 non-null  object \n",
      " 14  DESCUENTO_POR_JUBILACIÓN        16174 non-null  object \n",
      " 15  ESTADO_DE_OCUPACIÓN             16174 non-null  int64  \n",
      "dtypes: float64(2), int64(3), object(11)\n",
      "memory usage: 2.1+ MB\n",
      "None\n"
     ]
    }
   ],
   "source": [
    "#Recorte de la base (solamente ocupados)\n",
    "estado = limpia[limpia.ESTADO_DE_OCUPACIÓN == 1]\n",
    "print(estado.info())\n"
   ]
  },
  {
   "cell_type": "code",
   "execution_count": 124,
   "id": "07d575ce",
   "metadata": {},
   "outputs": [
    {
     "name": "stdout",
     "output_type": "stream",
     "text": [
      "CODUSU                            0\n",
      "REGION                            0\n",
      "AGLOMERADO                        0\n",
      "SEXO                              0\n",
      "AÑOS                              0\n",
      "NIVEL_EDUCATIVO                   0\n",
      "CATEGORÍA_OCUPACIONAL             0\n",
      "CANTIDAD_DE_TRABAJOS              0\n",
      "INTENSIDAD_DE_LA_OCUPACIÓN        0\n",
      "ANTIGUEDAD_EN_OCUPACIÓN           0\n",
      "MONTO_DE_INGRESO_TOTAL            0\n",
      "DECIL_DE_INGRESOS                 0\n",
      "INGRESO_TOTAL_FAMILIAR            0\n",
      "DECILES_SEGÚN_INGRESO_FAMILIAR    0\n",
      "DESCUENTO_POR_JUBILACIÓN          0\n",
      "ESTADO_DE_OCUPACIÓN               0\n",
      "dtype: int64\n"
     ]
    }
   ],
   "source": [
    "print(estado.isnull().sum())"
   ]
  },
  {
   "cell_type": "markdown",
   "id": "8bd4c24c",
   "metadata": {},
   "source": [
    "Como se estimó en las conclusiones de la exploración de los datos, al quedarnos solamente con las personas ocupadas no hay valores nulos en ninguna de las columnas. "
   ]
  },
  {
   "cell_type": "code",
   "execution_count": 125,
   "id": "2a1bacd1",
   "metadata": {
    "scrolled": true
   },
   "outputs": [
    {
     "data": {
      "text/plain": [
       "count    16174.000000\n",
       "mean        40.799246\n",
       "std         12.867486\n",
       "min         13.000000\n",
       "25%         30.000000\n",
       "50%         40.000000\n",
       "75%         50.000000\n",
       "max         99.000000\n",
       "Name: AÑOS, dtype: float64"
      ]
     },
     "execution_count": 125,
     "metadata": {},
     "output_type": "execute_result"
    }
   ],
   "source": [
    "#Comprobación de la columna edad\n",
    "estado.AÑOS.describe()"
   ]
  },
  {
   "cell_type": "markdown",
   "id": "0f77ab9b",
   "metadata": {},
   "source": [
    "Al recortar la base los casos que tenían de valor -1 han sido ya eliminados."
   ]
  },
  {
   "cell_type": "code",
   "execution_count": 126,
   "id": "0ad54125",
   "metadata": {},
   "outputs": [
    {
     "data": {
      "text/plain": [
       "array(['Sobreocupado', 'Subocupado', 'Ocupado pleno',\n",
       "       'Ocupado que no trabajó en la semana'], dtype=object)"
      ]
     },
     "execution_count": 126,
     "metadata": {},
     "output_type": "execute_result"
    }
   ],
   "source": [
    "estado.INTENSIDAD_DE_LA_OCUPACIÓN.unique()"
   ]
  },
  {
   "cell_type": "code",
   "execution_count": 127,
   "id": "512af1a0",
   "metadata": {},
   "outputs": [],
   "source": [
    "#Segundo recorte: ocupados plenos y subocupados \n",
    "ocupados1 = estado.loc[estado['INTENSIDAD_DE_LA_OCUPACIÓN'].isin(['Subocupado', 'Ocupado pleno'])]  \n"
   ]
  },
  {
   "cell_type": "code",
   "execution_count": 128,
   "id": "0009d0c2",
   "metadata": {
    "scrolled": true
   },
   "outputs": [
    {
     "name": "stdout",
     "output_type": "stream",
     "text": [
      "<class 'pandas.core.frame.DataFrame'>\n",
      "Int64Index: 10240 entries, 9 to 46680\n",
      "Data columns (total 16 columns):\n",
      " #   Column                          Non-Null Count  Dtype  \n",
      "---  ------                          --------------  -----  \n",
      " 0   CODUSU                          10240 non-null  object \n",
      " 1   REGION                          10240 non-null  object \n",
      " 2   AGLOMERADO                      10240 non-null  int64  \n",
      " 3   SEXO                            10240 non-null  object \n",
      " 4   AÑOS                            10240 non-null  int64  \n",
      " 5   NIVEL_EDUCATIVO                 10240 non-null  object \n",
      " 6   CATEGORÍA_OCUPACIONAL           10240 non-null  object \n",
      " 7   CANTIDAD_DE_TRABAJOS            10240 non-null  object \n",
      " 8   INTENSIDAD_DE_LA_OCUPACIÓN      10240 non-null  object \n",
      " 9   ANTIGUEDAD_EN_OCUPACIÓN         10240 non-null  object \n",
      " 10  MONTO_DE_INGRESO_TOTAL          10240 non-null  float64\n",
      " 11  DECIL_DE_INGRESOS               10240 non-null  object \n",
      " 12  INGRESO_TOTAL_FAMILIAR          10240 non-null  float64\n",
      " 13  DECILES_SEGÚN_INGRESO_FAMILIAR  10240 non-null  object \n",
      " 14  DESCUENTO_POR_JUBILACIÓN        10240 non-null  object \n",
      " 15  ESTADO_DE_OCUPACIÓN             10240 non-null  int64  \n",
      "dtypes: float64(2), int64(3), object(11)\n",
      "memory usage: 1.3+ MB\n"
     ]
    }
   ],
   "source": [
    "ocupados1.info()"
   ]
  },
  {
   "cell_type": "code",
   "execution_count": 129,
   "id": "da463696",
   "metadata": {},
   "outputs": [
    {
     "data": {
      "text/plain": [
       "Ocupado pleno    8253\n",
       "Subocupado       1987\n",
       "Name: INTENSIDAD_DE_LA_OCUPACIÓN, dtype: int64"
      ]
     },
     "execution_count": 129,
     "metadata": {},
     "output_type": "execute_result"
    }
   ],
   "source": [
    "ocupados1.INTENSIDAD_DE_LA_OCUPACIÓN.value_counts()"
   ]
  },
  {
   "cell_type": "code",
   "execution_count": 130,
   "id": "504cefb4",
   "metadata": {},
   "outputs": [],
   "source": [
    "ocupados1.to_excel(\"DATA/ocupados.xlsx\")"
   ]
  },
  {
   "cell_type": "markdown",
   "id": "fae56f92",
   "metadata": {},
   "source": [
    "La base queda con todas sus columnas y sus valores etiquetados. Cabe aclarar que, por supuesto, no fueron los valores de todas las columnas etiquetadas, solamente aquellas que correspondían a variables categóricas. Además, a los valores de ESTADO_DE_OCUPACIÓN no los etiqueté porque fue la variable elegida para recortar la base (junto con INTENSIDAD_DE_LA_OCUPACIÓN), y no será usada en la próxima sección. \n",
    "No hizo falta eliminar el caso que tenía de edad -1 porque al hacer el recorte de la base por ocupados quedó fuera. Sí fue eliminado los valores -9 correspondientes a MONTO_DE_INGRESO_TOTAL para poder analizar la distribución sin tener ese valor  (que significa \"No sabe/No responde\") distrorcionando la distribución.\n",
    "Queda una base de 16 columnas, sin valores nulos y con 10240 casos, correspondientes a las personas encuestadas ocupadas plenas y subocupadas (los grupos que serán usados para el análisis)."
   ]
  },
  {
   "cell_type": "markdown",
   "id": "88db9be0",
   "metadata": {},
   "source": [
    "# 4. Presentación de datos\n"
   ]
  },
  {
   "cell_type": "code",
   "execution_count": 15,
   "id": "a7580daf",
   "metadata": {},
   "outputs": [],
   "source": [
    "ocupados = pd.read_excel(\"DATA/ocupados.xlsx\")\n",
    "\n"
   ]
  },
  {
   "cell_type": "code",
   "execution_count": 4,
   "id": "874513b9",
   "metadata": {
    "scrolled": true
   },
   "outputs": [
    {
     "name": "stdout",
     "output_type": "stream",
     "text": [
      "<class 'pandas.core.frame.DataFrame'>\n",
      "RangeIndex: 10240 entries, 0 to 10239\n",
      "Data columns (total 17 columns):\n",
      " #   Column                          Non-Null Count  Dtype \n",
      "---  ------                          --------------  ----- \n",
      " 0   Unnamed: 0                      10240 non-null  int64 \n",
      " 1   CODUSU                          10240 non-null  object\n",
      " 2   REGION                          10240 non-null  object\n",
      " 3   AGLOMERADO                      10240 non-null  int64 \n",
      " 4   SEXO                            10240 non-null  object\n",
      " 5   AÑOS                            10240 non-null  int64 \n",
      " 6   NIVEL_EDUCATIVO                 10240 non-null  object\n",
      " 7   CATEGORÍA_OCUPACIONAL           10240 non-null  object\n",
      " 8   CANTIDAD_DE_TRABAJOS            10240 non-null  object\n",
      " 9   INTENSIDAD_DE_LA_OCUPACIÓN      10240 non-null  object\n",
      " 10  ANTIGUEDAD_EN_OCUPACIÓN         10240 non-null  object\n",
      " 11  MONTO_DE_INGRESO_TOTAL          10240 non-null  int64 \n",
      " 12  DECIL_DE_INGRESOS               10240 non-null  int64 \n",
      " 13  INGRESO_TOTAL_FAMILIAR          10240 non-null  int64 \n",
      " 14  DECILES_SEGÚN_INGRESO_FAMILIAR  10240 non-null  object\n",
      " 15  DESCUENTO_POR_JUBILACIÓN        10240 non-null  object\n",
      " 16  ESTADO_DE_OCUPACIÓN             10240 non-null  int64 \n",
      "dtypes: int64(7), object(10)\n",
      "memory usage: 1.3+ MB\n"
     ]
    }
   ],
   "source": [
    "ocupados.info()"
   ]
  },
  {
   "cell_type": "code",
   "execution_count": 138,
   "id": "a2730f51",
   "metadata": {
    "scrolled": true
   },
   "outputs": [
    {
     "name": "stdout",
     "output_type": "stream",
     "text": [
      "Varón    4400\n",
      "Mujer    3853\n",
      "Name: SEXO, dtype: int64\n",
      "Mujer    1027\n",
      "Varón     960\n",
      "Name: SEXO, dtype: int64\n"
     ]
    }
   ],
   "source": [
    "#Intensidad de la ocupación según sexo\n",
    "sexoo = ocupados[ocupados.INTENSIDAD_DE_LA_OCUPACIÓN == \"Ocupado pleno\"].SEXO.value_counts()\n",
    "sexos = ocupados[ocupados.INTENSIDAD_DE_LA_OCUPACIÓN == \"Subocupado\"].SEXO.value_counts()\n",
    "print(sexoo)\n",
    "print(sexos)"
   ]
  },
  {
   "cell_type": "code",
   "execution_count": 136,
   "id": "d84b15bf",
   "metadata": {
    "scrolled": false,
    "slideshow": {
     "slide_type": "slide"
    }
   },
   "outputs": [
    {
     "data": {
      "image/png": "[encoded data removed]",
      "text/plain": [
       "<Figure size 576x288 with 2 Axes>"
      ]
     },
     "metadata": {},
     "output_type": "display_data"
    }
   ],
   "source": [
    "fig, (ax1, ax2) = plt.subplots(1, 2, figsize=(8,4))\n",
    "\n",
    "labels1= [\"Mujer\", \"Varón\"]\n",
    "labels2= [\"Varón\", \"Mujer\"]\n",
    "\n",
    "fig.suptitle('Intensidad de ocupación según sexo', fontsize=15)\n",
    "ax1.pie(sexos, colors= [\"lightblue\", \"olive\",], autopct='%1.1f%%', labels= labels1)\n",
    "ax1.set_title('Subocupados', fontsize=13)\n",
    "ax2.pie(sexoo, colors= [\"olive\",\"lightblue\"], autopct='%1.1f%%', labels= labels2)\n",
    "ax2.set_title('Ocupados plenos', fontsize=13);\n"
   ]
  },
  {
   "cell_type": "markdown",
   "id": "46182257",
   "metadata": {},
   "source": [
    "Contrario a lo esperado, el sexo no parece tener una fuerte incidencia sobre la subocupación. Sí hay una diferencia un poco más notable en el grupo de ocupados plenos (grupo cuyo análisis en sí mismo no interesa, simplemente está como una suerte de grupo de control)"
   ]
  },
  {
   "cell_type": "code",
   "execution_count": 139,
   "id": "d6f50a93",
   "metadata": {
    "scrolled": true
   },
   "outputs": [
    {
     "name": "stdout",
     "output_type": "stream",
     "text": [
      "Secundario completo                  0.268244\n",
      "Secundario incompleto                0.239054\n",
      "Primario completo                    0.162557\n",
      "Superior universitario incompleto    0.147458\n",
      "Superior universitario completo      0.132864\n",
      "Primario incompleto                  0.043785\n",
      "Sin instrucción                      0.006039\n",
      "Name: NIVEL_EDUCATIVO, dtype: float64\n"
     ]
    }
   ],
   "source": [
    "#Intensidad de la ocupación según nivel educativo\n",
    "print(ocupados[ocupados.INTENSIDAD_DE_LA_OCUPACIÓN == \"Subocupado\"].NIVEL_EDUCATIVO.value_counts(normalize= True))"
   ]
  },
  {
   "cell_type": "code",
   "execution_count": 140,
   "id": "5d1128ad",
   "metadata": {
    "scrolled": true
   },
   "outputs": [
    {
     "name": "stdout",
     "output_type": "stream",
     "text": [
      "Secundario completo                  0.296741\n",
      "Superior universitario completo      0.236157\n",
      "Secundario incompleto                0.164910\n",
      "Superior universitario incompleto    0.147825\n",
      "Primario completo                    0.122259\n",
      "Primario incompleto                  0.028353\n",
      "Sin instrucción                      0.003756\n",
      "Name: NIVEL_EDUCATIVO, dtype: float64\n"
     ]
    }
   ],
   "source": [
    "print(ocupados[ocupados.INTENSIDAD_DE_LA_OCUPACIÓN == \"Ocupado pleno\"].NIVEL_EDUCATIVO.value_counts(normalize=True))"
   ]
  },
  {
   "cell_type": "markdown",
   "id": "cff8ceab",
   "metadata": {},
   "source": [
    "Relativicé los valores para poder trabajar con porcentajes hacia adentro de cada grupo. Esto es necesario porque los n de los dos grupos son muy distintos (8253 ocupados plenos y 1987 subocupados)."
   ]
  },
  {
   "cell_type": "code",
   "execution_count": 64,
   "id": "080d7e8e",
   "metadata": {
    "scrolled": false,
    "slideshow": {
     "slide_type": "slide"
    }
   },
   "outputs": [
    {
     "data": {
      "image/png": "[encoded data removed]",
      "text/plain": [
       "<Figure size 576x576 with 1 Axes>"
      ]
     },
     "metadata": {},
     "output_type": "display_data"
    }
   ],
   "source": [
    "#Cuadro comparando nivel educativo entre subocupados y ocupados plenos en porcentajes.\n",
    "labels = ['Universitario completo', 'Universitario incompleto', 'Secundario completo', 'Secundario incompleto', 'Primario completo', \"Primario incompleto\", \"Sin instrucción\"]\n",
    "ocupadop = [23.6, 14.8, 29.7, 16.5, 12.2, 2.8, 0.4]\n",
    "subo= [13.3, 14.7, 26.8, 14.7, 23.9, 4.4, 0.6]\n",
    "\n",
    "x = np.arange(len(labels))  \n",
    "width = 0.35  \n",
    "\n",
    "\n",
    "fig, ax = plt.subplots(figsize=(8,8))\n",
    "rects1 = ax.bar(x - width/2, ocupadop, width, label='Ocupados plenos', color=\"lightblue\")\n",
    "rects2 = ax.bar(x + width/2, subo, width, label='Subocupados', color=\"olive\")\n",
    "\n",
    "ax.set_ylabel('Porcentaje', fontsize=15)\n",
    "ax.set_title('Intensidad de la ocupación según nivel educativo', fontsize=20)\n",
    "ax.set_xticks(x)\n",
    "ax.set_xticklabels(labels, fontsize=13)\n",
    "ax.legend()\n",
    "\n",
    "plt.xticks(rotation=75)\n",
    "fig.tight_layout()\n",
    "\n",
    "plt.show()"
   ]
  },
  {
   "cell_type": "markdown",
   "id": "a65cd19c",
   "metadata": {},
   "source": [
    "Resulta interesante cómo hay mayor proporción de subocupados que de ocupados en las categorías de nivel educativo más bajo (sin instrucción, primario incompleto y primario completo) y cómo hay mayor proporción de ocupados plenos en las categorías más altas de nivel educativo (sobre todo, universitario completo y secundario completo)."
   ]
  },
  {
   "cell_type": "code",
   "execution_count": 30,
   "id": "8752fb61",
   "metadata": {},
   "outputs": [],
   "source": [
    "#Intensidad de la educación según edad\n",
    "subocupados = ocupados.loc[ocupados['INTENSIDAD_DE_LA_OCUPACIÓN'].isin(['Subocupado'])]  \n",
    "ocupados_plenos = ocupados.loc[ocupados['INTENSIDAD_DE_LA_OCUPACIÓN'].isin(['Ocupado pleno'])]  \n"
   ]
  },
  {
   "cell_type": "code",
   "execution_count": 31,
   "id": "429df37c",
   "metadata": {
    "scrolled": true,
    "slideshow": {
     "slide_type": "slide"
    }
   },
   "outputs": [
    {
     "data": {
      "image/png": "[encoded data removed]",
      "text/plain": [
       "<Figure size 360x360 with 1 Axes>"
      ]
     },
     "metadata": {},
     "output_type": "display_data"
    }
   ],
   "source": [
    "intervalos = range(0, 110, 5)\n",
    "\n",
    "pltsub = sns.displot(subocupados.AÑOS, bins=intervalos, color= \"olive\")\n",
    "pltsub.set(xlabel = \"Años\", ylabel = \"Frecuencia\", title = \"Histograma de edad de subocupados\");"
   ]
  },
  {
   "cell_type": "code",
   "execution_count": 32,
   "id": "ff301db0",
   "metadata": {
    "scrolled": true,
    "slideshow": {
     "slide_type": "subslide"
    }
   },
   "outputs": [
    {
     "data": {
      "image/png": "[encoded data removed]",
      "text/plain": [
       "<Figure size 360x360 with 1 Axes>"
      ]
     },
     "metadata": {},
     "output_type": "display_data"
    }
   ],
   "source": [
    "intervalos = range(0, 110, 5)\n",
    "\n",
    "pltoc= sns.displot(ocupados_plenos.AÑOS, bins=intervalos, color= \"olive\")\n",
    "pltoc.set(xlabel = \"Años\", ylabel = \"Frecuencia\", title = \"Histograma de edad de ocupados plenos\");"
   ]
  },
  {
   "cell_type": "code",
   "execution_count": 150,
   "id": "cb680ea4",
   "metadata": {
    "scrolled": true
   },
   "outputs": [
    {
     "data": {
      "text/plain": [
       "count    8253.000000\n",
       "mean       40.831698\n",
       "std        13.195256\n",
       "min        13.000000\n",
       "25%        30.000000\n",
       "50%        40.000000\n",
       "75%        50.000000\n",
       "max        99.000000\n",
       "Name: AÑOS, dtype: float64"
      ]
     },
     "execution_count": 150,
     "metadata": {},
     "output_type": "execute_result"
    }
   ],
   "source": [
    "ocupados_plenos.AÑOS.describe()"
   ]
  },
  {
   "cell_type": "code",
   "execution_count": 151,
   "id": "7b5e7224",
   "metadata": {},
   "outputs": [
    {
     "data": {
      "text/plain": [
       "count    1987.000000\n",
       "mean       38.166080\n",
       "std        12.897637\n",
       "min        15.000000\n",
       "25%        27.000000\n",
       "50%        37.000000\n",
       "75%        48.000000\n",
       "max        79.000000\n",
       "Name: AÑOS, dtype: float64"
      ]
     },
     "execution_count": 151,
     "metadata": {},
     "output_type": "execute_result"
    }
   ],
   "source": [
    "subocupados.AÑOS.describe()"
   ]
  },
  {
   "cell_type": "markdown",
   "id": "fc029d77",
   "metadata": {},
   "source": [
    "La distribución de los subocupados es, a simple vista, una distribución más sesgada hacia la izquierda. Además, mientras que la moda de subocupados es de 25 a 30, la de ocupados plenos es de 40 a 45. A su vez, la media de ocupados es 2 años mayor que la de subocupados (con desvíos estándares similares). "
   ]
  },
  {
   "cell_type": "code",
   "execution_count": 19,
   "id": "3b00e54e",
   "metadata": {},
   "outputs": [],
   "source": [
    "#Intensidad según ingreso\n",
    "\n",
    "#Creación de una columna que contemple la situación de pobreza o indigencia según el total de ingresos percibidos por las personas \n",
    "def calcula_indice(ingresos):\n",
    "    if ingresos < 8312:\n",
    "        return \"Personas por debajo de la línea de indigencia\"\n",
    "    elif ingresos < 19700: \n",
    "        return \"Personas por debajo de la línea de pobreza\"\n",
    "    else:\n",
    "        return \"Personas por sobre la línea de pobreza\"\n",
    "        \n",
    "ocupados['SITUACION'] = ocupados.apply(lambda x: calcula_indice(x['MONTO_DE_INGRESO_TOTAL']),axis=1)"
   ]
  },
  {
   "cell_type": "code",
   "execution_count": 20,
   "id": "41050d5a",
   "metadata": {},
   "outputs": [
    {
     "name": "stdout",
     "output_type": "stream",
     "text": [
      "     MONTO_DE_INGRESO_TOTAL                                      SITUACION  \\\n",
      "0                         0  Personas por debajo de la línea de indigencia   \n",
      "1                       200  Personas por debajo de la línea de indigencia   \n",
      "2                       700  Personas por debajo de la línea de indigencia   \n",
      "3                       900  Personas por debajo de la línea de indigencia   \n",
      "4                      1000  Personas por debajo de la línea de indigencia   \n",
      "..                      ...                                            ...   \n",
      "300                  109900         Personas por sobre la línea de pobreza   \n",
      "301                  110000         Personas por sobre la línea de pobreza   \n",
      "302                  135000         Personas por sobre la línea de pobreza   \n",
      "303                  150000         Personas por sobre la línea de pobreza   \n",
      "304                  153000         Personas por sobre la línea de pobreza   \n",
      "\n",
      "     CODUSU  \n",
      "0        68  \n",
      "1         1  \n",
      "2         2  \n",
      "3         2  \n",
      "4         6  \n",
      "..      ...  \n",
      "300       1  \n",
      "301       2  \n",
      "302       1  \n",
      "303       2  \n",
      "304       1  \n",
      "\n",
      "[305 rows x 3 columns]\n"
     ]
    }
   ],
   "source": [
    "sub = ocupados[ocupados.INTENSIDAD_DE_LA_OCUPACIÓN == \"Subocupado\"]\n",
    "subin = sub.groupby([\"MONTO_DE_INGRESO_TOTAL\", \"SITUACION\"])[\"CODUSU\"].count()\n",
    "subing = subin.reset_index()\n",
    "print(subing)"
   ]
  },
  {
   "cell_type": "code",
   "execution_count": 21,
   "id": "95229e18",
   "metadata": {
    "slideshow": {
     "slide_type": "slide"
    }
   },
   "outputs": [
    {
     "data": {
      "image/png": "[encoded data removed]",
      "text/plain": [
       "<Figure size 432x288 with 1 Axes>"
      ]
     },
     "metadata": {},
     "output_type": "display_data"
    }
   ],
   "source": [
    "sns.scatterplot(x=\"MONTO_DE_INGRESO_TOTAL\", y=\"CODUSU\", hue=\"SITUACION\", data= subing, palette = [\"lightcoral\", \"orange\", \"olive\" ])\n",
    "plt.xlabel(\"Monto del ingreso total\")\n",
    "plt.ylabel(\"Cantidad de personas\")\n",
    "plt.title(\"Monto del ingreso total de las personas subocupadas\")\n",
    "plt.legend(title = \"Situación\");"
   ]
  },
  {
   "cell_type": "code",
   "execution_count": 22,
   "id": "eb74cbbb",
   "metadata": {},
   "outputs": [],
   "source": [
    "ocupadosplenos = ocupados[ocupados.INTENSIDAD_DE_LA_OCUPACIÓN == \"Ocupado pleno\"]\n",
    "ocin = ocupadosplenos.groupby([\"MONTO_DE_INGRESO_TOTAL\", \"SITUACION\"])[\"CODUSU\"].count()\n",
    "ocing = ocin.reset_index()\n"
   ]
  },
  {
   "cell_type": "code",
   "execution_count": 23,
   "id": "262dfb00",
   "metadata": {
    "scrolled": true,
    "slideshow": {
     "slide_type": "-"
    }
   },
   "outputs": [
    {
     "data": {
      "image/png": "[encoded data removed]",
      "text/plain": [
       "<Figure size 432x288 with 1 Axes>"
      ]
     },
     "metadata": {},
     "output_type": "display_data"
    }
   ],
   "source": [
    "sns.scatterplot(x=\"MONTO_DE_INGRESO_TOTAL\", y=\"CODUSU\", hue=\"SITUACION\", data= ocing, palette = [\"lightcoral\", \"orange\", \"olive\" ])\n",
    "plt.xlabel(\"Monto del ingreso total de las personas ocupadas plenas\")\n",
    "plt.ylabel(\"Cantidad de personas\")\n",
    "plt.title(\"Monto del ingreso total de las ocupadas plenas\")\n",
    "plt.legend(title = \"Situación\");\n",
    "\n"
   ]
  },
  {
   "cell_type": "code",
   "execution_count": 24,
   "id": "050422f7",
   "metadata": {
    "scrolled": false
   },
   "outputs": [
    {
     "data": {
      "text/plain": [
       "count       608.000000\n",
       "mean      60919.447368\n",
       "std       69292.497020\n",
       "min           0.000000\n",
       "25%       18845.000000\n",
       "50%       35550.000000\n",
       "75%       76325.000000\n",
       "max      420000.000000\n",
       "Name: MONTO_DE_INGRESO_TOTAL, dtype: float64"
      ]
     },
     "execution_count": 24,
     "metadata": {},
     "output_type": "execute_result"
    }
   ],
   "source": [
    "#Eliminé outliers para poder comparar mejor\n",
    "ocout = ocing.drop(ocing[ocing.MONTO_DE_INGRESO_TOTAL > 600000 ].index)\n",
    "ocout.MONTO_DE_INGRESO_TOTAL.describe()"
   ]
  },
  {
   "cell_type": "code",
   "execution_count": 34,
   "id": "7116885d",
   "metadata": {
    "scrolled": false,
    "slideshow": {
     "slide_type": "slide"
    }
   },
   "outputs": [
    {
     "data": {
      "image/png": "[encoded data removed]",
      "text/plain": [
       "<Figure size 432x288 with 1 Axes>"
      ]
     },
     "metadata": {},
     "output_type": "display_data"
    }
   ],
   "source": [
    "sns.scatterplot(x=\"MONTO_DE_INGRESO_TOTAL\", y=\"CODUSU\", hue=\"SITUACION\", data= ocout, palette = [\"lightcoral\", \"orange\", \"olive\" ])\n",
    "plt.xlabel(\"Monto del ingreso total\")\n",
    "plt.ylabel(\"Cantidad de personas\")\n",
    "plt.title(\"Monto del ingreso total de las ocupadas plenas\")\n",
    "plt.legend(title = \"Situación\");"
   ]
  },
  {
   "cell_type": "markdown",
   "id": "7b43ab32",
   "metadata": {},
   "source": [
    "Incluso habiendo eliminado los outliers solamente de una de las distribuciones (la de ocupados plenos), queda en evidencia la desigual distribución del ingreso. A simple vista podemos ver que hay más personas bajo la línea de indigencia (8312 pesos) y de pobreza (19700 pesos) en el grupo de subocupados que en el de ocupados plenos.  \n",
    "Cabe aclarar que los valores son los relevados por el INDEC para el mes de marzo de 2021."
   ]
  },
  {
   "cell_type": "code",
   "execution_count": 31,
   "id": "d09551c9",
   "metadata": {},
   "outputs": [],
   "source": [
    "#Según ingreso familiar total\n",
    "def calcula_pobreza(ingresos):\n",
    "    if ingresos < 25685:\n",
    "        return \"Hogares por debajo de la línea de indigencia\"\n",
    "    elif ingresos < 60874: \n",
    "        return \"Hogares por debajo de la línea de pobreza\"\n",
    "    else:\n",
    "        return \"Hogares por sobre la línea de pobreza\"\n",
    "        \n",
    "ocupados['FAMILIA'] = ocupados.apply(lambda x: calcula_pobreza(x['INGRESO_TOTAL_FAMILIAR']),axis=1)\n"
   ]
  },
  {
   "cell_type": "code",
   "execution_count": 32,
   "id": "dede8e1f",
   "metadata": {},
   "outputs": [],
   "source": [
    "ocpleno = ocupados[ocupados.INTENSIDAD_DE_LA_OCUPACIÓN == \"Ocupado pleno\"]\n",
    "familiapleno = ocpleno.groupby([\"INGRESO_TOTAL_FAMILIAR\", \"FAMILIA\"])[\"CODUSU\"].count()\n",
    "familiaplenoin = familiapleno.reset_index()"
   ]
  },
  {
   "cell_type": "code",
   "execution_count": 37,
   "id": "7a8dac55",
   "metadata": {
    "scrolled": true
   },
   "outputs": [
    {
     "data": {
      "image/png": "[encoded data removed]",
      "text/plain": [
       "<Figure size 432x288 with 1 Axes>"
      ]
     },
     "metadata": {},
     "output_type": "display_data"
    }
   ],
   "source": [
    "sns.scatterplot(x=\"INGRESO_TOTAL_FAMILIAR\", y=\"CODUSU\", hue=\"FAMILIA\", data= familiaplenoin, palette = [\"lightcoral\", \"orange\", \"olive\" ])\n",
    "plt.xlabel(\"Monto del ingreso total familiar\")\n",
    "plt.ylabel(\"Cantidad de personas\")\n",
    "plt.title(\"Monto del ingreso total familiar de las personas ocupadas plenas\")\n",
    "plt.legend(title = \"Situación\");"
   ]
  },
  {
   "cell_type": "code",
   "execution_count": 35,
   "id": "2b303fc9",
   "metadata": {},
   "outputs": [],
   "source": [
    "subem = ocupados[ocupados.INTENSIDAD_DE_LA_OCUPACIÓN == \"Subocupado\"]\n",
    "familiasubo = subem.groupby([\"INGRESO_TOTAL_FAMILIAR\", \"FAMILIA\"])[\"CODUSU\"].count()\n",
    "familiasub = familiasubo.reset_index()"
   ]
  },
  {
   "cell_type": "code",
   "execution_count": 36,
   "id": "6ccfaee0",
   "metadata": {
    "scrolled": false
   },
   "outputs": [
    {
     "data": {
      "image/png": "[encoded data removed]",
      "text/plain": [
       "<Figure size 432x288 with 1 Axes>"
      ]
     },
     "metadata": {},
     "output_type": "display_data"
    }
   ],
   "source": [
    "sns.scatterplot(x=\"INGRESO_TOTAL_FAMILIAR\", y=\"CODUSU\", hue=\"FAMILIA\", data= familiasub, palette = [\"lightcoral\", \"orange\", \"olive\" ])\n",
    "plt.xlabel(\"Monto del ingreso total familiar\")\n",
    "plt.ylabel(\"Cantidad de personas\")\n",
    "plt.title(\"Monto del ingreso total familiar de las personas subocupadas\")\n",
    "plt.legend(title = \"Situación\");"
   ]
  },
  {
   "cell_type": "code",
   "execution_count": 42,
   "id": "3c770d57",
   "metadata": {
    "scrolled": false
   },
   "outputs": [],
   "source": [
    "#Recorte de outliers para que quede más clara la distribución y boxplot de ingreso familiar\n",
    "sinout = ocupados.drop(ocupados[ocupados.INGRESO_TOTAL_FAMILIAR > 400000 ].index)"
   ]
  },
  {
   "cell_type": "code",
   "execution_count": 44,
   "id": "222d32ca",
   "metadata": {
    "scrolled": true,
    "slideshow": {
     "slide_type": "slide"
    }
   },
   "outputs": [
    {
     "data": {
      "image/png": "[encoded data removed]",
      "text/plain": [
       "<Figure size 360x360 with 1 Axes>"
      ]
     },
     "metadata": {},
     "output_type": "display_data"
    }
   ],
   "source": [
    "my_pal = {\"Subocupado\": \"olive\", \"Ocupado pleno\": \"lightblue\"}\n",
    "plt = sns.catplot(x=\"INTENSIDAD_DE_LA_OCUPACIÓN\", y=\"INGRESO_TOTAL_FAMILIAR\", kind=\"box\", palette=my_pal, data=sinout)\n",
    "plt.set(xlabel = \"Intensidad de ocupación\", ylabel = \"Total de ingresos familiares\", title= \"Ingreso familiar total\");"
   ]
  },
  {
   "cell_type": "markdown",
   "id": "49f55262",
   "metadata": {},
   "source": [
    "Resulta claro que las personas subocupadas habitan hogares más pobres: la mediana de los hogares de ocupados plenos se situa casi en el mismo lugar que en el tercer cuartil de los subocupados. Los valores que marcan la línea de pobreza e indigencia para hogares (hogares tipo: 2 padres en sus treintas y un hijo de 6 y una hija de 8) son 60874 pesos y 25685 pesos, respectivamente. Es decir, que más de la mitad de los hogares de personas subocupadas están por debajo de la línea de pobreza  (situación que no sucede en los hogares de ocupados plenos).  \n",
    "Cabe aclarar que los valores son los relevados por el INDEC para el mes de marzo de 2021."
   ]
  },
  {
   "cell_type": "code",
   "execution_count": 5,
   "id": "d32140e8",
   "metadata": {
    "scrolled": true
   },
   "outputs": [
    {
     "name": "stdout",
     "output_type": "stream",
     "text": [
      "Sí                                          4102\n",
      "No                                          2204\n",
      "No le corresponde la secuencia analizada    1947\n",
      "Name: DESCUENTO_POR_JUBILACIÓN, dtype: int64\n",
      "No                                          873\n",
      "No le corresponde la secuencia analizada    840\n",
      "Sí                                          274\n",
      "Name: DESCUENTO_POR_JUBILACIÓN, dtype: int64\n"
     ]
    }
   ],
   "source": [
    "#Intensidad de la ocupación según si recibe o no aportes jubilatorios \n",
    "aportesoc = ocupados[ocupados.INTENSIDAD_DE_LA_OCUPACIÓN == \"Ocupado pleno\"].DESCUENTO_POR_JUBILACIÓN.value_counts()\n",
    "aportessub = ocupados[ocupados.INTENSIDAD_DE_LA_OCUPACIÓN == \"Subocupado\"].DESCUENTO_POR_JUBILACIÓN.value_counts()\n",
    "print(aportesoc)\n",
    "print(aportessub)\n"
   ]
  },
  {
   "cell_type": "code",
   "execution_count": 6,
   "id": "e5b8666b",
   "metadata": {
    "scrolled": true,
    "slideshow": {
     "slide_type": "slide"
    }
   },
   "outputs": [
    {
     "data": {
      "image/png": "[encoded data removed]",
      "text/plain": [
       "<Figure size 576x288 with 2 Axes>"
      ]
     },
     "metadata": {},
     "output_type": "display_data"
    }
   ],
   "source": [
    "fig, (ax1, ax2) = plt.subplots(1, 2, figsize=(8,4))\n",
    "lab3l = [\"Sí\", \"No\", \"No corresponde\"]\n",
    "l4bel = [\"No\", \"No corresponde\", \"Sí\"]\n",
    "fig.suptitle('Le descuentan para la jubilación', fontsize=15)\n",
    "ax1.pie(aportessub, colors= [\"lightblue\", \"orange\", \"olive\"], labels= l4bel, autopct='%1.1f%%')\n",
    "ax1.set_title('Subocupados', fontsize=13)\n",
    "ax2.pie(aportesoc, colors= [\"olive\",\"lightblue\", \"orange\"], autopct='%1.1f%%', labels= lab3l)\n",
    "ax2.set_title('Ocupados plenos', fontsize=13);\n"
   ]
  },
  {
   "cell_type": "markdown",
   "id": "21466dc3",
   "metadata": {},
   "source": [
    "Del análisis de esta figura resultan interesantes dos cosas: la abrumadora minoría de personas a las que sí les decuentan en subocupados (en comparación con la mtiad de ocupados plenos a los que sí) y la gran cantidad de personas ocupadas a las que no corresponde esta pregunta (también notoria la diferencia en esta categoría con los ocupados plenos). Podríamos, tomando si le descuentan para la jubilación como proxy de estar (o no) relación de dependencia formal, concluir que casi la mitad de los desocupados en relación de dependencia están informalizados.  \n",
    "Para analizar porqué hay tantas personas a las que no corresponde hacerles esa pregunta (si les descuentan, o no, jubilación), cabe observar qué sucede con las categorías ocupacionales."
   ]
  },
  {
   "cell_type": "code",
   "execution_count": 7,
   "id": "762f8d8e",
   "metadata": {
    "scrolled": true
   },
   "outputs": [
    {
     "name": "stdout",
     "output_type": "stream",
     "text": [
      "INTENSIDAD_DE_LA_OCUPACIÓN  CATEGORÍA_OCUPACIONAL               \n",
      "Ocupado pleno               Cuenta propia                           1631\n",
      "                            Obrero o empleado                       6306\n",
      "                            Patrón                                   230\n",
      "                            Trabajador familiar sin remuneración      86\n",
      "Subocupado                  Cuenta propia                            807\n",
      "                            Obrero o empleado                       1147\n",
      "                            Patrón                                    17\n",
      "                            Trabajador familiar sin remuneración      16\n",
      "Name: CODUSU, dtype: int64\n"
     ]
    }
   ],
   "source": [
    "#Intensidad de la ocupación según categorías ocupacionales\n",
    "ocupación_cat = ocupados.groupby([\"INTENSIDAD_DE_LA_OCUPACIÓN\", \"CATEGORÍA_OCUPACIONAL\"])[\"CODUSU\"].count()\n",
    "print(ocupación_cat)\n"
   ]
  },
  {
   "cell_type": "code",
   "execution_count": 8,
   "id": "f7031ddd",
   "metadata": {
    "scrolled": true
   },
   "outputs": [
    {
     "name": "stdout",
     "output_type": "stream",
     "text": [
      "  INTENSIDAD_DE_LA_OCUPACIÓN                 CATEGORÍA_OCUPACIONAL  CODUSU  \\\n",
      "0              Ocupado pleno                         Cuenta propia    1631   \n",
      "1              Ocupado pleno                     Obrero o empleado    6306   \n",
      "2              Ocupado pleno                                Patrón     230   \n",
      "3              Ocupado pleno  Trabajador familiar sin remuneración      86   \n",
      "4                 Subocupado                         Cuenta propia     807   \n",
      "5                 Subocupado                     Obrero o empleado    1147   \n",
      "6                 Subocupado                                Patrón      17   \n",
      "7                 Subocupado  Trabajador familiar sin remuneración      16   \n",
      "\n",
      "   porcentajes  \n",
      "0    19.762511  \n",
      "1    76.408579  \n",
      "2     2.786865  \n",
      "3     1.042045  \n",
      "4    40.613991  \n",
      "5    57.725214  \n",
      "6     0.855561  \n",
      "7     0.805234  \n"
     ]
    }
   ],
   "source": [
    "ocxcat = ocupación_cat.reset_index(inplace= False)\n",
    "ocxcat['porcentajes'] = np.where(ocxcat['INTENSIDAD_DE_LA_OCUPACIÓN']=='Subocupado', 100*ocxcat.CODUSU/1987, 100*ocxcat.CODUSU/8253)\n",
    "print(ocxcat)\n"
   ]
  },
  {
   "cell_type": "markdown",
   "id": "0110d78b",
   "metadata": {},
   "source": [
    "Creé una nueva columna con los porcentajes calculados sobre el total de cada grupo (ocupados plenos y subocupados) para poder comparar mejor los grupos."
   ]
  },
  {
   "cell_type": "code",
   "execution_count": 12,
   "id": "6ae56368",
   "metadata": {
    "scrolled": true,
    "slideshow": {
     "slide_type": "slide"
    }
   },
   "outputs": [
    {
     "data": {
      "image/png": "[encoded data removed]",
      "text/plain": [
       "<Figure size 648x648 with 1 Axes>"
      ]
     },
     "metadata": {},
     "output_type": "display_data"
    }
   ],
   "source": [
    "ax = sns.barplot(x=\"INTENSIDAD_DE_LA_OCUPACIÓN\", y=\"porcentajes\", hue=\"CATEGORÍA_OCUPACIONAL\", data=ocxcat, color= \"olive\")\n",
    "plt.xlabel(\"Intensidad de la ocupación\", fontsize=13)\n",
    "plt.ylabel(\"Porcentajes\",  fontsize=13)\n",
    "plt.legend(title = \"Categoría ocupacional\", loc = 2, bbox_to_anchor = (1,1))\n",
    "sns.set(rc={'figure.figsize':(9,9)})\n",
    "plt.title(\"Frecuencia relativa de las categorías ocupacionales de ocupados y subocupados\", fontsize=15);"
   ]
  },
  {
   "cell_type": "markdown",
   "id": "cbdcaf21",
   "metadata": {},
   "source": [
    "Es notoria la presencia de cuentapropistas entre los subocupados. Parecería que la diferencia que se da en la categoría empleados u obreros entre los dos grupos se compenza con la presencia de una mayor proporción de cuentapropistas en los subocupados."
   ]
  },
  {
   "cell_type": "markdown",
   "id": "c99b1cdb",
   "metadata": {},
   "source": [
    "# 5 Conclusiones"
   ]
  },
  {
   "cell_type": "markdown",
   "id": "bec30ff6",
   "metadata": {},
   "source": [
    "Respecto al cruce que se hizó de los grupos por sexo, cabe mencionar que, si bien no es extraño que las mujeres sean las más subocupadas (por discriminación y prejuicios a la hora de contratar y por la mayor cantidad de horas que le dedican a trabajos de cuidado no remunerados por fuera del mercado laboral), desde los 90' en Argentina se viene dando un fenómeno particular: el aumento de la subocupación, y de otro tipo de situaciones de precarización, entre grupos antes excentos de estas. Con la transformación del mercado laboral y de la estructura económica que se dió en los 90', y la consecuente caída de la demanda laboral, la subocupación pasó a ser un fenómeno que atañe también a los históricos \"jefes de hogar\" (Beccaria, 2003).  \n",
    "  \n",
    "El gráfico del nivel educativo es tajante: los ocupados plenos están compuestos por un porcentaje mayor personas con niveles educativos más altos que por personas con niveles educativos más bajos. Por supuesto, la relación entre nivel educativo e inserción laboral es fuerte: las personas en sus trayectorias educativas construyen redes sociales que servirán de capital social y otros capitales específicos que, generalmente, servirán para una mejor inserción en el mercado laboral. Por supuesto, esta es una rueda que gira sola, o una dinámica social con reproducción inerencial, las personas que logran terminar niveles educativos más altos suelen ser personas que provienen de familias que ya cuentan con cierto capital económico, social y cultural (Bourdieu, 2013).  \n",
    "\n",
    "Los subocupados tienden a ser más jóvenes que los ocupados plenos: la distribución de los subocupados es una distribución más sesgada hacia la izquierda. Esto no es casual, como Castel (1997) señala, la inserción laboral de los jóvenes es cada vez más errática y dificil: las trayectorias contemplan, en sus inicios, cada vez más situaciones de precarización.\n",
    "  \n",
    "Sobre ingresos creo, sobre todo, interesante el boxplot que considera el ingreso familiar (porque que las personas que trabajan menos horas van a tener menos ingresos es medio obvio). Pero lo interesante de analizar el ingreso familiar es ver cómo esos ingresos más bajos no pueden ser compensados en el hogar por alguna otra persona que gané (y probablemente trabaje) más. Es decir, los subocupados suelen habitar hogares pobres, qué situación se da primero es un punto que excede este análsis pero una punta para seguir pensando ineludible: ¿las personas que habitan hogares pobres tienen más probabilidades de ser subocupadas? Lo antedicho sobre el nivel educativo va en esa misma línea.  \n",
    "  \n",
    "Como se mencionó en la presentación de los datos, si les descuentan o no jubilación fue elegido como indicador proxy de si están en una relación de dependencia formal o informal. En el grupo de subocupados solamente un 13,8% está, siguiendo la línea de análisis propuesta, en relación de dependencia formal, casi la mitad en informal y (detalle interesante) 42% de los preguntados no calificaban para responder la pregunta (es decir, no eran personas a las que está la posibilidad en su trabajo de que un otro le descuente aportes para la jubilación). Esto llevó al análisis de las categorías ocupacionales, ¿quiénes son los subocupados? Si bien muchos son obreros y empleados, el 40% (número elevado en comparación con los ocupados plenos) son cuentapropistas. Ya lo advertía Villareal (1985), la transformación de la estructura productiva realizada durante la última dictadura militar trajó aparejada un aumento de los trabajadores independientes en detrimento del sector asalariado industrial formal. Este proceso produjo, como evidencia el último cuadro, una vinculación entre el trabajo cuentapropista independiente y la precarización laboral; los trabajadores independientes trabajan a pequeña escala, con escasos recursos (y muchos menos de 35 horas semanales).\n",
    "\n",
    "\n"
   ]
  },
  {
   "cell_type": "markdown",
   "id": "3b50f00f",
   "metadata": {},
   "source": [
    "# 6 Referencias\n",
    "\n",
    "https://www.indec.gob.ar/uploads/informesdeprensa/canasta_04_21EDC756AEAE.pdf  \n",
    "Beccaria, L. (2003) \"Las vicisitudes del mercado laboral argentino luego de las reformas\", en Boletín Informativo Techint, nro. 312.  \n",
    "Bourdieu, P. y Passeron, J. P. (2013). Los herederos. Siglo XXI.  \n",
    "Villareal, J. (1985). Crisis de la dictadura argentina. Siglo XXI.  \n",
    "Castel, R. (1997). Metamorfosis de la cuestión social. Paidós."
   ]
  },
  {
   "cell_type": "code",
   "execution_count": 25,
   "id": "51fc0ee7",
   "metadata": {},
   "outputs": [
    {
     "name": "stdout",
     "output_type": "stream",
     "text": [
      "\n",
      "Note: you may need to restart the kernel to use updated packages.Collecting package metadata (current_repodata.json): ...working... done\n",
      "\n",
      "Solving environment: ...working... done\n",
      "\n",
      "## Package Plan ##\n",
      "\n",
      "  environment location: C:\\Users\\User\\anaconda3\n",
      "\n",
      "  added / updated specs:\n",
      "    - rise\n",
      "\n",
      "\n",
      "The following packages will be downloaded:\n",
      "\n",
      "    package                    |            build\n",
      "    ---------------------------|-----------------\n",
      "    rise-5.7.1                 |   py38haa95532_0         1.7 MB\n",
      "    ------------------------------------------------------------\n",
      "                                           Total:         1.7 MB\n",
      "\n",
      "The following NEW packages will be INSTALLED:\n",
      "\n",
      "  rise               pkgs/main/win-64::rise-5.7.1-py38haa95532_0\n",
      "\n",
      "\n",
      "\n",
      "Downloading and Extracting Packages\n",
      "\n",
      "rise-5.7.1           | 1.7 MB    |            |   0% \n",
      "rise-5.7.1           | 1.7 MB    |            |   1% \n",
      "rise-5.7.1           | 1.7 MB    | 5          |   6% \n",
      "rise-5.7.1           | 1.7 MB    | #          |  10% \n",
      "rise-5.7.1           | 1.7 MB    | #5         |  16% \n",
      "rise-5.7.1           | 1.7 MB    | #9         |  20% \n",
      "rise-5.7.1           | 1.7 MB    | ##3        |  23% \n",
      "rise-5.7.1           | 1.7 MB    | ##9        |  29% \n",
      "rise-5.7.1           | 1.7 MB    | ###3       |  34% \n",
      "rise-5.7.1           | 1.7 MB    | ###8       |  38% \n",
      "rise-5.7.1           | 1.7 MB    | ####3      |  44% \n",
      "rise-5.7.1           | 1.7 MB    | ####8      |  49% \n",
      "rise-5.7.1           | 1.7 MB    | #####3     |  53% \n",
      "rise-5.7.1           | 1.7 MB    | #####8     |  58% \n",
      "rise-5.7.1           | 1.7 MB    | ######2    |  63% \n",
      "rise-5.7.1           | 1.7 MB    | ######7    |  67% \n",
      "rise-5.7.1           | 1.7 MB    | #######2   |  72% \n",
      "rise-5.7.1           | 1.7 MB    | #######7   |  78% \n",
      "rise-5.7.1           | 1.7 MB    | ########2  |  82% \n",
      "rise-5.7.1           | 1.7 MB    | ########7  |  87% \n",
      "rise-5.7.1           | 1.7 MB    | #########1 |  92% \n",
      "rise-5.7.1           | 1.7 MB    | #########7 |  97% \n",
      "rise-5.7.1           | 1.7 MB    | ########## | 100% \n",
      "Preparing transaction: ...working... done\n",
      "Verifying transaction: ...working... done\n",
      "Executing transaction: ...working... done\n"
     ]
    }
   ],
   "source": [
    "conda install -c damianavila82 rise"
   ]
  }
 ],
 "metadata": {
  "kernelspec": {
   "display_name": "Python 3",
   "language": "python",
   "name": "python3"
  },
  "language_info": {
   "codemirror_mode": {
    "name": "ipython",
    "version": 3
   },
   "file_extension": ".py",
   "mimetype": "text/x-python",
   "name": "python",
   "nbconvert_exporter": "python",
   "pygments_lexer": "ipython3",
   "version": "3.8.8"
  }
 },
 "nbformat": 4,
 "nbformat_minor": 5
}
