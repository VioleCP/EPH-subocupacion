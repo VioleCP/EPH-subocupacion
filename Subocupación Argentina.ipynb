{
 "cells": [
  {
   "cell_type": "markdown",
   "id": "46f1a275",
   "metadata": {},
   "source": [
    "# Análisis de la subocupación en Argentina 1er trimestre 2021\n",
    "**Por Violeta Carrera Pereyra** \n",
    "\n",
    "\n",
    "## Objetivo\n",
    "Ponerse tres preguntas\n",
    "- ZONAS GEOGRAFICAS\n",
    "- SEXO/NIVEL EDUCATIVO\n",
    "- TEMPORAL? (´COMO CAMBIO CON PANDEMIA) -- NEC JUNTAR DATASETS PRE PANDEMIA (2017-2021) son 15 datasets en total DUDAS \n",
    "\n",
    "## Tabla de contenidos\n",
    "1. Carga de datos\n",
    "2. Exploración de datos\n",
    "3. Limpieza de datos\n",
    "4. Presentación de datos\n",
    "5. Conclusiones\n",
    "6. Referencias\n",
    "\n",
    "\n",
    "\n"
   ]
  },
  {
   "cell_type": "markdown",
   "id": "4350ed24",
   "metadata": {},
   "source": [
    "# 1. Carga de datos\n",
    "Carga de la base (Encuesta Permanente de Hogares del INDEC primer trimestre del 2021) y recorte de las columnas con las que se trabajará.\n",
    "\n"
   ]
  },
  {
   "cell_type": "code",
   "execution_count": 2,
   "id": "11ac6d89",
   "metadata": {},
   "outputs": [],
   "source": [
    "#Importar librerias\n",
    "import pandas as pd\n",
    "import numpy as np\n",
    "import matplotlib.pyplot as plt \n",
    "%matplotlib inline\n"
   ]
  },
  {
   "cell_type": "code",
   "execution_count": 2,
   "id": "c6d401b4",
   "metadata": {},
   "outputs": [
    {
     "name": "stdout",
     "output_type": "stream",
     "text": [
      "C:\\Users\\User\\Documents\\GitHub\\EPH-subocupaci-n\n"
     ]
    }
   ],
   "source": [
    "#Importar datos\n",
    "import os \n",
    "print(os.getcwd())"
   ]
  },
  {
   "cell_type": "code",
   "execution_count": 3,
   "id": "1cb73de1",
   "metadata": {
    "scrolled": false
   },
   "outputs": [
    {
     "name": "stdout",
     "output_type": "stream",
     "text": [
      "<class 'pandas.core.frame.DataFrame'>\n",
      "RangeIndex: 46693 entries, 0 to 46692\n",
      "Columns: 177 entries, CODUSU to PONDIH\n",
      "dtypes: float64(115), int64(59), object(3)\n",
      "memory usage: 63.1+ MB\n"
     ]
    }
   ],
   "source": [
    "eph_completa = pd.read_excel(\"data/usu_individual_T121.xlsx\")\n",
    "eph_completa.info()"
   ]
  },
  {
   "cell_type": "code",
   "execution_count": 4,
   "id": "f5f958bf",
   "metadata": {
    "scrolled": true
   },
   "outputs": [
    {
     "name": "stdout",
     "output_type": "stream",
     "text": [
      "['CODUSU', 'ANO4', 'TRIMESTRE', 'NRO_HOGAR', 'COMPONENTE', 'H15', 'REGION', 'MAS_500', 'AGLOMERADO', 'PONDERA', 'CH03', 'CH04', 'CH05', 'CH06', 'CH07', 'CH08', 'CH09', 'CH10', 'CH11', 'CH12', 'CH13', 'CH14', 'CH15', 'CH15_COD', 'CH16', 'CH16_COD', 'NIVEL_ED', 'ESTADO', 'CAT_OCUP', 'CAT_INAC', 'IMPUTA', 'PP02C1', 'PP02C2', 'PP02C3', 'PP02C4', 'PP02C5', 'PP02C6', 'PP02C7', 'PP02C8', 'PP02E', 'PP02H', 'PP02I', 'PP03C', 'PP03D', 'PP3E_TOT', 'PP3F_TOT', 'PP03G', 'PP03H', 'PP03I', 'PP03J', 'INTENSI', 'PP04A', 'PP04B_COD', 'PP04B1', 'PP04B2', 'PP04B3_MES', 'PP04B3_ANO', 'PP04B3_DIA', 'PP04C', 'PP04C99', 'PP04D_COD', 'PP04G', 'PP05B2_MES', 'PP05B2_ANO', 'PP05B2_DIA', 'PP05C_1', 'PP05C_2', 'PP05C_3', 'PP05E', 'PP05F', 'PP05H', 'PP06A', 'PP06C', 'PP06D', 'PP06E', 'PP06H', 'PP07A', 'PP07C', 'PP07D', 'PP07E', 'PP07F1', 'PP07F2', 'PP07F3', 'PP07F4', 'PP07F5', 'PP07G1', 'PP07G2', 'PP07G3', 'PP07G4', 'PP07G_59', 'PP07H', 'PP07I', 'PP07J', 'PP07K', 'PP08D1', 'PP08D4', 'PP08F1', 'PP08F2', 'PP08J1', 'PP08J2', 'PP08J3', 'PP09A', 'PP09A_ESP', 'PP09B', 'PP09C', 'PP09C_ESP', 'PP10A', 'PP10C', 'PP10D', 'PP10E', 'PP11A', 'PP11B_COD', 'PP11B1', 'PP11B2_MES', 'PP11B2_ANO', 'PP11B2_DIA', 'PP11C', 'PP11C99', 'PP11D_COD', 'PP11G_ANO', 'PP11G_MES', 'PP11G_DIA', 'PP11L', 'PP11L1', 'PP11M', 'PP11N', 'PP11O', 'PP11P', 'PP11Q', 'PP11R', 'PP11S', 'PP11T', 'P21', 'DECOCUR', 'IDECOCUR', 'RDECOCUR', 'GDECOCUR', 'PDECOCUR', 'ADECOCUR', 'PONDIIO', 'TOT_P12', 'P47T', 'DECINDR', 'IDECINDR', 'RDECINDR', 'GDECINDR', 'PDECINDR', 'ADECINDR', 'PONDII', 'V2_M', 'V3_M', 'V4_M', 'V5_M', 'V8_M', 'V9_M', 'V10_M', 'V11_M', 'V12_M', 'V18_M', 'V19_AM', 'V21_M', 'T_VI', 'ITF', 'DECIFR', 'IDECIFR', 'RDECIFR', 'GDECIFR', 'PDECIFR', 'ADECIFR', 'IPCF', 'DECCFR', 'IDECCFR', 'RDECCFR', 'GDECCFR', 'PDECCFR', 'ADECCFR', 'PONDIH']\n"
     ]
    }
   ],
   "source": [
    "print(list(eph_completa.columns))\n"
   ]
  },
  {
   "cell_type": "code",
   "execution_count": 5,
   "id": "e5b003bb",
   "metadata": {},
   "outputs": [],
   "source": [
    "#Recorte de la base\n",
    "eph = eph_completa[[\"CODUSU\", \"REGION\", \"AGLOMERADO\", \"CH04\", \"CH06\", \"NIVEL_ED\", \"CAT_OCUP\", \"PP03C\", \"INTENSI\", \"PP07A\", \"P47T\", \"DECINDR\", \"ITF\", \"DECIFR\", \"PP07H\", \"ESTADO\"]]"
   ]
  },
  {
   "cell_type": "markdown",
   "id": "e9374376",
   "metadata": {},
   "source": [
    "# 2. Exploración de datos\n"
   ]
  },
  {
   "cell_type": "code",
   "execution_count": 6,
   "id": "93fe9225",
   "metadata": {
    "scrolled": false
   },
   "outputs": [
    {
     "name": "stdout",
     "output_type": "stream",
     "text": [
      "<class 'pandas.core.frame.DataFrame'>\n",
      "RangeIndex: 46693 entries, 0 to 46692\n",
      "Data columns (total 17 columns):\n",
      " #   Column      Non-Null Count  Dtype  \n",
      "---  ------      --------------  -----  \n",
      " 0   CODUSU      46693 non-null  object \n",
      " 1   REGION      46693 non-null  int64  \n",
      " 2   AGLOMERADO  46693 non-null  int64  \n",
      " 3   CH03        46693 non-null  int64  \n",
      " 4   CH04        46693 non-null  int64  \n",
      " 5   CH06        46693 non-null  int64  \n",
      " 6   NIVEL_ED    46693 non-null  int64  \n",
      " 7   CAT_OCUP    46693 non-null  int64  \n",
      " 8   PP03C       19014 non-null  float64\n",
      " 9   INTENSI     19014 non-null  float64\n",
      " 10  PP07A       19014 non-null  float64\n",
      " 11  P47T        46619 non-null  float64\n",
      " 12  DECINDR     46693 non-null  int64  \n",
      " 13  ITF         46691 non-null  float64\n",
      " 14  DECIFR      46691 non-null  float64\n",
      " 15  PP07H       19014 non-null  float64\n",
      " 16  ESTADO      46693 non-null  int64  \n",
      "dtypes: float64(7), int64(9), object(1)\n",
      "memory usage: 6.1+ MB\n"
     ]
    }
   ],
   "source": [
    "eph.info()"
   ]
  },
  {
   "cell_type": "code",
   "execution_count": 7,
   "id": "93e3a8d9",
   "metadata": {
    "scrolled": false
   },
   "outputs": [
    {
     "data": {
      "text/html": [
       "<div>\n",
       "<style scoped>\n",
       "    .dataframe tbody tr th:only-of-type {\n",
       "        vertical-align: middle;\n",
       "    }\n",
       "\n",
       "    .dataframe tbody tr th {\n",
       "        vertical-align: top;\n",
       "    }\n",
       "\n",
       "    .dataframe thead th {\n",
       "        text-align: right;\n",
       "    }\n",
       "</style>\n",
       "<table border=\"1\" class=\"dataframe\">\n",
       "  <thead>\n",
       "    <tr style=\"text-align: right;\">\n",
       "      <th></th>\n",
       "      <th>CODUSU</th>\n",
       "      <th>REGION</th>\n",
       "      <th>AGLOMERADO</th>\n",
       "      <th>CH03</th>\n",
       "      <th>CH04</th>\n",
       "      <th>CH06</th>\n",
       "      <th>NIVEL_ED</th>\n",
       "      <th>CAT_OCUP</th>\n",
       "      <th>PP03C</th>\n",
       "      <th>INTENSI</th>\n",
       "      <th>PP07A</th>\n",
       "      <th>P47T</th>\n",
       "      <th>DECINDR</th>\n",
       "      <th>ITF</th>\n",
       "      <th>DECIFR</th>\n",
       "      <th>PP07H</th>\n",
       "      <th>ESTADO</th>\n",
       "    </tr>\n",
       "  </thead>\n",
       "  <tbody>\n",
       "    <tr>\n",
       "      <th>29298</th>\n",
       "      <td>TQRMNORQUHMMKNCDEHLEH00699156</td>\n",
       "      <td>40</td>\n",
       "      <td>25</td>\n",
       "      <td>5</td>\n",
       "      <td>1</td>\n",
       "      <td>23</td>\n",
       "      <td>5</td>\n",
       "      <td>0</td>\n",
       "      <td>NaN</td>\n",
       "      <td>NaN</td>\n",
       "      <td>NaN</td>\n",
       "      <td>0.0</td>\n",
       "      <td>0</td>\n",
       "      <td>110000.0</td>\n",
       "      <td>9.0</td>\n",
       "      <td>NaN</td>\n",
       "      <td>3</td>\n",
       "    </tr>\n",
       "    <tr>\n",
       "      <th>22223</th>\n",
       "      <td>TQRMNOQQTHLOLPCDEGPDJ00648969</td>\n",
       "      <td>40</td>\n",
       "      <td>19</td>\n",
       "      <td>9</td>\n",
       "      <td>2</td>\n",
       "      <td>40</td>\n",
       "      <td>4</td>\n",
       "      <td>2</td>\n",
       "      <td>1.0</td>\n",
       "      <td>1.0</td>\n",
       "      <td>0.0</td>\n",
       "      <td>17000.0</td>\n",
       "      <td>3</td>\n",
       "      <td>37000.0</td>\n",
       "      <td>3.0</td>\n",
       "      <td>0.0</td>\n",
       "      <td>1</td>\n",
       "    </tr>\n",
       "    <tr>\n",
       "      <th>10195</th>\n",
       "      <td>TQRMNOSQRHLOKUCDEFPCH00647755</td>\n",
       "      <td>44</td>\n",
       "      <td>9</td>\n",
       "      <td>5</td>\n",
       "      <td>1</td>\n",
       "      <td>-1</td>\n",
       "      <td>7</td>\n",
       "      <td>0</td>\n",
       "      <td>NaN</td>\n",
       "      <td>NaN</td>\n",
       "      <td>NaN</td>\n",
       "      <td>0.0</td>\n",
       "      <td>0</td>\n",
       "      <td>82000.0</td>\n",
       "      <td>7.0</td>\n",
       "      <td>NaN</td>\n",
       "      <td>4</td>\n",
       "    </tr>\n",
       "    <tr>\n",
       "      <th>10342</th>\n",
       "      <td>TQRMNOTQQHKOLQCDEFPCH00653181</td>\n",
       "      <td>44</td>\n",
       "      <td>9</td>\n",
       "      <td>1</td>\n",
       "      <td>1</td>\n",
       "      <td>60</td>\n",
       "      <td>4</td>\n",
       "      <td>3</td>\n",
       "      <td>1.0</td>\n",
       "      <td>3.0</td>\n",
       "      <td>6.0</td>\n",
       "      <td>66000.0</td>\n",
       "      <td>9</td>\n",
       "      <td>255500.0</td>\n",
       "      <td>10.0</td>\n",
       "      <td>1.0</td>\n",
       "      <td>1</td>\n",
       "    </tr>\n",
       "    <tr>\n",
       "      <th>9644</th>\n",
       "      <td>TQRMNOQRQHLNKTCDEFPCH00647845</td>\n",
       "      <td>44</td>\n",
       "      <td>9</td>\n",
       "      <td>2</td>\n",
       "      <td>2</td>\n",
       "      <td>58</td>\n",
       "      <td>4</td>\n",
       "      <td>0</td>\n",
       "      <td>NaN</td>\n",
       "      <td>NaN</td>\n",
       "      <td>NaN</td>\n",
       "      <td>30000.0</td>\n",
       "      <td>6</td>\n",
       "      <td>127000.0</td>\n",
       "      <td>9.0</td>\n",
       "      <td>NaN</td>\n",
       "      <td>3</td>\n",
       "    </tr>\n",
       "  </tbody>\n",
       "</table>\n",
       "</div>"
      ],
      "text/plain": [
       "                              CODUSU  REGION  AGLOMERADO  CH03  CH04  CH06  \\\n",
       "29298  TQRMNORQUHMMKNCDEHLEH00699156      40          25     5     1    23   \n",
       "22223  TQRMNOQQTHLOLPCDEGPDJ00648969      40          19     9     2    40   \n",
       "10195  TQRMNOSQRHLOKUCDEFPCH00647755      44           9     5     1    -1   \n",
       "10342  TQRMNOTQQHKOLQCDEFPCH00653181      44           9     1     1    60   \n",
       "9644   TQRMNOQRQHLNKTCDEFPCH00647845      44           9     2     2    58   \n",
       "\n",
       "       NIVEL_ED  CAT_OCUP  PP03C  INTENSI  PP07A     P47T  DECINDR       ITF  \\\n",
       "29298         5         0    NaN      NaN    NaN      0.0        0  110000.0   \n",
       "22223         4         2    1.0      1.0    0.0  17000.0        3   37000.0   \n",
       "10195         7         0    NaN      NaN    NaN      0.0        0   82000.0   \n",
       "10342         4         3    1.0      3.0    6.0  66000.0        9  255500.0   \n",
       "9644          4         0    NaN      NaN    NaN  30000.0        6  127000.0   \n",
       "\n",
       "       DECIFR  PP07H  ESTADO  \n",
       "29298     9.0    NaN       3  \n",
       "22223     3.0    0.0       1  \n",
       "10195     7.0    NaN       4  \n",
       "10342    10.0    1.0       1  \n",
       "9644      9.0    NaN       3  "
      ]
     },
     "execution_count": 7,
     "metadata": {},
     "output_type": "execute_result"
    }
   ],
   "source": [
    "eph.sample(5)"
   ]
  },
  {
   "cell_type": "code",
   "execution_count": 8,
   "id": "e8a1bcf9",
   "metadata": {
    "scrolled": true
   },
   "outputs": [
    {
     "data": {
      "text/plain": [
       "(46693, 17)"
      ]
     },
     "execution_count": 8,
     "metadata": {},
     "output_type": "execute_result"
    }
   ],
   "source": [
    "eph.shape"
   ]
  },
  {
   "cell_type": "code",
   "execution_count": 9,
   "id": "cc8a2357",
   "metadata": {
    "scrolled": true
   },
   "outputs": [
    {
     "name": "stdout",
     "output_type": "stream",
     "text": [
      "[43 41 44 42 40  1]\n"
     ]
    },
    {
     "data": {
      "text/plain": [
       "43    0.307412\n",
       "40    0.240914\n",
       "44    0.139892\n",
       "42    0.117084\n",
       "41    0.107275\n",
       "1     0.087422\n",
       "Name: REGION, dtype: float64"
      ]
     },
     "execution_count": 9,
     "metadata": {},
     "output_type": "execute_result"
    }
   ],
   "source": [
    "#Valores únicos y frecuencia relativa de cada columna del dataset (aplicado solo a variables categóricas y edad)\n",
    "#Región geográfica\n",
    "print(eph.REGION.unique())\n",
    "eph.REGION.value_counts(dropna=False, normalize=True)"
   ]
  },
  {
   "cell_type": "code",
   "execution_count": 11,
   "id": "d0dd84af",
   "metadata": {
    "scrolled": true
   },
   "outputs": [
    {
     "name": "stdout",
     "output_type": "stream",
     "text": [
      "[ 2  3  4  5  6  7  8  9 10 12 13 14 15 17 18 19 20 22 23 25 26 27 29 30\n",
      " 31 32 33 34 36 38 91 93]\n"
     ]
    },
    {
     "data": {
      "text/plain": [
       "33    0.066070\n",
       "23    0.054890\n",
       "10    0.050179\n",
       "29    0.043583\n",
       "4     0.039321\n",
       "19    0.038807\n",
       "27    0.038357\n",
       "18    0.036858\n",
       "14    0.035980\n",
       "13    0.035701\n",
       "25    0.034288\n",
       "5     0.032553\n",
       "22    0.032489\n",
       "38    0.032146\n",
       "15    0.031739\n",
       "6     0.029276\n",
       "26    0.028548\n",
       "7     0.028141\n",
       "12    0.026813\n",
       "91    0.026685\n",
       "2     0.026385\n",
       "17    0.023986\n",
       "9     0.023580\n",
       "93    0.023451\n",
       "3     0.022916\n",
       "36    0.021952\n",
       "32    0.021352\n",
       "20    0.021245\n",
       "31    0.020945\n",
       "8     0.020581\n",
       "34    0.020239\n",
       "30    0.010944\n",
       "Name: AGLOMERADO, dtype: float64"
      ]
     },
     "execution_count": 11,
     "metadata": {},
     "output_type": "execute_result"
    }
   ],
   "source": [
    "#Aglomerado urbano\n",
    "print(eph.AGLOMERADO.unique())\n",
    "eph.AGLOMERADO.value_counts(dropna=False, normalize=True)"
   ]
  },
  {
   "cell_type": "code",
   "execution_count": 12,
   "id": "0e4ec0a3",
   "metadata": {
    "scrolled": true
   },
   "outputs": [
    {
     "name": "stdout",
     "output_type": "stream",
     "text": [
      "[2 1]\n"
     ]
    },
    {
     "data": {
      "text/plain": [
       "2    0.522005\n",
       "1    0.477995\n",
       "Name: CH04, dtype: float64"
      ]
     },
     "execution_count": 12,
     "metadata": {},
     "output_type": "execute_result"
    }
   ],
   "source": [
    "#Sexo\n",
    "print(eph.CH04.unique())\n",
    "eph.CH04.value_counts(dropna=False, normalize=True)"
   ]
  },
  {
   "cell_type": "code",
   "execution_count": 96,
   "id": "69e65884",
   "metadata": {
    "scrolled": true
   },
   "outputs": [
    {
     "name": "stdout",
     "output_type": "stream",
     "text": [
      "[ 27  26  38  33  15  17  10  25  21  49  37  62  34  28  60  69  70  74\n",
      "  44  54  50  19  68  67  58  61  75  56  59  42  40  16  14  64  30  32\n",
      "  55  24  22  18  11   7  43  47   9  35   6  63  45  57  46   4  53  20\n",
      "  36  41  51  52  91  72   8  29  31  77  66  23  80  81  48   5  12   3\n",
      "   2  13  84  82  71  65  76  73  78  79  -1   1  85  39  89  90  83  97\n",
      "  92  87  88  86  98  93  94  99  96  95 101]\n"
     ]
    },
    {
     "data": {
      "text/plain": [
       "20     0.017454\n",
       "16     0.016705\n",
       "21     0.016683\n",
       "17     0.016448\n",
       "23     0.016448\n",
       "         ...   \n",
       "95     0.000150\n",
       "97     0.000128\n",
       "98     0.000107\n",
       "99     0.000107\n",
       "101    0.000021\n",
       "Name: CH06, Length: 101, dtype: float64"
      ]
     },
     "execution_count": 96,
     "metadata": {},
     "output_type": "execute_result"
    }
   ],
   "source": [
    "#Edad\n",
    "print(eph.CH06.unique())\n",
    "eph.CH06.value_counts(dropna=False, normalize=True)"
   ]
  },
  {
   "cell_type": "code",
   "execution_count": 13,
   "id": "6689a22d",
   "metadata": {
    "scrolled": true
   },
   "outputs": [
    {
     "name": "stdout",
     "output_type": "stream",
     "text": [
      "[6 5 3 1 2 4 7]\n"
     ]
    },
    {
     "data": {
      "text/plain": [
       "3    0.209582\n",
       "4    0.198252\n",
       "1    0.142291\n",
       "6    0.129848\n",
       "2    0.123487\n",
       "5    0.120703\n",
       "7    0.075836\n",
       "Name: NIVEL_ED, dtype: float64"
      ]
     },
     "execution_count": 13,
     "metadata": {},
     "output_type": "execute_result"
    }
   ],
   "source": [
    "#Nivel educativo\n",
    "print(eph.NIVEL_ED.unique())\n",
    "eph.NIVEL_ED.value_counts(dropna=False, normalize=True)"
   ]
  },
  {
   "cell_type": "code",
   "execution_count": 14,
   "id": "00f2dd93",
   "metadata": {
    "scrolled": true
   },
   "outputs": [
    {
     "name": "stdout",
     "output_type": "stream",
     "text": [
      "[3 0 2 1 4 9]\n"
     ]
    },
    {
     "data": {
      "text/plain": [
       "0    0.563703\n",
       "3    0.314287\n",
       "2    0.103806\n",
       "1    0.015141\n",
       "4    0.003020\n",
       "9    0.000043\n",
       "Name: CAT_OCUP, dtype: float64"
      ]
     },
     "execution_count": 14,
     "metadata": {},
     "output_type": "execute_result"
    }
   ],
   "source": [
    "#Categoría ocupacional\n",
    "print(eph.CAT_OCUP.unique())\n",
    "eph.CAT_OCUP.value_counts(dropna=False, normalize=True)"
   ]
  },
  {
   "cell_type": "code",
   "execution_count": 99,
   "id": "6fb594ff",
   "metadata": {
    "scrolled": true
   },
   "outputs": [
    {
     "name": "stdout",
     "output_type": "stream",
     "text": [
      "[ 1. nan  2.  0.]\n"
     ]
    },
    {
     "data": {
      "text/plain": [
       "NaN    0.592787\n",
       "1.0    0.338680\n",
       "0.0    0.039985\n",
       "2.0    0.028548\n",
       "Name: PP03C, dtype: float64"
      ]
     },
     "execution_count": 99,
     "metadata": {},
     "output_type": "execute_result"
    }
   ],
   "source": [
    "#Cantidad de empleos\n",
    "print(eph.PP03C.unique())\n",
    "eph.PP03C.value_counts(dropna=False, normalize=True)"
   ]
  },
  {
   "cell_type": "code",
   "execution_count": 123,
   "id": "d8df5ba4",
   "metadata": {
    "scrolled": true
   },
   "outputs": [
    {
     "name": "stdout",
     "output_type": "stream",
     "text": [
      "[1 3 2 4 0]\n"
     ]
    },
    {
     "data": {
      "text/plain": [
       "3    19684\n",
       "1    19014\n",
       "4     6155\n",
       "2     1766\n",
       "0       74\n",
       "Name: ESTADO, dtype: int64"
      ]
     },
     "execution_count": 123,
     "metadata": {},
     "output_type": "execute_result"
    }
   ],
   "source": [
    "#Estado de ocupación\n",
    "print(eph.ESTADO.unique())\n",
    "eph.ESTADO.value_counts(dropna=False)"
   ]
  },
  {
   "cell_type": "code",
   "execution_count": 21,
   "id": "4be2474a",
   "metadata": {},
   "outputs": [
    {
     "data": {
      "image/png": "[encoded data removed]",
      "text/plain": [
       "<Figure size 360x360 with 1 Axes>"
      ]
     },
     "metadata": {
      "needs_background": "light"
     },
     "output_type": "display_data"
    }
   ],
   "source": [
    "estado = eph.ESTADO.value_counts(dropna=False)\n",
    "\n",
    "estado.plot.bar(x='label', y='values',figsize=(5,5), color= [\"lightblue\"]);"
   ]
  },
  {
   "cell_type": "code",
   "execution_count": 6,
   "id": "a626243f",
   "metadata": {
    "scrolled": true
   },
   "outputs": [
    {
     "name": "stdout",
     "output_type": "stream",
     "text": [
      "[ 3. nan  1.  4.  2.]\n"
     ]
    },
    {
     "data": {
      "text/plain": [
       "NaN    0.592787\n",
       "2.0    0.208725\n",
       "3.0    0.109374\n",
       "1.0    0.049108\n",
       "4.0    0.040006\n",
       "Name: INTENSI, dtype: float64"
      ]
     },
     "execution_count": 6,
     "metadata": {},
     "output_type": "execute_result"
    }
   ],
   "source": [
    "#Itensidad de la ocupación\n",
    "print(eph.INTENSI.unique())\n",
    "eph.INTENSI.value_counts(dropna=False, normalize=True)"
   ]
  },
  {
   "cell_type": "code",
   "execution_count": 81,
   "id": "ef396736",
   "metadata": {},
   "outputs": [
    {
     "ename": "AttributeError",
     "evalue": "module 'matplotlib.pyplot' has no attribute 'bar_label'",
     "output_type": "error",
     "traceback": [
      "\u001b[1;31m---------------------------------------------------------------------------\u001b[0m",
      "\u001b[1;31mAttributeError\u001b[0m                            Traceback (most recent call last)",
      "\u001b[1;32m<ipython-input-81-394b844a14ea>\u001b[0m in \u001b[0;36m<module>\u001b[1;34m\u001b[0m\n\u001b[0;32m      2\u001b[0m \u001b[1;33m\u001b[0m\u001b[0m\n\u001b[0;32m      3\u001b[0m \u001b[0mplot\u001b[0m \u001b[1;33m=\u001b[0m \u001b[0mintensi\u001b[0m\u001b[1;33m.\u001b[0m\u001b[0mplot\u001b[0m\u001b[1;33m.\u001b[0m\u001b[0mbar\u001b[0m\u001b[1;33m(\u001b[0m\u001b[0mx\u001b[0m\u001b[1;33m=\u001b[0m\u001b[1;34m'label'\u001b[0m\u001b[1;33m,\u001b[0m \u001b[0my\u001b[0m\u001b[1;33m=\u001b[0m\u001b[1;34m'values'\u001b[0m\u001b[1;33m,\u001b[0m\u001b[0mfigsize\u001b[0m\u001b[1;33m=\u001b[0m\u001b[1;33m(\u001b[0m\u001b[1;36m5\u001b[0m\u001b[1;33m,\u001b[0m\u001b[1;36m5\u001b[0m\u001b[1;33m)\u001b[0m\u001b[1;33m,\u001b[0m \u001b[0mcolor\u001b[0m \u001b[1;33m=\u001b[0m \u001b[1;33m[\u001b[0m\u001b[1;34m\"green\"\u001b[0m\u001b[1;33m]\u001b[0m\u001b[1;33m)\u001b[0m\u001b[1;33m\u001b[0m\u001b[1;33m\u001b[0m\u001b[0m\n\u001b[1;32m----> 4\u001b[1;33m \u001b[0mplt\u001b[0m\u001b[1;33m.\u001b[0m\u001b[0mbar_label\u001b[0m\u001b[1;33m(\u001b[0m\u001b[1;33m)\u001b[0m\u001b[1;33m\u001b[0m\u001b[1;33m\u001b[0m\u001b[0m\n\u001b[0m\u001b[0;32m      5\u001b[0m \u001b[0mplt\u001b[0m\u001b[1;33m.\u001b[0m\u001b[0mshow\u001b[0m\u001b[1;33m(\u001b[0m\u001b[1;33m)\u001b[0m\u001b[1;33m\u001b[0m\u001b[1;33m\u001b[0m\u001b[0m\n",
      "\u001b[1;31mAttributeError\u001b[0m: module 'matplotlib.pyplot' has no attribute 'bar_label'"
     ]
    },
    {
     "data": {
      "image/png": "[encoded data removed]",
      "text/plain": [
       "<Figure size 360x360 with 1 Axes>"
      ]
     },
     "metadata": {},
     "output_type": "display_data"
    }
   ],
   "source": [
    "intensi = eph.INTENSI.value_counts(dropna=False)\n",
    "\n",
    "plot = intensi.plot.bar(x='label', y='values',figsize=(5,5), color = [\"green\"])\n",
    "plt.bar_label()\n",
    "plt.show()"
   ]
  },
  {
   "cell_type": "code",
   "execution_count": 104,
   "id": "36b79a9f",
   "metadata": {
    "scrolled": true
   },
   "outputs": [
    {
     "name": "stdout",
     "output_type": "stream",
     "text": [
      "[ 5. nan  2.  0.  6.  4.  3.  9.  1.]\n"
     ]
    },
    {
     "data": {
      "text/plain": [
       "NaN    0.592787\n",
       "6.0    0.150365\n",
       "0.0    0.141563\n",
       "5.0    0.073930\n",
       "2.0    0.012529\n",
       "4.0    0.011522\n",
       "3.0    0.009637\n",
       "1.0    0.007003\n",
       "9.0    0.000664\n",
       "Name: PP07A, dtype: float64"
      ]
     },
     "execution_count": 104,
     "metadata": {},
     "output_type": "execute_result"
    }
   ],
   "source": [
    "#Hace cuánto trabajan en la ocupación principal\n",
    "print(eph.PP07A.unique())\n",
    "eph.PP07A.value_counts(dropna=False, normalize=True)"
   ]
  },
  {
   "cell_type": "code",
   "execution_count": 106,
   "id": "05cdcfd8",
   "metadata": {
    "scrolled": true
   },
   "outputs": [
    {
     "name": "stdout",
     "output_type": "stream",
     "text": [
      "[ 7  4 12  2  0  3  1  5  6  9 10  8 13]\n"
     ]
    },
    {
     "data": {
      "text/plain": [
       "0     0.388902\n",
       "12    0.081554\n",
       "3     0.065277\n",
       "2     0.063414\n",
       "5     0.056839\n",
       "6     0.056582\n",
       "4     0.056197\n",
       "7     0.051121\n",
       "1     0.050264\n",
       "8     0.045510\n",
       "9     0.044482\n",
       "10    0.038314\n",
       "13    0.001542\n",
       "Name: DECINDR, dtype: float64"
      ]
     },
     "execution_count": 106,
     "metadata": {},
     "output_type": "execute_result"
    }
   ],
   "source": [
    "#Deciles de ingreso total\n",
    "print(eph.DECINDR.unique())\n",
    "eph.DECINDR.value_counts(dropna=False, normalize=True)"
   ]
  },
  {
   "cell_type": "code",
   "execution_count": 108,
   "id": "8202c95e",
   "metadata": {
    "scrolled": true
   },
   "outputs": [
    {
     "name": "stdout",
     "output_type": "stream",
     "text": [
      "[ 4.  2. 12.  1.  9.  8.  5. 10.  6.  7.  3.  0. nan]\n"
     ]
    },
    {
     "data": {
      "text/plain": [
       "12.0    0.180734\n",
       "7.0     0.099308\n",
       "4.0     0.092326\n",
       "3.0     0.085944\n",
       "5.0     0.085216\n",
       "6.0     0.084167\n",
       "8.0     0.083524\n",
       "9.0     0.082346\n",
       "2.0     0.076521\n",
       "10.0    0.066670\n",
       "1.0     0.059923\n",
       "0.0     0.003277\n",
       "NaN     0.000043\n",
       "Name: DECIFR, dtype: float64"
      ]
     },
     "execution_count": 108,
     "metadata": {},
     "output_type": "execute_result"
    }
   ],
   "source": [
    "#Deciles de ingreso familiar\n",
    "print(eph.DECIFR.unique())\n",
    "eph.DECIFR.value_counts(dropna=False, normalize=True)"
   ]
  },
  {
   "cell_type": "code",
   "execution_count": 109,
   "id": "cbb35902",
   "metadata": {},
   "outputs": [
    {
     "name": "stdout",
     "output_type": "stream",
     "text": [
      "[ 1. nan  2.  0.]\n"
     ]
    },
    {
     "data": {
      "text/plain": [
       "NaN    0.592787\n",
       "1.0    0.192727\n",
       "0.0    0.114021\n",
       "2.0    0.100465\n",
       "Name: PP07H, dtype: float64"
      ]
     },
     "execution_count": 109,
     "metadata": {},
     "output_type": "execute_result"
    }
   ],
   "source": [
    "#Descuento por jubilación\n",
    "print(eph.PP07H.unique())\n",
    "eph.PP07H.value_counts(dropna=False, normalize=True)"
   ]
  },
  {
   "cell_type": "code",
   "execution_count": 114,
   "id": "7ddfbf30",
   "metadata": {
    "scrolled": false
   },
   "outputs": [
    {
     "data": {
      "text/plain": [
       "count    46693.000000\n",
       "mean        35.819952\n",
       "std         22.439663\n",
       "min         -1.000000\n",
       "25%         17.000000\n",
       "50%         33.000000\n",
       "75%         53.000000\n",
       "max        101.000000\n",
       "Name: CH06, dtype: float64"
      ]
     },
     "execution_count": 114,
     "metadata": {},
     "output_type": "execute_result"
    }
   ],
   "source": [
    "#Resúmenes estadísticos de variables de razón \n",
    "#CH06 = AÑOS\n",
    "eph.CH06.describe()"
   ]
  },
  {
   "cell_type": "code",
   "execution_count": 117,
   "id": "f02fe108",
   "metadata": {
    "scrolled": true
   },
   "outputs": [
    {
     "data": {
      "text/plain": [
       "count     46619.000000\n",
       "mean      19814.440786\n",
       "std       31705.829005\n",
       "min          -9.000000\n",
       "25%           0.000000\n",
       "50%        6000.000000\n",
       "75%       30000.000000\n",
       "max      819000.000000\n",
       "Name: P47T, dtype: float64"
      ]
     },
     "execution_count": 117,
     "metadata": {},
     "output_type": "execute_result"
    }
   ],
   "source": [
    "#P47T = monto del ingreso total\n",
    "eph.P47T.describe()"
   ]
  },
  {
   "cell_type": "code",
   "execution_count": 119,
   "id": "4582fb13",
   "metadata": {
    "scrolled": true
   },
   "outputs": [
    {
     "data": {
      "text/plain": [
       "count     46691.000000\n",
       "mean      61272.261742\n",
       "std       59675.746294\n",
       "min           0.000000\n",
       "25%       20800.000000\n",
       "50%       50000.000000\n",
       "75%       84000.000000\n",
       "max      819000.000000\n",
       "Name: ITF, dtype: float64"
      ]
     },
     "execution_count": 119,
     "metadata": {},
     "output_type": "execute_result"
    }
   ],
   "source": [
    "#ITF= monto del ingreso familiar\n",
    "eph.ITF.describe()"
   ]
  },
  {
   "cell_type": "markdown",
   "id": "82021d18",
   "metadata": {},
   "source": [
    "De la lectura de los outputs correspondientes a esta sección se desprende una constatación central: la presencia de la misma cantidad de datos nulos (27679) en 5 columnas (PP03C, INTENSI, PP04D, PP07A y PP07H). Luego de realizar el value_counts de la columna del dataset ESTADO esta particularidad de la base cobra sentido: los datos no nulos de las 5 columnas corresponden a los ocupados (o valor 1 de la columna ESTADO). Es decir, son todas preguntas que solamente se le hicieron a las personas ocupadas. Como en la proxima sección se filtraran solamente los casos de los ocupados estos valores nulos no resultan un problema.\n",
    "Sí parece haber habido un error en la carga de datos en la variable edad. Al ver el mínimo de la columna y sus valores únicos aparece el -1 como un valor dispuesto. Habrá que solucionar este problema en la limpieza de datos. \n",
    "Cabe mencionar, también, el valor mínimo de P47T (monto total de ingresos indivudales). El -9 y el 9, 99 y 999 en el resto de las variables se corresponde con el \"No sabe/no contesta\". Algo similar sucede con el 12 y 13 que aparecen como valores únicos en DECIFR y DECINDR (variables que versan sobre los deciles de ingresos), implican que no se respondio a la pregunta o que no se hizo la entrevista individual, respectivamente.\n",
    "Después no encuentro anomalías: todos los valores que adquieren las variables estan contemplados en el manual de la EPH y en la próxima sección  se procederá a etiquetarlos para que los datos puedan cobrar cierto sentido. "
   ]
  },
  {
   "cell_type": "markdown",
   "id": "e9604e22",
   "metadata": {},
   "source": [
    "# 3. Limpieza de datos \n",
    "Se realizará primero un recorte de la base y se etiquetaran los valores y las variables. Una vez recortada no deberían quedar valores nulos (por la correspondencia de estos con las personas no ocupadas). A su vez, se procederá a eliminar el caso con edad = -1 y a guardar la base limpia.\n"
   ]
  },
  {
   "cell_type": "code",
   "execution_count": 51,
   "id": "c657724c",
   "metadata": {
    "scrolled": true
   },
   "outputs": [],
   "source": [
    "#Renombre de columnas\n",
    "renombrada = eph.rename(columns = {'CH04': 'SEXO', 'CH06': 'AÑOS', \"NIVEL_ED\": \"NIVEL_EDUCATIVO\", \"CAT_OCUP\": \"CATEGORÍA_OCUPACIONAL\", \"PP03C\": \"CANTIDAD_DE_TRABAJOS\", \"PP07A\": \"ANTIGUEDAD_EN_OCUPACIÓN\", \"P47T\": \"MONTO_DE_INGRESO_TOTAL\", \"DECINDR\": \"DECIL_DE_INGRESOS\", \"ITF\": \"INGRESO_TOTAL_FAMILIAR\", \"DECIFR\": \"DECILES_SEGÚN_INGRESO_FAMILIAR\", \"PP07H\": \"DESCUENTO_POR_JUBILACIÓN\", \"INTENSI\": \"INTENSIDAD_DE_LA_OCUPACIÓN\", \"ESTADO\": \"ESTADO_DE_OCUPACIÓN\"}, inplace = False)\n"
   ]
  },
  {
   "cell_type": "code",
   "execution_count": 10,
   "id": "89fb79ec",
   "metadata": {
    "scrolled": true
   },
   "outputs": [
    {
     "name": "stdout",
     "output_type": "stream",
     "text": [
      "<class 'pandas.core.frame.DataFrame'>\n",
      "RangeIndex: 46693 entries, 0 to 46692\n",
      "Data columns (total 16 columns):\n",
      " #   Column                          Non-Null Count  Dtype  \n",
      "---  ------                          --------------  -----  \n",
      " 0   CODUSU                          46693 non-null  object \n",
      " 1   REGION                          46693 non-null  int64  \n",
      " 2   AGLOMERADO                      46693 non-null  int64  \n",
      " 3   SEXO                            46693 non-null  int64  \n",
      " 4   AÑOS                            46693 non-null  int64  \n",
      " 5   NIVEL_EDUCATIVO                 46693 non-null  int64  \n",
      " 6   CATEGORÍA_OCUPACIONAL           46693 non-null  int64  \n",
      " 7   CANTIDAD_DE_TRABAJOS            19014 non-null  float64\n",
      " 8   INTENSIDAD_DE_LA_OCUPACIÓN      19014 non-null  float64\n",
      " 9   ANTIGUEDAD_EN_OCUPACIÓN         19014 non-null  float64\n",
      " 10  MONTO_DE_INGRESO_TOTAL          46619 non-null  float64\n",
      " 11  DECIL_DE_INGRESOS               46693 non-null  int64  \n",
      " 12  INGRESO_TOTAL_FAMILIAR          46691 non-null  float64\n",
      " 13  DECILES_SEGÚN_INGRESO_FAMILIAR  46691 non-null  float64\n",
      " 14  DESCUENTO_POR_JUBILACIÓN        19014 non-null  float64\n",
      " 15  ESTADO_DE_OCUPACIÓN             46693 non-null  int64  \n",
      "dtypes: float64(7), int64(8), object(1)\n",
      "memory usage: 5.7+ MB\n"
     ]
    }
   ],
   "source": [
    "renombrada.info()"
   ]
  },
  {
   "cell_type": "code",
   "execution_count": 77,
   "id": "a9b38e27",
   "metadata": {},
   "outputs": [],
   "source": [
    "#Renombre de valores \n",
    "renombrada.loc[renombrada.REGION == 1, \"REGION\"] = \"Gran Buenos Aires\"\n",
    "renombrada.loc[renombrada.REGION == 40, \"REGION\"] = \"NOA\"\n",
    "renombrada.loc[renombrada.REGION == 41, \"REGION\"] = \"NEA\"\n",
    "renombrada.loc[renombrada.REGION == 42, \"REGION\"] = \"Cuyo\"\n",
    "renombrada.loc[renombrada.REGION == 43, \"REGION\"] = \"Pampeana\"\n",
    "renombrada.loc[renombrada.REGION == 44, \"REGION\"] = \"Patagonia\"\n",
    "renombrada.loc[renombrada.SEXO == 1, \"SEXO\"] = \"Varón\"\n",
    "renombrada.loc[renombrada.SEXO == 2, \"SEXO\"] = \"Mujer\"\n",
    "renombrada.loc[renombrada.NIVEL_EDUCATIVO == 1, \"NIVEL_EDUCATIVO\"] = \"Primario incompleto\"\n",
    "renombrada.loc[renombrada.NIVEL_EDUCATIVO == 2, \"NIVEL_EDUCATIVO\"] = \"Primario completo\"\n",
    "renombrada.loc[renombrada.NIVEL_EDUCATIVO == 3, \"NIVEL_EDUCATIVO\"] = \"Secundario incompleto\"\n",
    "renombrada.loc[renombrada.NIVEL_EDUCATIVO == 4, \"NIVEL_EDUCATIVO\"] = \"Secundario completo\"\n",
    "renombrada.loc[renombrada.NIVEL_EDUCATIVO == 5, \"NIVEL_EDUCATIVO\"] = \"Superior universitario incompleto\"\n",
    "renombrada.loc[renombrada.NIVEL_EDUCATIVO == 6, \"NIVEL_EDUCATIVO\"] = \"Superior universitario completo\"\n",
    "renombrada.loc[renombrada.NIVEL_EDUCATIVO == 7, \"NIVEL_EDUCATIVO\"] = \"Sin instrucción\"\n",
    "renombrada.loc[renombrada.NIVEL_EDUCATIVO == 9, \"NIVEL_EDUCATIVO\"] = \"Ns/Nc\"\n",
    "renombrada.loc[renombrada.CATEGORÍA_OCUPACIONAL == 0, \"CATEGORÍA_OCUPACIONAL\"] = \"No le corresponde la secuencia analizada\"\n",
    "renombrada.loc[renombrada.CATEGORÍA_OCUPACIONAL == 1, \"CATEGORÍA_OCUPACIONAL\"] = \"Patrón\"\n",
    "renombrada.loc[renombrada.CATEGORÍA_OCUPACIONAL == 2, \"CATEGORÍA_OCUPACIONAL\"] = \"Cuenta propia\"\n",
    "renombrada.loc[renombrada.CATEGORÍA_OCUPACIONAL == 3, \"CATEGORÍA_OCUPACIONAL\"] = \"Obrero o empleado\"\n",
    "renombrada.loc[renombrada.CATEGORÍA_OCUPACIONAL == 4, \"CATEGORÍA_OCUPACIONAL\"] = \"Trabajador familiar sin remuneración\"\n",
    "renombrada.loc[renombrada.CATEGORÍA_OCUPACIONAL == 9, \"CATEGORÍA_OCUPACIONAL\"] = \"Ns/Nc\"\n",
    "renombrada.loc[renombrada.CANTIDAD_DE_TRABAJOS == 1, \"CANTIDAD_DE_TRABAJOS\"] = \"Un solo empleo o actividad\"\n",
    "renombrada.loc[renombrada.CANTIDAD_DE_TRABAJOS == 2, \"CANTIDAD_DE_TRABAJOS\"] = \"Más de un empleo o actividad\"\n",
    "renombrada.loc[renombrada.CANTIDAD_DE_TRABAJOS == 0, \"CANTIDAD_DE_TRABAJOS\"] = \"No le corresponde la secuencia analizada\"\n",
    "renombrada.loc[renombrada.INTENSIDAD_DE_LA_OCUPACIÓN == 1, \"INTENSIDAD_DE_LA_OCUPACIÓN\"] = \"Subocupado\"\n",
    "renombrada.loc[renombrada.INTENSIDAD_DE_LA_OCUPACIÓN == 2, \"INTENSIDAD_DE_LA_OCUPACIÓN\"] = \"Ocupado pleno\"\n",
    "renombrada.loc[renombrada.INTENSIDAD_DE_LA_OCUPACIÓN == 3, \"INTENSIDAD_DE_LA_OCUPACIÓN\"] = \"Sobreocupado\"\n",
    "renombrada.loc[renombrada.INTENSIDAD_DE_LA_OCUPACIÓN == 4, \"INTENSIDAD_DE_LA_OCUPACIÓN\"] = \"Ocupado que no trabajó en la semana\"\n",
    "renombrada.loc[renombrada.INTENSIDAD_DE_LA_OCUPACIÓN == 9, \"INTENSIDAD_DE_LA_OCUPACIÓN\"] = \"Ns/Nc\"\n",
    "renombrada.loc[renombrada.ANTIGUEDAD_EN_OCUPACIÓN == 1, \"ANTIGUEDAD_EN_OCUPACIÓN\"] = \"No le corresponde la secuencia analizada\"\n",
    "renombrada.loc[renombrada.ANTIGUEDAD_EN_OCUPACIÓN == 1, \"ANTIGUEDAD_EN_OCUPACIÓN\"] = \"Menos de un mes\"\n",
    "renombrada.loc[renombrada.ANTIGUEDAD_EN_OCUPACIÓN == 2, \"ANTIGUEDAD_EN_OCUPACIÓN\"] = \"1 a 3 meses\"\n",
    "renombrada.loc[renombrada.ANTIGUEDAD_EN_OCUPACIÓN == 3, \"ANTIGUEDAD_EN_OCUPACIÓN\"] = \"más de 3 meses a 6 meses\"\n",
    "renombrada.loc[renombrada.ANTIGUEDAD_EN_OCUPACIÓN == 4, \"ANTIGUEDAD_EN_OCUPACIÓN\"] = \"más de 6 a 12 meses\"\n",
    "renombrada.loc[renombrada.ANTIGUEDAD_EN_OCUPACIÓN == 5, \"ANTIGUEDAD_EN_OCUPACIÓN\"] = \"más de 1 a 5 años\"\n",
    "renombrada.loc[renombrada.ANTIGUEDAD_EN_OCUPACIÓN == 6, \"ANTIGUEDAD_EN_OCUPACIÓN\"] = \"más de 5 años\"\n",
    "renombrada.loc[renombrada.ANTIGUEDAD_EN_OCUPACIÓN == 9, \"ANTIGUEDAD_EN_OCUPACIÓN\"] = \"Ns/Nc\"\n",
    "renombrada.loc[renombrada.DECIL_DE_INGRESOS == 12, \"DECIL_DE_INGRESOS\"] = \"No hay respuesta de ingresos\"\n",
    "renombrada.loc[renombrada.DECIL_DE_INGRESOS == 13, \"DECIL_DE_INGRESOS\"] = \"Entrevista individual no analizada\"\n",
    "renombrada.loc[renombrada.DECILES_SEGÚN_INGRESO_FAMILIAR == 12, \"DECILES_SEGÚN_INGRESO_FAMILIAR\"] = \"No hay respuesta de ingresos\"\n",
    "renombrada.loc[renombrada.DECILES_SEGÚN_INGRESO_FAMILIAR == 13, \"DECILES_SEGÚN_INGRESO_FAMILIAR\"] = \"Entrevista individual no realizada\"\n",
    "renombrada.loc[renombrada.DESCUENTO_POR_JUBILACIÓN == 1,\"DESCUENTO_POR_JUBILACIÓN\"] = \"Sí\"\n",
    "renombrada.loc[renombrada.DESCUENTO_POR_JUBILACIÓN == 1,\"DESCUENTO_POR_JUBILACIÓN\"] = \"No\"\n",
    "renombrada.loc[renombrada.DESCUENTO_POR_JUBILACIÓN == 1,\"DESCUENTO_POR_JUBILACIÓN\"] = \"No le corresponde la secuencia analizada\"\n"
   ]
  },
  {
   "cell_type": "code",
   "execution_count": 56,
   "id": "e580e865",
   "metadata": {},
   "outputs": [
    {
     "data": {
      "text/html": [
       "<div>\n",
       "<style scoped>\n",
       "    .dataframe tbody tr th:only-of-type {\n",
       "        vertical-align: middle;\n",
       "    }\n",
       "\n",
       "    .dataframe tbody tr th {\n",
       "        vertical-align: top;\n",
       "    }\n",
       "\n",
       "    .dataframe thead th {\n",
       "        text-align: right;\n",
       "    }\n",
       "</style>\n",
       "<table border=\"1\" class=\"dataframe\">\n",
       "  <thead>\n",
       "    <tr style=\"text-align: right;\">\n",
       "      <th></th>\n",
       "      <th>CODUSU</th>\n",
       "      <th>REGION</th>\n",
       "      <th>AGLOMERADO</th>\n",
       "      <th>SEXO</th>\n",
       "      <th>AÑOS</th>\n",
       "      <th>NIVEL_EDUCATIVO</th>\n",
       "      <th>CATEGORÍA_OCUPACIONAL</th>\n",
       "      <th>CANTIDAD_DE_TRABAJOS</th>\n",
       "      <th>INTENSIDAD_DE_LA_OCUPACIÓN</th>\n",
       "      <th>ANTIGUEDAD_EN_OCUPACIÓN</th>\n",
       "      <th>MONTO_DE_INGRESO_TOTAL</th>\n",
       "      <th>DECIL_DE_INGRESOS</th>\n",
       "      <th>INGRESO_TOTAL_FAMILIAR</th>\n",
       "      <th>DECILES_SEGÚN_INGRESO_FAMILIAR</th>\n",
       "      <th>DESCUENTO_POR_JUBILACIÓN</th>\n",
       "      <th>ESTADO_DE_OCUPACIÓN</th>\n",
       "    </tr>\n",
       "  </thead>\n",
       "  <tbody>\n",
       "    <tr>\n",
       "      <th>22082</th>\n",
       "      <td>TQRMNOPYRHKMKSCDEGPDJ00654403</td>\n",
       "      <td>NOA</td>\n",
       "      <td>19</td>\n",
       "      <td>Mujer</td>\n",
       "      <td>22</td>\n",
       "      <td>Superior universitario incompleto</td>\n",
       "      <td>No le corresponde la secuencia analizada</td>\n",
       "      <td>NaN</td>\n",
       "      <td>NaN</td>\n",
       "      <td>NaN</td>\n",
       "      <td>0.0</td>\n",
       "      <td>0</td>\n",
       "      <td>35000.0</td>\n",
       "      <td>3.0</td>\n",
       "      <td>NaN</td>\n",
       "      <td>3</td>\n",
       "    </tr>\n",
       "    <tr>\n",
       "      <th>14295</th>\n",
       "      <td>TQRMNOPUYHMOKPCDEGJBF00700000</td>\n",
       "      <td>Pampeana</td>\n",
       "      <td>13</td>\n",
       "      <td>Varón</td>\n",
       "      <td>68</td>\n",
       "      <td>Primario completo</td>\n",
       "      <td>No le corresponde la secuencia analizada</td>\n",
       "      <td>NaN</td>\n",
       "      <td>NaN</td>\n",
       "      <td>NaN</td>\n",
       "      <td>19700.0</td>\n",
       "      <td>3</td>\n",
       "      <td>44700.0</td>\n",
       "      <td>4.0</td>\n",
       "      <td>NaN</td>\n",
       "      <td>3</td>\n",
       "    </tr>\n",
       "    <tr>\n",
       "      <th>827</th>\n",
       "      <td>TQRMNORTRHKMLMCDEFIAH00652271</td>\n",
       "      <td>Pampeana</td>\n",
       "      <td>2</td>\n",
       "      <td>Mujer</td>\n",
       "      <td>16</td>\n",
       "      <td>Secundario incompleto</td>\n",
       "      <td>No le corresponde la secuencia analizada</td>\n",
       "      <td>NaN</td>\n",
       "      <td>NaN</td>\n",
       "      <td>NaN</td>\n",
       "      <td>0.0</td>\n",
       "      <td>0</td>\n",
       "      <td>80000.0</td>\n",
       "      <td>7.0</td>\n",
       "      <td>NaN</td>\n",
       "      <td>3</td>\n",
       "    </tr>\n",
       "    <tr>\n",
       "      <th>11728</th>\n",
       "      <td>TQRMNOQWTHLKLRCDEGGFB00648019</td>\n",
       "      <td>Cuyo</td>\n",
       "      <td>10</td>\n",
       "      <td>Mujer</td>\n",
       "      <td>79</td>\n",
       "      <td>Secundario completo</td>\n",
       "      <td>No le corresponde la secuencia analizada</td>\n",
       "      <td>NaN</td>\n",
       "      <td>NaN</td>\n",
       "      <td>NaN</td>\n",
       "      <td>31000.0</td>\n",
       "      <td>6</td>\n",
       "      <td>337000.0</td>\n",
       "      <td>10.0</td>\n",
       "      <td>NaN</td>\n",
       "      <td>3</td>\n",
       "    </tr>\n",
       "    <tr>\n",
       "      <th>16416</th>\n",
       "      <td>TQRMNOQTXHKMKTCDEGKDB00653921</td>\n",
       "      <td>Pampeana</td>\n",
       "      <td>14</td>\n",
       "      <td>Mujer</td>\n",
       "      <td>56</td>\n",
       "      <td>Secundario completo</td>\n",
       "      <td>Cuenta propia</td>\n",
       "      <td>Un solo empleo o actividad</td>\n",
       "      <td>Sobreocupado</td>\n",
       "      <td>0.0</td>\n",
       "      <td>20000.0</td>\n",
       "      <td>3</td>\n",
       "      <td>35000.0</td>\n",
       "      <td>3.0</td>\n",
       "      <td>0.0</td>\n",
       "      <td>1</td>\n",
       "    </tr>\n",
       "  </tbody>\n",
       "</table>\n",
       "</div>"
      ],
      "text/plain": [
       "                              CODUSU    REGION  AGLOMERADO   SEXO  AÑOS  \\\n",
       "22082  TQRMNOPYRHKMKSCDEGPDJ00654403       NOA          19  Mujer    22   \n",
       "14295  TQRMNOPUYHMOKPCDEGJBF00700000  Pampeana          13  Varón    68   \n",
       "827    TQRMNORTRHKMLMCDEFIAH00652271  Pampeana           2  Mujer    16   \n",
       "11728  TQRMNOQWTHLKLRCDEGGFB00648019      Cuyo          10  Mujer    79   \n",
       "16416  TQRMNOQTXHKMKTCDEGKDB00653921  Pampeana          14  Mujer    56   \n",
       "\n",
       "                         NIVEL_EDUCATIVO  \\\n",
       "22082  Superior universitario incompleto   \n",
       "14295                  Primario completo   \n",
       "827                Secundario incompleto   \n",
       "11728                Secundario completo   \n",
       "16416                Secundario completo   \n",
       "\n",
       "                          CATEGORÍA_OCUPACIONAL        CANTIDAD_DE_TRABAJOS  \\\n",
       "22082  No le corresponde la secuencia analizada                         NaN   \n",
       "14295  No le corresponde la secuencia analizada                         NaN   \n",
       "827    No le corresponde la secuencia analizada                         NaN   \n",
       "11728  No le corresponde la secuencia analizada                         NaN   \n",
       "16416                             Cuenta propia  Un solo empleo o actividad   \n",
       "\n",
       "      INTENSIDAD_DE_LA_OCUPACIÓN ANTIGUEDAD_EN_OCUPACIÓN  \\\n",
       "22082                        NaN                     NaN   \n",
       "14295                        NaN                     NaN   \n",
       "827                          NaN                     NaN   \n",
       "11728                        NaN                     NaN   \n",
       "16416               Sobreocupado                     0.0   \n",
       "\n",
       "       MONTO_DE_INGRESO_TOTAL DECIL_DE_INGRESOS  INGRESO_TOTAL_FAMILIAR  \\\n",
       "22082                     0.0                 0                 35000.0   \n",
       "14295                 19700.0                 3                 44700.0   \n",
       "827                       0.0                 0                 80000.0   \n",
       "11728                 31000.0                 6                337000.0   \n",
       "16416                 20000.0                 3                 35000.0   \n",
       "\n",
       "      DECILES_SEGÚN_INGRESO_FAMILIAR DESCUENTO_POR_JUBILACIÓN  \\\n",
       "22082                            3.0                      NaN   \n",
       "14295                            4.0                      NaN   \n",
       "827                              7.0                      NaN   \n",
       "11728                           10.0                      NaN   \n",
       "16416                            3.0                      0.0   \n",
       "\n",
       "       ESTADO_DE_OCUPACIÓN  \n",
       "22082                    3  \n",
       "14295                    3  \n",
       "827                      3  \n",
       "11728                    3  \n",
       "16416                    1  "
      ]
     },
     "execution_count": 56,
     "metadata": {},
     "output_type": "execute_result"
    }
   ],
   "source": [
    "renombrada.sample(5)"
   ]
  },
  {
   "cell_type": "code",
   "execution_count": 76,
   "id": "c44c516f",
   "metadata": {},
   "outputs": [
    {
     "name": "stdout",
     "output_type": "stream",
     "text": [
      "<class 'pandas.core.frame.DataFrame'>\n",
      "Int64Index: 19014 entries, 0 to 46687\n",
      "Data columns (total 16 columns):\n",
      " #   Column                          Non-Null Count  Dtype  \n",
      "---  ------                          --------------  -----  \n",
      " 0   CODUSU                          19014 non-null  object \n",
      " 1   REGION                          19014 non-null  object \n",
      " 2   AGLOMERADO                      19014 non-null  int64  \n",
      " 3   SEXO                            19014 non-null  object \n",
      " 4   AÑOS                            19014 non-null  int64  \n",
      " 5   NIVEL_EDUCATIVO                 19014 non-null  object \n",
      " 6   CATEGORÍA_OCUPACIONAL           19014 non-null  object \n",
      " 7   CANTIDAD_DE_TRABAJOS            19014 non-null  object \n",
      " 8   INTENSIDAD_DE_LA_OCUPACIÓN      19014 non-null  object \n",
      " 9   ANTIGUEDAD_EN_OCUPACIÓN         19014 non-null  object \n",
      " 10  MONTO_DE_INGRESO_TOTAL          19014 non-null  float64\n",
      " 11  DECIL_DE_INGRESOS               19014 non-null  object \n",
      " 12  INGRESO_TOTAL_FAMILIAR          19014 non-null  float64\n",
      " 13  DECILES_SEGÚN_INGRESO_FAMILIAR  19014 non-null  object \n",
      " 14  DESCUENTO_POR_JUBILACIÓN        19014 non-null  object \n",
      " 15  ESTADO_DE_OCUPACIÓN             19014 non-null  int64  \n",
      "dtypes: float64(2), int64(3), object(11)\n",
      "memory usage: 2.5+ MB\n",
      "None\n"
     ]
    }
   ],
   "source": [
    "#Recorte de la base (solamente ocupados)\n",
    "estado = renombrada[renombrada.ESTADO_DE_OCUPACIÓN == 1]\n",
    "print(estado.info())\n"
   ]
  },
  {
   "cell_type": "code",
   "execution_count": 46,
   "id": "07d575ce",
   "metadata": {},
   "outputs": [
    {
     "name": "stdout",
     "output_type": "stream",
     "text": [
      "CODUSU                            0\n",
      "REGION                            0\n",
      "AGLOMERADO                        0\n",
      "SEXO                              0\n",
      "AÑOS                              0\n",
      "NIVEL_EDUCATIVO                   0\n",
      "CATEGORÍA_OCUPACIONAL             0\n",
      "CANTIDAD_DE_TRABAJOS              0\n",
      "INTENSIDAD_DE_LA_OCUPACIÓN        0\n",
      "ANTIGUEDAD_EN_OCUPACIÓN           0\n",
      "MONTO_DE_INGRESO_TOTAL            0\n",
      "DECIL_DE_INGRESOS                 0\n",
      "INGRESO_TOTAL_FAMILIAR            0\n",
      "DECILES_SEGÚN_INGRESO_FAMILIAR    0\n",
      "DESCUENTO_POR_JUBILACIÓN          0\n",
      "ESTADO_DE_OCUPACIÓN               0\n",
      "dtype: int64\n"
     ]
    }
   ],
   "source": [
    "print(estado.isnull().sum())"
   ]
  },
  {
   "cell_type": "markdown",
   "id": "8bd4c24c",
   "metadata": {},
   "source": [
    "Como se estimo en las conclusiones de la exploración de los datos, no hay valores nulos en ninguna de las columnas. "
   ]
  },
  {
   "cell_type": "code",
   "execution_count": 15,
   "id": "2a1bacd1",
   "metadata": {
    "scrolled": false
   },
   "outputs": [
    {
     "data": {
      "text/plain": [
       "count    19014.000000\n",
       "mean        41.140160\n",
       "std         12.986582\n",
       "min         13.000000\n",
       "25%         30.000000\n",
       "50%         41.000000\n",
       "75%         51.000000\n",
       "max         99.000000\n",
       "Name: AÑOS, dtype: float64"
      ]
     },
     "execution_count": 15,
     "metadata": {},
     "output_type": "execute_result"
    }
   ],
   "source": [
    "#Comprobación de la columna edad\n",
    "estado.AÑOS.describe()"
   ]
  },
  {
   "cell_type": "code",
   "execution_count": 71,
   "id": "0ad54125",
   "metadata": {},
   "outputs": [
    {
     "data": {
      "text/plain": [
       "array(['Sobreocupado', 'Subocupado',\n",
       "       'Ocupado que no trabajó en la semana', 'Ocupado pleno'],\n",
       "      dtype=object)"
      ]
     },
     "execution_count": 71,
     "metadata": {},
     "output_type": "execute_result"
    }
   ],
   "source": [
    "estado.INTENSIDAD_DE_LA_OCUPACIÓN.unique()"
   ]
  },
  {
   "cell_type": "code",
   "execution_count": 113,
   "id": "512af1a0",
   "metadata": {},
   "outputs": [],
   "source": [
    "#Recorte de ocupados plenos y subocupados \n",
    "ocupados1 = estado.loc[estado['INTENSIDAD_DE_LA_OCUPACIÓN'].isin(['Subocupado', 'Ocupado pleno'])]  \n"
   ]
  },
  {
   "cell_type": "code",
   "execution_count": 114,
   "id": "0009d0c2",
   "metadata": {
    "scrolled": true
   },
   "outputs": [
    {
     "name": "stdout",
     "output_type": "stream",
     "text": [
      "<class 'pandas.core.frame.DataFrame'>\n",
      "RangeIndex: 12039 entries, 0 to 12038\n",
      "Data columns (total 17 columns):\n",
      " #   Column                          Non-Null Count  Dtype \n",
      "---  ------                          --------------  ----- \n",
      " 0   Unnamed: 0                      12039 non-null  int64 \n",
      " 1   CODUSU                          12039 non-null  object\n",
      " 2   REGION                          12039 non-null  object\n",
      " 3   AGLOMERADO                      12039 non-null  int64 \n",
      " 4   SEXO                            12039 non-null  object\n",
      " 5   AÑOS                            12039 non-null  int64 \n",
      " 6   NIVEL_EDUCATIVO                 12039 non-null  object\n",
      " 7   CATEGORÍA_OCUPACIONAL           12039 non-null  object\n",
      " 8   CANTIDAD_DE_TRABAJOS            12039 non-null  object\n",
      " 9   INTENSIDAD_DE_LA_OCUPACIÓN      12039 non-null  object\n",
      " 10  ANTIGUEDAD_EN_OCUPACIÓN         12039 non-null  object\n",
      " 11  MONTO_DE_INGRESO_TOTAL          12039 non-null  int64 \n",
      " 12  DECIL_DE_INGRESOS               12039 non-null  object\n",
      " 13  INGRESO_TOTAL_FAMILIAR          12039 non-null  int64 \n",
      " 14  DECILES_SEGÚN_INGRESO_FAMILIAR  12039 non-null  object\n",
      " 15  DESCUENTO_POR_JUBILACIÓN        12039 non-null  object\n",
      " 16  ESTADO_DE_OCUPACIÓN             12039 non-null  int64 \n",
      "dtypes: int64(6), object(11)\n",
      "memory usage: 1.6+ MB\n"
     ]
    }
   ],
   "source": [
    "ocupados.info()"
   ]
  },
  {
   "cell_type": "code",
   "execution_count": 116,
   "id": "da463696",
   "metadata": {},
   "outputs": [
    {
     "data": {
      "text/plain": [
       "Ocupado pleno    9746\n",
       "Subocupado       2293\n",
       "Name: INTENSIDAD_DE_LA_OCUPACIÓN, dtype: int64"
      ]
     },
     "execution_count": 116,
     "metadata": {},
     "output_type": "execute_result"
    }
   ],
   "source": [
    "ocupados1.INTENSIDAD_DE_LA_OCUPACIÓN.value_counts()"
   ]
  },
  {
   "cell_type": "code",
   "execution_count": 117,
   "id": "504cefb4",
   "metadata": {},
   "outputs": [],
   "source": [
    "ocupados1.to_excel(\"DATA/ocupados.xlsx\")"
   ]
  },
  {
   "cell_type": "code",
   "execution_count": 119,
   "id": "717ad030",
   "metadata": {
    "scrolled": true
   },
   "outputs": [
    {
     "name": "stdout",
     "output_type": "stream",
     "text": [
      "<class 'pandas.core.frame.DataFrame'>\n",
      "Int64Index: 2293 entries, 9 to 46678\n",
      "Data columns (total 16 columns):\n",
      " #   Column                          Non-Null Count  Dtype  \n",
      "---  ------                          --------------  -----  \n",
      " 0   CODUSU                          2293 non-null   object \n",
      " 1   REGION                          2293 non-null   object \n",
      " 2   AGLOMERADO                      2293 non-null   int64  \n",
      " 3   SEXO                            2293 non-null   object \n",
      " 4   AÑOS                            2293 non-null   int64  \n",
      " 5   NIVEL_EDUCATIVO                 2293 non-null   object \n",
      " 6   CATEGORÍA_OCUPACIONAL           2293 non-null   object \n",
      " 7   CANTIDAD_DE_TRABAJOS            2293 non-null   object \n",
      " 8   INTENSIDAD_DE_LA_OCUPACIÓN      2293 non-null   object \n",
      " 9   ANTIGUEDAD_EN_OCUPACIÓN         2293 non-null   object \n",
      " 10  MONTO_DE_INGRESO_TOTAL          2293 non-null   float64\n",
      " 11  DECIL_DE_INGRESOS               2293 non-null   object \n",
      " 12  INGRESO_TOTAL_FAMILIAR          2293 non-null   float64\n",
      " 13  DECILES_SEGÚN_INGRESO_FAMILIAR  2293 non-null   object \n",
      " 14  DESCUENTO_POR_JUBILACIÓN        2293 non-null   object \n",
      " 15  ESTADO_DE_OCUPACIÓN             2293 non-null   int64  \n",
      "dtypes: float64(2), int64(3), object(11)\n",
      "memory usage: 304.5+ KB\n",
      "None\n"
     ]
    }
   ],
   "source": [
    "subocupados1 = ocupados1.loc[ocupados1['INTENSIDAD_DE_LA_OCUPACIÓN'].isin(['Subocupado'])]\n",
    "print(subocupados1.info())"
   ]
  },
  {
   "cell_type": "code",
   "execution_count": 120,
   "id": "ae30249b",
   "metadata": {},
   "outputs": [],
   "source": [
    "subocupados1.to_excel(\"DATA/subocupados.xlsx\")"
   ]
  },
  {
   "cell_type": "markdown",
   "id": "fae56f92",
   "metadata": {},
   "source": [
    "La base queda con todas sus columnas y sus valores etiquetados. Cabe aclarar que, por supuesto, no fueron los valores de todas las columnas etiquetadas, solamente aquellas que correspondían a variables categóricas. Además, a los valores de ESTADO_DE_OCUPACIÓN no los etiqueté porque fue la variable elegida para recortar la base, y no será usada en la próxima sección. \n",
    "No hizo falta eliminar el caso que tenía de edad -1 porque al hacer el recorte de la base por ocupados quedó fuera. \n",
    "Queda una base de 16 columnas, sin valores nulos y con 19014 casos (correspondientes a las personas encuestadas ocupadas). "
   ]
  },
  {
   "cell_type": "markdown",
   "id": "88db9be0",
   "metadata": {},
   "source": [
    "# 4. Presentación de datos\n",
    "Vamos a presetar nuestros datos para responder las preguntas definidas en el objetivo del análisis. Poner gráficos y poner qué nos van diciendo "
   ]
  },
  {
   "cell_type": "code",
   "execution_count": 27,
   "id": "a7580daf",
   "metadata": {},
   "outputs": [],
   "source": [
    "ocupados = pd.read_excel(\"DATA/ocupados.xlsx\")\n",
    "subocupados = pd.read_excel(\"DATA/subocupados.xlsx\")"
   ]
  },
  {
   "cell_type": "code",
   "execution_count": 92,
   "id": "967c1d4a",
   "metadata": {},
   "outputs": [],
   "source": [
    "sexos = ocupados[ocupados.INTENSIDAD_DE_LA_OCUPACIÓN == \"Subocupado\"].SEXO.value_counts()\n",
    "sexoo = ocupados[ocupados.INTENSIDAD_DE_LA_OCUPACIÓN == \"Ocupado pleno\"].SEXO.value_counts()\n",
    "\n",
    "\n"
   ]
  },
  {
   "cell_type": "code",
   "execution_count": 90,
   "id": "f2d73b5c",
   "metadata": {},
   "outputs": [
    {
     "ename": "TypeError",
     "evalue": "'AxesSubplot' object is not subscriptable",
     "output_type": "error",
     "traceback": [
      "\u001b[1;31m---------------------------------------------------------------------------\u001b[0m",
      "\u001b[1;31mTypeError\u001b[0m                                 Traceback (most recent call last)",
      "\u001b[1;32m<ipython-input-90-59479d45d8b6>\u001b[0m in \u001b[0;36m<module>\u001b[1;34m\u001b[0m\n\u001b[0;32m      4\u001b[0m \u001b[1;33m\u001b[0m\u001b[0m\n\u001b[0;32m      5\u001b[0m \u001b[1;31m# primer plot\u001b[0m\u001b[1;33m\u001b[0m\u001b[1;33m\u001b[0m\u001b[1;33m\u001b[0m\u001b[0m\n\u001b[1;32m----> 6\u001b[1;33m \u001b[0maxis\u001b[0m\u001b[1;33m[\u001b[0m\u001b[1;36m0\u001b[0m\u001b[1;33m,\u001b[0m \u001b[1;36m0\u001b[0m\u001b[1;33m]\u001b[0m\u001b[1;33m.\u001b[0m\u001b[0mplot\u001b[0m\u001b[1;33m(\u001b[0m\u001b[0msexos\u001b[0m\u001b[1;33m)\u001b[0m\u001b[1;33m\u001b[0m\u001b[1;33m\u001b[0m\u001b[0m\n\u001b[0m\u001b[0;32m      7\u001b[0m \u001b[0maxis\u001b[0m\u001b[1;33m[\u001b[0m\u001b[1;36m0\u001b[0m\u001b[1;33m,\u001b[0m \u001b[1;36m0\u001b[0m\u001b[1;33m]\u001b[0m\u001b[1;33m.\u001b[0m\u001b[0mset_title\u001b[0m\u001b[1;33m(\u001b[0m\u001b[1;34m\"Subocupados según sexo\"\u001b[0m\u001b[1;33m)\u001b[0m\u001b[1;33m\u001b[0m\u001b[1;33m\u001b[0m\u001b[0m\n\u001b[0;32m      8\u001b[0m \u001b[1;33m\u001b[0m\u001b[0m\n",
      "\u001b[1;31mTypeError\u001b[0m: 'AxesSubplot' object is not subscriptable"
     ]
    },
    {
     "data": {
      "image/png": "[encoded data removed]",
      "text/plain": [
       "<Figure size 360x648 with 1 Axes>"
      ]
     },
     "metadata": {},
     "output_type": "display_data"
    }
   ],
   "source": [
    "fig, axis = plt.subplots(1, 1, figsize=(5,9))\n",
    "\n",
    "fig.suptitle('Intensidad de ocupación según sexo')\n",
    "  \n",
    "# primer plot\n",
    "axis[0, 0].plot(sexos)\n",
    "axis[0, 0].set_title(\"Subocupados según sexo\")\n",
    "  \n",
    "# segundo plot\n",
    "axis[0, 1].plot(sexoo)\n",
    "axis[0, 1].set_title(\"Ocupados según sexo\")\n",
    "\n",
    "plt.show()"
   ]
  },
  {
   "cell_type": "code",
   "execution_count": 79,
   "id": "78fca084",
   "metadata": {},
   "outputs": [
    {
     "data": {
      "image/png": "[encoded data removed]",
      "text/plain": [
       "<Figure size 360x360 with 1 Axes>"
      ]
     },
     "metadata": {},
     "output_type": "display_data"
    }
   ],
   "source": [
    "sexo = ocupados[ocupados.INTENSIDAD_DE_LA_OCUPACIÓN == \"Subocupado\"].SEXO.value_counts()\n",
    "sexoplot = sexo.plot.pie(x='label', y='values',figsize=(5,5), shadow=True, colors = ['orange','lightblue'], autopct='%1.1f%%');\n",
    "sexooc = ocupados[ocupados.INTENSIDAD_DE_LA_OCUPACIÓN == \"Ocupado pleno\"].SEXO.value_counts()\n",
    "sexoocplot = sexooc.plot.pie(x='label', y='values',figsize=(5,5), shadow=True, colors = ['orange','lightblue'], autopct='%1.1f%%');"
   ]
  },
  {
   "cell_type": "code",
   "execution_count": 91,
   "id": "0fa9efc9",
   "metadata": {},
   "outputs": [
    {
     "data": {
      "image/png": "[encoded data removed]",
      "text/plain": [
       "<Figure size 360x360 with 1 Axes>"
      ]
     },
     "metadata": {},
     "output_type": "display_data"
    }
   ],
   "source": [
    "sexoplot = sexo.plot.pie(x='label', y='values',figsize=(5,5), shadow=True, colors = ['orange','lightblue'], autopct='%1.1f%%');"
   ]
  },
  {
   "cell_type": "code",
   "execution_count": 80,
   "id": "20dc020d",
   "metadata": {},
   "outputs": [
    {
     "ename": "TypeError",
     "evalue": "float() argument must be a string or a number, not 'AxesSubplot'",
     "output_type": "error",
     "traceback": [
      "\u001b[1;31m---------------------------------------------------------------------------\u001b[0m",
      "\u001b[1;31mTypeError\u001b[0m                                 Traceback (most recent call last)",
      "\u001b[1;32m<ipython-input-80-623bac42b217>\u001b[0m in \u001b[0;36m<module>\u001b[1;34m\u001b[0m\n\u001b[0;32m      4\u001b[0m \u001b[1;33m\u001b[0m\u001b[0m\n\u001b[0;32m      5\u001b[0m \u001b[0mfig\u001b[0m\u001b[1;33m.\u001b[0m\u001b[0msuptitle\u001b[0m\u001b[1;33m(\u001b[0m\u001b[1;34m'Intensidad de ocupación según sexo'\u001b[0m\u001b[1;33m)\u001b[0m\u001b[1;33m\u001b[0m\u001b[1;33m\u001b[0m\u001b[0m\n\u001b[1;32m----> 6\u001b[1;33m \u001b[0max1\u001b[0m\u001b[1;33m.\u001b[0m\u001b[0mplot\u001b[0m\u001b[1;33m(\u001b[0m\u001b[0msexo\u001b[0m\u001b[1;33m.\u001b[0m\u001b[0mplot\u001b[0m\u001b[1;33m.\u001b[0m\u001b[0mpie\u001b[0m\u001b[1;33m(\u001b[0m\u001b[0mx\u001b[0m\u001b[1;33m=\u001b[0m\u001b[1;34m'label'\u001b[0m\u001b[1;33m,\u001b[0m \u001b[0my\u001b[0m\u001b[1;33m=\u001b[0m\u001b[1;34m'values'\u001b[0m\u001b[1;33m,\u001b[0m\u001b[0mfigsize\u001b[0m\u001b[1;33m=\u001b[0m\u001b[1;33m(\u001b[0m\u001b[1;36m5\u001b[0m\u001b[1;33m,\u001b[0m\u001b[1;36m5\u001b[0m\u001b[1;33m)\u001b[0m\u001b[1;33m,\u001b[0m \u001b[0mshadow\u001b[0m\u001b[1;33m=\u001b[0m\u001b[1;32mTrue\u001b[0m\u001b[1;33m,\u001b[0m \u001b[0mcolors\u001b[0m \u001b[1;33m=\u001b[0m \u001b[1;33m[\u001b[0m\u001b[1;34m'orange'\u001b[0m\u001b[1;33m,\u001b[0m\u001b[1;34m'lightblue'\u001b[0m\u001b[1;33m]\u001b[0m\u001b[1;33m,\u001b[0m \u001b[0mautopct\u001b[0m\u001b[1;33m=\u001b[0m\u001b[1;34m'%1.1f%%'\u001b[0m\u001b[1;33m)\u001b[0m\u001b[1;33m)\u001b[0m\u001b[1;33m\u001b[0m\u001b[1;33m\u001b[0m\u001b[0m\n\u001b[0m\u001b[0;32m      7\u001b[0m \u001b[0max2\u001b[0m\u001b[1;33m.\u001b[0m\u001b[0mplot\u001b[0m\u001b[1;33m(\u001b[0m\u001b[0msexooc\u001b[0m\u001b[1;33m.\u001b[0m\u001b[0mplot\u001b[0m\u001b[1;33m.\u001b[0m\u001b[0mpie\u001b[0m\u001b[1;33m(\u001b[0m\u001b[0mx\u001b[0m\u001b[1;33m=\u001b[0m\u001b[1;34m'label'\u001b[0m\u001b[1;33m,\u001b[0m \u001b[0my\u001b[0m\u001b[1;33m=\u001b[0m\u001b[1;34m'values'\u001b[0m\u001b[1;33m,\u001b[0m\u001b[0mfigsize\u001b[0m\u001b[1;33m=\u001b[0m\u001b[1;33m(\u001b[0m\u001b[1;36m5\u001b[0m\u001b[1;33m,\u001b[0m\u001b[1;36m5\u001b[0m\u001b[1;33m)\u001b[0m\u001b[1;33m,\u001b[0m \u001b[0mshadow\u001b[0m\u001b[1;33m=\u001b[0m\u001b[1;32mTrue\u001b[0m\u001b[1;33m,\u001b[0m \u001b[0mcolors\u001b[0m \u001b[1;33m=\u001b[0m \u001b[1;33m[\u001b[0m\u001b[1;34m'orange'\u001b[0m\u001b[1;33m,\u001b[0m\u001b[1;34m'lightblue'\u001b[0m\u001b[1;33m]\u001b[0m\u001b[1;33m,\u001b[0m \u001b[0mautopct\u001b[0m\u001b[1;33m=\u001b[0m\u001b[1;34m'%1.1f%%'\u001b[0m\u001b[1;33m)\u001b[0m\u001b[1;33m)\u001b[0m\u001b[1;33m;\u001b[0m\u001b[1;33m\u001b[0m\u001b[1;33m\u001b[0m\u001b[0m\n",
      "\u001b[1;32m~\\anaconda3\\lib\\site-packages\\matplotlib\\axes\\_axes.py\u001b[0m in \u001b[0;36mplot\u001b[1;34m(self, scalex, scaley, data, *args, **kwargs)\u001b[0m\n\u001b[0;32m   1743\u001b[0m         \u001b[0mlines\u001b[0m \u001b[1;33m=\u001b[0m \u001b[1;33m[\u001b[0m\u001b[1;33m*\u001b[0m\u001b[0mself\u001b[0m\u001b[1;33m.\u001b[0m\u001b[0m_get_lines\u001b[0m\u001b[1;33m(\u001b[0m\u001b[1;33m*\u001b[0m\u001b[0margs\u001b[0m\u001b[1;33m,\u001b[0m \u001b[0mdata\u001b[0m\u001b[1;33m=\u001b[0m\u001b[0mdata\u001b[0m\u001b[1;33m,\u001b[0m \u001b[1;33m**\u001b[0m\u001b[0mkwargs\u001b[0m\u001b[1;33m)\u001b[0m\u001b[1;33m]\u001b[0m\u001b[1;33m\u001b[0m\u001b[1;33m\u001b[0m\u001b[0m\n\u001b[0;32m   1744\u001b[0m         \u001b[1;32mfor\u001b[0m \u001b[0mline\u001b[0m \u001b[1;32min\u001b[0m \u001b[0mlines\u001b[0m\u001b[1;33m:\u001b[0m\u001b[1;33m\u001b[0m\u001b[1;33m\u001b[0m\u001b[0m\n\u001b[1;32m-> 1745\u001b[1;33m             \u001b[0mself\u001b[0m\u001b[1;33m.\u001b[0m\u001b[0madd_line\u001b[0m\u001b[1;33m(\u001b[0m\u001b[0mline\u001b[0m\u001b[1;33m)\u001b[0m\u001b[1;33m\u001b[0m\u001b[1;33m\u001b[0m\u001b[0m\n\u001b[0m\u001b[0;32m   1746\u001b[0m         \u001b[0mself\u001b[0m\u001b[1;33m.\u001b[0m\u001b[0m_request_autoscale_view\u001b[0m\u001b[1;33m(\u001b[0m\u001b[0mscalex\u001b[0m\u001b[1;33m=\u001b[0m\u001b[0mscalex\u001b[0m\u001b[1;33m,\u001b[0m \u001b[0mscaley\u001b[0m\u001b[1;33m=\u001b[0m\u001b[0mscaley\u001b[0m\u001b[1;33m)\u001b[0m\u001b[1;33m\u001b[0m\u001b[1;33m\u001b[0m\u001b[0m\n\u001b[0;32m   1747\u001b[0m         \u001b[1;32mreturn\u001b[0m \u001b[0mlines\u001b[0m\u001b[1;33m\u001b[0m\u001b[1;33m\u001b[0m\u001b[0m\n",
      "\u001b[1;32m~\\anaconda3\\lib\\site-packages\\matplotlib\\axes\\_base.py\u001b[0m in \u001b[0;36madd_line\u001b[1;34m(self, line)\u001b[0m\n\u001b[0;32m   1962\u001b[0m             \u001b[0mline\u001b[0m\u001b[1;33m.\u001b[0m\u001b[0mset_clip_path\u001b[0m\u001b[1;33m(\u001b[0m\u001b[0mself\u001b[0m\u001b[1;33m.\u001b[0m\u001b[0mpatch\u001b[0m\u001b[1;33m)\u001b[0m\u001b[1;33m\u001b[0m\u001b[1;33m\u001b[0m\u001b[0m\n\u001b[0;32m   1963\u001b[0m \u001b[1;33m\u001b[0m\u001b[0m\n\u001b[1;32m-> 1964\u001b[1;33m         \u001b[0mself\u001b[0m\u001b[1;33m.\u001b[0m\u001b[0m_update_line_limits\u001b[0m\u001b[1;33m(\u001b[0m\u001b[0mline\u001b[0m\u001b[1;33m)\u001b[0m\u001b[1;33m\u001b[0m\u001b[1;33m\u001b[0m\u001b[0m\n\u001b[0m\u001b[0;32m   1965\u001b[0m         \u001b[1;32mif\u001b[0m \u001b[1;32mnot\u001b[0m \u001b[0mline\u001b[0m\u001b[1;33m.\u001b[0m\u001b[0mget_label\u001b[0m\u001b[1;33m(\u001b[0m\u001b[1;33m)\u001b[0m\u001b[1;33m:\u001b[0m\u001b[1;33m\u001b[0m\u001b[1;33m\u001b[0m\u001b[0m\n\u001b[0;32m   1966\u001b[0m             \u001b[0mline\u001b[0m\u001b[1;33m.\u001b[0m\u001b[0mset_label\u001b[0m\u001b[1;33m(\u001b[0m\u001b[1;34m'_line%d'\u001b[0m \u001b[1;33m%\u001b[0m \u001b[0mlen\u001b[0m\u001b[1;33m(\u001b[0m\u001b[0mself\u001b[0m\u001b[1;33m.\u001b[0m\u001b[0mlines\u001b[0m\u001b[1;33m)\u001b[0m\u001b[1;33m)\u001b[0m\u001b[1;33m\u001b[0m\u001b[1;33m\u001b[0m\u001b[0m\n",
      "\u001b[1;32m~\\anaconda3\\lib\\site-packages\\matplotlib\\axes\\_base.py\u001b[0m in \u001b[0;36m_update_line_limits\u001b[1;34m(self, line)\u001b[0m\n\u001b[0;32m   1984\u001b[0m         \u001b[0mFigures\u001b[0m \u001b[0mout\u001b[0m \u001b[0mthe\u001b[0m \u001b[0mdata\u001b[0m \u001b[0mlimit\u001b[0m \u001b[0mof\u001b[0m \u001b[0mthe\u001b[0m \u001b[0mgiven\u001b[0m \u001b[0mline\u001b[0m\u001b[1;33m,\u001b[0m \u001b[0mupdating\u001b[0m \u001b[0mself\u001b[0m\u001b[1;33m.\u001b[0m\u001b[0mdataLim\u001b[0m\u001b[1;33m.\u001b[0m\u001b[1;33m\u001b[0m\u001b[1;33m\u001b[0m\u001b[0m\n\u001b[0;32m   1985\u001b[0m         \"\"\"\n\u001b[1;32m-> 1986\u001b[1;33m         \u001b[0mpath\u001b[0m \u001b[1;33m=\u001b[0m \u001b[0mline\u001b[0m\u001b[1;33m.\u001b[0m\u001b[0mget_path\u001b[0m\u001b[1;33m(\u001b[0m\u001b[1;33m)\u001b[0m\u001b[1;33m\u001b[0m\u001b[1;33m\u001b[0m\u001b[0m\n\u001b[0m\u001b[0;32m   1987\u001b[0m         \u001b[1;32mif\u001b[0m \u001b[0mpath\u001b[0m\u001b[1;33m.\u001b[0m\u001b[0mvertices\u001b[0m\u001b[1;33m.\u001b[0m\u001b[0msize\u001b[0m \u001b[1;33m==\u001b[0m \u001b[1;36m0\u001b[0m\u001b[1;33m:\u001b[0m\u001b[1;33m\u001b[0m\u001b[1;33m\u001b[0m\u001b[0m\n\u001b[0;32m   1988\u001b[0m             \u001b[1;32mreturn\u001b[0m\u001b[1;33m\u001b[0m\u001b[1;33m\u001b[0m\u001b[0m\n",
      "\u001b[1;32m~\\anaconda3\\lib\\site-packages\\matplotlib\\lines.py\u001b[0m in \u001b[0;36mget_path\u001b[1;34m(self)\u001b[0m\n\u001b[0;32m   1009\u001b[0m         \"\"\"\n\u001b[0;32m   1010\u001b[0m         \u001b[1;32mif\u001b[0m \u001b[0mself\u001b[0m\u001b[1;33m.\u001b[0m\u001b[0m_invalidy\u001b[0m \u001b[1;32mor\u001b[0m \u001b[0mself\u001b[0m\u001b[1;33m.\u001b[0m\u001b[0m_invalidx\u001b[0m\u001b[1;33m:\u001b[0m\u001b[1;33m\u001b[0m\u001b[1;33m\u001b[0m\u001b[0m\n\u001b[1;32m-> 1011\u001b[1;33m             \u001b[0mself\u001b[0m\u001b[1;33m.\u001b[0m\u001b[0mrecache\u001b[0m\u001b[1;33m(\u001b[0m\u001b[1;33m)\u001b[0m\u001b[1;33m\u001b[0m\u001b[1;33m\u001b[0m\u001b[0m\n\u001b[0m\u001b[0;32m   1012\u001b[0m         \u001b[1;32mreturn\u001b[0m \u001b[0mself\u001b[0m\u001b[1;33m.\u001b[0m\u001b[0m_path\u001b[0m\u001b[1;33m\u001b[0m\u001b[1;33m\u001b[0m\u001b[0m\n\u001b[0;32m   1013\u001b[0m \u001b[1;33m\u001b[0m\u001b[0m\n",
      "\u001b[1;32m~\\anaconda3\\lib\\site-packages\\matplotlib\\lines.py\u001b[0m in \u001b[0;36mrecache\u001b[1;34m(self, always)\u001b[0m\n\u001b[0;32m    656\u001b[0m         \u001b[1;32mif\u001b[0m \u001b[0malways\u001b[0m \u001b[1;32mor\u001b[0m \u001b[0mself\u001b[0m\u001b[1;33m.\u001b[0m\u001b[0m_invalidy\u001b[0m\u001b[1;33m:\u001b[0m\u001b[1;33m\u001b[0m\u001b[1;33m\u001b[0m\u001b[0m\n\u001b[0;32m    657\u001b[0m             \u001b[0myconv\u001b[0m \u001b[1;33m=\u001b[0m \u001b[0mself\u001b[0m\u001b[1;33m.\u001b[0m\u001b[0mconvert_yunits\u001b[0m\u001b[1;33m(\u001b[0m\u001b[0mself\u001b[0m\u001b[1;33m.\u001b[0m\u001b[0m_yorig\u001b[0m\u001b[1;33m)\u001b[0m\u001b[1;33m\u001b[0m\u001b[1;33m\u001b[0m\u001b[0m\n\u001b[1;32m--> 658\u001b[1;33m             \u001b[0my\u001b[0m \u001b[1;33m=\u001b[0m \u001b[0m_to_unmasked_float_array\u001b[0m\u001b[1;33m(\u001b[0m\u001b[0myconv\u001b[0m\u001b[1;33m)\u001b[0m\u001b[1;33m.\u001b[0m\u001b[0mravel\u001b[0m\u001b[1;33m(\u001b[0m\u001b[1;33m)\u001b[0m\u001b[1;33m\u001b[0m\u001b[1;33m\u001b[0m\u001b[0m\n\u001b[0m\u001b[0;32m    659\u001b[0m         \u001b[1;32melse\u001b[0m\u001b[1;33m:\u001b[0m\u001b[1;33m\u001b[0m\u001b[1;33m\u001b[0m\u001b[0m\n\u001b[0;32m    660\u001b[0m             \u001b[0my\u001b[0m \u001b[1;33m=\u001b[0m \u001b[0mself\u001b[0m\u001b[1;33m.\u001b[0m\u001b[0m_y\u001b[0m\u001b[1;33m\u001b[0m\u001b[1;33m\u001b[0m\u001b[0m\n",
      "\u001b[1;32m~\\anaconda3\\lib\\site-packages\\matplotlib\\cbook\\__init__.py\u001b[0m in \u001b[0;36m_to_unmasked_float_array\u001b[1;34m(x)\u001b[0m\n\u001b[0;32m   1287\u001b[0m         \u001b[1;32mreturn\u001b[0m \u001b[0mnp\u001b[0m\u001b[1;33m.\u001b[0m\u001b[0mma\u001b[0m\u001b[1;33m.\u001b[0m\u001b[0masarray\u001b[0m\u001b[1;33m(\u001b[0m\u001b[0mx\u001b[0m\u001b[1;33m,\u001b[0m \u001b[0mfloat\u001b[0m\u001b[1;33m)\u001b[0m\u001b[1;33m.\u001b[0m\u001b[0mfilled\u001b[0m\u001b[1;33m(\u001b[0m\u001b[0mnp\u001b[0m\u001b[1;33m.\u001b[0m\u001b[0mnan\u001b[0m\u001b[1;33m)\u001b[0m\u001b[1;33m\u001b[0m\u001b[1;33m\u001b[0m\u001b[0m\n\u001b[0;32m   1288\u001b[0m     \u001b[1;32melse\u001b[0m\u001b[1;33m:\u001b[0m\u001b[1;33m\u001b[0m\u001b[1;33m\u001b[0m\u001b[0m\n\u001b[1;32m-> 1289\u001b[1;33m         \u001b[1;32mreturn\u001b[0m \u001b[0mnp\u001b[0m\u001b[1;33m.\u001b[0m\u001b[0masarray\u001b[0m\u001b[1;33m(\u001b[0m\u001b[0mx\u001b[0m\u001b[1;33m,\u001b[0m \u001b[0mfloat\u001b[0m\u001b[1;33m)\u001b[0m\u001b[1;33m\u001b[0m\u001b[1;33m\u001b[0m\u001b[0m\n\u001b[0m\u001b[0;32m   1290\u001b[0m \u001b[1;33m\u001b[0m\u001b[0m\n\u001b[0;32m   1291\u001b[0m \u001b[1;33m\u001b[0m\u001b[0m\n",
      "\u001b[1;32m~\\anaconda3\\lib\\site-packages\\numpy\\core\\_asarray.py\u001b[0m in \u001b[0;36masarray\u001b[1;34m(a, dtype, order, like)\u001b[0m\n\u001b[0;32m    100\u001b[0m         \u001b[1;32mreturn\u001b[0m \u001b[0m_asarray_with_like\u001b[0m\u001b[1;33m(\u001b[0m\u001b[0ma\u001b[0m\u001b[1;33m,\u001b[0m \u001b[0mdtype\u001b[0m\u001b[1;33m=\u001b[0m\u001b[0mdtype\u001b[0m\u001b[1;33m,\u001b[0m \u001b[0morder\u001b[0m\u001b[1;33m=\u001b[0m\u001b[0morder\u001b[0m\u001b[1;33m,\u001b[0m \u001b[0mlike\u001b[0m\u001b[1;33m=\u001b[0m\u001b[0mlike\u001b[0m\u001b[1;33m)\u001b[0m\u001b[1;33m\u001b[0m\u001b[1;33m\u001b[0m\u001b[0m\n\u001b[0;32m    101\u001b[0m \u001b[1;33m\u001b[0m\u001b[0m\n\u001b[1;32m--> 102\u001b[1;33m     \u001b[1;32mreturn\u001b[0m \u001b[0marray\u001b[0m\u001b[1;33m(\u001b[0m\u001b[0ma\u001b[0m\u001b[1;33m,\u001b[0m \u001b[0mdtype\u001b[0m\u001b[1;33m,\u001b[0m \u001b[0mcopy\u001b[0m\u001b[1;33m=\u001b[0m\u001b[1;32mFalse\u001b[0m\u001b[1;33m,\u001b[0m \u001b[0morder\u001b[0m\u001b[1;33m=\u001b[0m\u001b[0morder\u001b[0m\u001b[1;33m)\u001b[0m\u001b[1;33m\u001b[0m\u001b[1;33m\u001b[0m\u001b[0m\n\u001b[0m\u001b[0;32m    103\u001b[0m \u001b[1;33m\u001b[0m\u001b[0m\n\u001b[0;32m    104\u001b[0m \u001b[1;33m\u001b[0m\u001b[0m\n",
      "\u001b[1;31mTypeError\u001b[0m: float() argument must be a string or a number, not 'AxesSubplot'"
     ]
    },
    {
     "data": {
      "image/png": "[encoded data removed]",
      "text/plain": [
       "<Figure size 360x360 with 2 Axes>"
      ]
     },
     "metadata": {},
     "output_type": "display_data"
    }
   ],
   "source": [
    "#SEXO\n",
    "fig, (ax1, ax2) = plt.subplots(1, 2, figsize=(10,10))\n",
    "\n",
    "fig.suptitle('Intensidad de ocupación según sexo')\n",
    "ax1.plot(sexo.plot.pie(x='label', y='values',figsize=(5,5), shadow=True, colors = ['orange','lightblue'], autopct='%1.1f%%'))\n",
    "ax2.plot(sexooc.plot.pie(x='label', y='values',figsize=(5,5), shadow=True, colors = ['orange','lightblue'], autopct='%1.1f%%'));"
   ]
  },
  {
   "cell_type": "code",
   "execution_count": 104,
   "id": "a2730f51",
   "metadata": {
    "scrolled": true
   },
   "outputs": [
    {
     "data": {
      "image/png": "[encoded data removed]",
      "text/plain": [
       "<Figure size 432x288 with 1 Axes>"
      ]
     },
     "metadata": {},
     "output_type": "display_data"
    }
   ],
   "source": [
    "sexoo = ocupados[ocupados.INTENSIDAD_DE_LA_OCUPACIÓN == \"Ocupado pleno\"].SEXO.value_counts()\n",
    "sexooplt = sexoo.plot.pie(colors= [\"orange\",\"lightblue\"], autopct='%1.1f%%')\n"
   ]
  },
  {
   "cell_type": "code",
   "execution_count": 105,
   "id": "b0fb43c8",
   "metadata": {
    "scrolled": true
   },
   "outputs": [
    {
     "data": {
      "image/png": "[encoded data removed]",
      "text/plain": [
       "<Figure size 432x288 with 1 Axes>"
      ]
     },
     "metadata": {},
     "output_type": "display_data"
    }
   ],
   "source": [
    "sexos = ocupados[ocupados.INTENSIDAD_DE_LA_OCUPACIÓN == \"Subocupado\"].SEXO.value_counts()\n",
    "sexosplt = sexos.plot.pie(colors= [\"orange\",\"lightblue\"], autopct='%1.1f%%')"
   ]
  },
  {
   "cell_type": "code",
   "execution_count": 118,
   "id": "3832ca5f",
   "metadata": {},
   "outputs": [
    {
     "ename": "TypeError",
     "evalue": "'AxesSubplot' object is not subscriptable",
     "output_type": "error",
     "traceback": [
      "\u001b[1;31m---------------------------------------------------------------------------\u001b[0m",
      "\u001b[1;31mTypeError\u001b[0m                                 Traceback (most recent call last)",
      "\u001b[1;32m<ipython-input-118-ac1b46566646>\u001b[0m in \u001b[0;36m<module>\u001b[1;34m\u001b[0m\n\u001b[0;32m      4\u001b[0m \u001b[1;33m\u001b[0m\u001b[0m\n\u001b[0;32m      5\u001b[0m \u001b[1;33m\u001b[0m\u001b[0m\n\u001b[1;32m----> 6\u001b[1;33m \u001b[0maxis\u001b[0m\u001b[1;33m[\u001b[0m\u001b[1;36m0\u001b[0m\u001b[1;33m,\u001b[0m \u001b[1;36m0\u001b[0m\u001b[1;33m]\u001b[0m\u001b[1;33m.\u001b[0m\u001b[0mplot\u001b[0m\u001b[1;33m(\u001b[0m\u001b[0msexosplt\u001b[0m\u001b[1;33m)\u001b[0m\u001b[1;33m\u001b[0m\u001b[1;33m\u001b[0m\u001b[0m\n\u001b[0m\u001b[0;32m      7\u001b[0m \u001b[0maxis\u001b[0m\u001b[1;33m[\u001b[0m\u001b[1;36m0\u001b[0m\u001b[1;33m,\u001b[0m \u001b[1;36m0\u001b[0m\u001b[1;33m]\u001b[0m\u001b[1;33m.\u001b[0m\u001b[0mset_title\u001b[0m\u001b[1;33m(\u001b[0m\u001b[1;34m\"Subocupación según sexo\"\u001b[0m\u001b[1;33m)\u001b[0m\u001b[1;33m\u001b[0m\u001b[1;33m\u001b[0m\u001b[0m\n\u001b[0;32m      8\u001b[0m \u001b[1;33m\u001b[0m\u001b[0m\n",
      "\u001b[1;31mTypeError\u001b[0m: 'AxesSubplot' object is not subscriptable"
     ]
    },
    {
     "data": {
      "image/png": "[encoded data removed]",
      "text/plain": [
       "<Figure size 720x720 with 2 Axes>"
      ]
     },
     "metadata": {},
     "output_type": "display_data"
    }
   ],
   "source": [
    "fig, (ax1, ax2) = plt.subplots(1, 2, figsize=(10,10))\n",
    "\n",
    "fig.suptitle('Intensidad de ocupación según sexo')\n",
    "\n",
    "\n",
    "axis[0, 0].plot(sexosplt)\n",
    "axis[0, 0].set_title(\"Subocupación según sexo\")\n",
    "  \n",
    "\n",
    "axis[0, 1].plot(sexooplt)\n",
    "axis[0, 1].set_title(\"Ocupados plenos según sexo\")"
   ]
  },
  {
   "cell_type": "markdown",
   "id": "c99b1cdb",
   "metadata": {},
   "source": [
    "# 5 Conclusiones, qué estaba buscando, qué encontré"
   ]
  },
  {
   "cell_type": "markdown",
   "id": "3b50f00f",
   "metadata": {},
   "source": [
    "# 6 Referencias\n",
    "links a recursos que utilizamos y que nos sirvieron para análisis"
   ]
  }
 ],
 "metadata": {
  "kernelspec": {
   "display_name": "Python 3",
   "language": "python",
   "name": "python3"
  },
  "language_info": {
   "codemirror_mode": {
    "name": "ipython",
    "version": 3
   },
   "file_extension": ".py",
   "mimetype": "text/x-python",
   "name": "python",
   "nbconvert_exporter": "python",
   "pygments_lexer": "ipython3",
   "version": "3.8.8"
  }
 },
 "nbformat": 4,
 "nbformat_minor": 5
}
