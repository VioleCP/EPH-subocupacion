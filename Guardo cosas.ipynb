{
 "cells": [
  {
   "cell_type": "code",
   "execution_count": null,
   "id": "d5dc9cbd",
   "metadata": {},
   "outputs": [],
   "source": [
    "intensi = eph.groupby('INTENSI')['CODUSU'].value_counts(dropna=False)\n",
    "intensi.plot.bar()"
   ]
  },
  {
   "cell_type": "code",
   "execution_count": null,
   "id": "adbd53ee",
   "metadata": {},
   "outputs": [],
   "source": [
    "def unicosYporcentajes(datos):\n",
    "    datos = eph[\"\"]\n",
    "    return print(eph.datos.unique()) & eph.datos.value_counts(dropna=False, normalize=True)\n",
    "unicosYporcentajes(\"INTENSI\")"
   ]
  },
  {
   "cell_type": "code",
   "execution_count": null,
   "id": "d836e041",
   "metadata": {},
   "outputs": [],
   "source": [
    "genero = subocupados.groupby('CH04')['CODUSU'].count()\n",
    "genero_plot = genero.plot.bar()"
   ]
  },
  {
   "cell_type": "code",
   "execution_count": null,
   "id": "c7c44868",
   "metadata": {},
   "outputs": [],
   "source": [
    "subocupados1 = ocupados1.loc[ocupados1['INTENSIDAD_DE_LA_OCUPACIÓN'].isin(['Subocupado'])]\n",
    "print(subocupados1.info())\n",
    "subocupados1.to_excel(\"DATA/subocupados.xlsx\")"
   ]
  },
  {
   "cell_type": "code",
   "execution_count": null,
   "id": "14f394a8",
   "metadata": {},
   "outputs": [],
   "source": [
    "!conda install -c conda-forge matplotlib==3.4.2"
   ]
  },
  {
   "cell_type": "code",
   "execution_count": null,
   "id": "7346da45",
   "metadata": {},
   "outputs": [],
   "source": []
  }
 ],
 "metadata": {
  "kernelspec": {
   "display_name": "Python 3",
   "language": "python",
   "name": "python3"
  },
  "language_info": {
   "codemirror_mode": {
    "name": "ipython",
    "version": 3
   },
   "file_extension": ".py",
   "mimetype": "text/x-python",
   "name": "python",
   "nbconvert_exporter": "python",
   "pygments_lexer": "ipython3",
   "version": "3.8.8"
  }
 },
 "nbformat": 4,
 "nbformat_minor": 5
}
