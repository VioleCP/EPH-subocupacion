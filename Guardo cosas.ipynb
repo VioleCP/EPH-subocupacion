{
 "cells": [
  {
   "cell_type": "code",
   "execution_count": null,
   "id": "d5dc9cbd",
   "metadata": {},
   "outputs": [],
   "source": [
    "intensi = eph.groupby('INTENSI')['CODUSU'].value_counts(dropna=False)\n",
    "intensi.plot.bar()"
   ]
  },
  {
   "cell_type": "code",
   "execution_count": null,
   "id": "adbd53ee",
   "metadata": {},
   "outputs": [],
   "source": [
    "def unicosYporcentajes(datos):\n",
    "    datos = eph[\"\"]\n",
    "    return print(eph.datos.unique()) & eph.datos.value_counts(dropna=False, normalize=True)\n",
    "unicosYporcentajes(\"INTENSI\")"
   ]
  },
  {
   "cell_type": "code",
   "execution_count": null,
   "id": "d836e041",
   "metadata": {},
   "outputs": [],
   "source": [
    "genero = subocupados.groupby('CH04')['CODUSU'].count()\n",
    "genero_plot = genero.plot.bar()"
   ]
  },
  {
   "cell_type": "code",
   "execution_count": null,
   "id": "c7c44868",
   "metadata": {},
   "outputs": [],
   "source": [
    "subocupados1 = ocupados1.loc[ocupados1['INTENSIDAD_DE_LA_OCUPACIÓN'].isin(['Subocupado'])]\n",
    "print(subocupados1.info())\n",
    "subocupados1.to_excel(\"DATA/subocupados.xlsx\")"
   ]
  },
  {
   "cell_type": "code",
   "execution_count": null,
   "id": "14f394a8",
   "metadata": {},
   "outputs": [],
   "source": [
    "!conda install -c conda-forge matplotlib==3.4.2"
   ]
  },
  {
   "cell_type": "code",
   "execution_count": null,
   "id": "7346da45",
   "metadata": {},
   "outputs": [],
   "source": [
    "labels = [ 'Subocupados', 'Ocupados plenos']\n",
    "\n",
    "\n",
    "ax = sns.catplot(x='INTENSIDAD_DE_LA_OCUPACIÓN', hue='NIVEL_EDUCATIVO', kind='count', data=ocupados,height=5, aspect=2, color='purple');\n",
    "\n",
    "ax.set(xticks=range(2), xticklabels=labels)\n",
    "\n",
    "plt.xlabel(\"Intensidad de la ocupación\")\n",
    "plt.ylabel(\"Cantidad de personas\")\n",
    "plt.title(\"Intensidad de la ocupación según nivel educativo\");"
   ]
  },
  {
   "cell_type": "code",
   "execution_count": null,
   "id": "bbed17f7",
   "metadata": {},
   "outputs": [],
   "source": [
    "#primer scatter\n",
    "sctoc = ocupados[ocupados.INTENSIDAD_DE_LA_OCUPACIÓN == \"Ocupado pleno\"].groupby(\"MONTO_DE_INGRESO_TOTAL\")[\"CODUSU\"].count()\n",
    "sctocplt = sctoc.reset_index()\n",
    "plotsub = sctocplt.plot.scatter(x='MONTO_DE_INGRESO_TOTAL', y='CODUSU', title= \"Monto de ingreso total de subocupados\", c=\"olive\")"
   ]
  }
 ],
 "metadata": {
  "kernelspec": {
   "display_name": "Python 3",
   "language": "python",
   "name": "python3"
  },
  "language_info": {
   "codemirror_mode": {
    "name": "ipython",
    "version": 3
   },
   "file_extension": ".py",
   "mimetype": "text/x-python",
   "name": "python",
   "nbconvert_exporter": "python",
   "pygments_lexer": "ipython3",
   "version": "3.8.8"
  }
 },
 "nbformat": 4,
 "nbformat_minor": 5
}
